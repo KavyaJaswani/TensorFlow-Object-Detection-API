{
 "cells": [
  {
   "cell_type": "markdown",
   "metadata": {
    "id": "QUANWN3rpfC9"
   },
   "source": [
    "# 0. Setup Paths"
   ]
  },
  {
   "cell_type": "code",
   "execution_count": 1,
   "metadata": {
    "id": "146BB11JpfDA"
   },
   "outputs": [],
   "source": [
    "import os #like always for creating paths ,etc."
   ]
  },
  {
   "cell_type": "markdown",
   "metadata": {},
   "source": [
    "here we are setting up our pretrained model variables"
   ]
  },
  {
   "cell_type": "markdown",
   "metadata": {},
   "source": [
    "pbtxt file that contains text graph definition in protobuf format."
   ]
  },
  {
   "cell_type": "code",
   "execution_count": 2,
   "metadata": {
    "id": "42hJEdo_pfDB"
   },
   "outputs": [],
   "source": [
    "CUSTOM_MODEL_NAME = 'my_ssd_mobnet_tuned' #cuz that's the name of the model we chose from the model zoo\n",
    "PRETRAINED_MODEL_NAME = 'ssd_mobilenet_v2_fpnlite_320x320_coco17_tpu-8'# this is what we copied from the model url\n",
    "PRETRAINED_MODEL_URL = 'http://download.tensorflow.org/models/object_detection/tf2/20200711/ssd_mobilenet_v2_fpnlite_320x320_coco17_tpu-8.tar.gz'# fully copied and pasted from tensorflow zoo t2\n",
    "TF_RECORD_SCRIPT_NAME = 'generate_tfrecord.py'# we are goin to convert the images and their respective label xml files into a tensorflow record and hence the name\n",
    "LABEL_MAP_NAME = 'label_map.pbtxt'"
   ]
  },
  {
   "cell_type": "markdown",
   "metadata": {},
   "source": [
    "we are keeping the paths ready for us to easily use whenever needed\n",
    "here we created a dictionary of all the paths and then we will iterate through each on of them to create the folders"
   ]
  },
  {
   "cell_type": "code",
   "execution_count": 3,
   "metadata": {
    "id": "hbPhYVy_pfDB"
   },
   "outputs": [],
   "source": [
    "paths = {\n",
    "    'WORKSPACE_PATH': os.path.join('Tensorflow', 'workspace'),\n",
    "    'SCRIPTS_PATH': os.path.join('Tensorflow','scripts'),\n",
    "    'APIMODEL_PATH': os.path.join('Tensorflow','models'),\n",
    "    'ANNOTATION_PATH': os.path.join('Tensorflow', 'workspace','annotations'),\n",
    "    'IMAGE_PATH': os.path.join('Tensorflow', 'workspace','images'),\n",
    "    'MODEL_PATH': os.path.join('Tensorflow', 'workspace','models'),\n",
    "    'PRETRAINED_MODEL_PATH': os.path.join('Tensorflow', 'workspace','pre-trained-models'),\n",
    "    'CHECKPOINT_PATH': os.path.join('Tensorflow', 'workspace','models',CUSTOM_MODEL_NAME), \n",
    "    'OUTPUT_PATH': os.path.join('Tensorflow', 'workspace','models',CUSTOM_MODEL_NAME, 'export'), \n",
    "    'TFJS_PATH':os.path.join('Tensorflow', 'workspace','models',CUSTOM_MODEL_NAME, 'tfjsexport'), \n",
    "    'TFLITE_PATH':os.path.join('Tensorflow', 'workspace','models',CUSTOM_MODEL_NAME, 'tfliteexport'), \n",
    "    'PROTOC_PATH':os.path.join('Tensorflow','protoc')\n",
    " }"
   ]
  },
  {
   "cell_type": "code",
   "execution_count": 4,
   "metadata": {
    "scrolled": true
   },
   "outputs": [
    {
     "name": "stdout",
     "output_type": "stream",
     "text": [
      "{'WORKSPACE_PATH': 'Tensorflow\\\\workspace', 'SCRIPTS_PATH': 'Tensorflow\\\\scripts', 'APIMODEL_PATH': 'Tensorflow\\\\models', 'ANNOTATION_PATH': 'Tensorflow\\\\workspace\\\\annotations', 'IMAGE_PATH': 'Tensorflow\\\\workspace\\\\images', 'MODEL_PATH': 'Tensorflow\\\\workspace\\\\models', 'PRETRAINED_MODEL_PATH': 'Tensorflow\\\\workspace\\\\pre-trained-models', 'CHECKPOINT_PATH': 'Tensorflow\\\\workspace\\\\models\\\\my_ssd_mobnet_tuned', 'OUTPUT_PATH': 'Tensorflow\\\\workspace\\\\models\\\\my_ssd_mobnet_tuned\\\\export', 'TFJS_PATH': 'Tensorflow\\\\workspace\\\\models\\\\my_ssd_mobnet_tuned\\\\tfjsexport', 'TFLITE_PATH': 'Tensorflow\\\\workspace\\\\models\\\\my_ssd_mobnet_tuned\\\\tfliteexport', 'PROTOC_PATH': 'Tensorflow\\\\protoc'}\n"
     ]
    }
   ],
   "source": [
    "print(paths)"
   ]
  },
  {
   "cell_type": "code",
   "execution_count": 5,
   "metadata": {
    "id": "LwhWZMI0pfDC"
   },
   "outputs": [],
   "source": [
    "files = {\n",
    "    'PIPELINE_CONFIG':os.path.join('Tensorflow', 'workspace','models', CUSTOM_MODEL_NAME, 'pipeline.config'),\n",
    "    'TF_RECORD_SCRIPT': os.path.join(paths['SCRIPTS_PATH'], TF_RECORD_SCRIPT_NAME), \n",
    "    'LABELMAP': os.path.join(paths['ANNOTATION_PATH'], LABEL_MAP_NAME)\n",
    "}"
   ]
  },
  {
   "cell_type": "code",
   "execution_count": 6,
   "metadata": {
    "id": "HR-TfDGrpfDC"
   },
   "outputs": [],
   "source": [
    "for path in paths.values():\n",
    "    if not os.path.exists(path):\n",
    "        if os.name == 'posix':\n",
    "            !mkdir -p {path}\n",
    "        if os.name == 'nt':\n",
    "            !mkdir {path}"
   ]
  },
  {
   "cell_type": "markdown",
   "metadata": {
    "id": "OLU-rs_ipfDE"
   },
   "source": [
    "# 1. Download TF Models Pretrained Models from Tensorflow Model Zoo and Install TFOD"
   ]
  },
  {
   "cell_type": "code",
   "execution_count": 37,
   "metadata": {},
   "outputs": [],
   "source": [
    "# https://www.tensorflow.org/install/source_windows"
   ]
  },
  {
   "cell_type": "markdown",
   "metadata": {},
   "source": [
    "### wget\n",
    "GNU Wget is a computer program that retrieves content from web servers. It is part of the GNU Project. Its name derives from \"World Wide Web\" and \"get.\" It supports downloading via HTTP, HTTPS, and FTP."
   ]
  },
  {
   "cell_type": "code",
   "execution_count": 8,
   "metadata": {
    "id": "K-Cmz2edpfDE",
    "scrolled": false
   },
   "outputs": [
    {
     "name": "stdout",
     "output_type": "stream",
     "text": [
      "Requirement already satisfied: wget in d:\\object detection api\\tfodcourse\\tfod\\lib\\site-packages (3.2)\n"
     ]
    },
    {
     "name": "stderr",
     "output_type": "stream",
     "text": [
      "WARNING: Ignoring invalid distribution -rotobuf (d:\\object detection api\\tfodcourse\\tfod\\lib\\site-packages)\n",
      "WARNING: Ignoring invalid distribution -rotobuf (d:\\object detection api\\tfodcourse\\tfod\\lib\\site-packages)\n",
      "WARNING: Ignoring invalid distribution -rotobuf (d:\\object detection api\\tfodcourse\\tfod\\lib\\site-packages)\n",
      "WARNING: Ignoring invalid distribution -rotobuf (d:\\object detection api\\tfodcourse\\tfod\\lib\\site-packages)\n",
      "WARNING: Ignoring invalid distribution -rotobuf (d:\\object detection api\\tfodcourse\\tfod\\lib\\site-packages)\n"
     ]
    }
   ],
   "source": [
    "if os.name=='nt':\n",
    "    !pip install wget\n",
    "    import wget"
   ]
  },
  {
   "cell_type": "markdown",
   "metadata": {},
   "source": [
    "here we are saying if there is no directory called reserach/object detection with in tensorflow/models then creat one and clone the github repository in it"
   ]
  },
  {
   "cell_type": "code",
   "execution_count": 39,
   "metadata": {
    "id": "iA1DIq5OpfDE"
   },
   "outputs": [],
   "source": [
    "if not os.path.exists(os.path.join(paths['APIMODEL_PATH'], 'research', 'object_detection')):\n",
    "    !git clone https://github.com/tensorflow/models {paths['APIMODEL_PATH']}"
   ]
  },
  {
   "cell_type": "markdown",
   "metadata": {},
   "source": [
    "Protocol Buffers is a free and open-source cross-platform data format used to serialize structured data. It is useful in developing programs to communicate with each other over a network or for storing data.\n",
    "\n",
    "## protocol buffers=you can say it's just another format to store data (like csv files,sql files,html files,etc)"
   ]
  },
  {
   "cell_type": "markdown",
   "metadata": {},
   "source": [
    "just type protoc on browser , to get google developers page to get latest release page of protocol buffer"
   ]
  },
  {
   "cell_type": "markdown",
   "metadata": {},
   "source": [
    "os.environ in Python is a mapping object that represents the user’s environmental variables. It returns a dictionary having user’s environmental variable as key and their values as value."
   ]
  },
  {
   "cell_type": "markdown",
   "metadata": {},
   "source": [
    "os.path.sep : it's the path separator"
   ]
  },
  {
   "cell_type": "code",
   "execution_count": null,
   "metadata": {},
   "outputs": [],
   "source": [
    "According to docs os.path.abspath() returns a normalized absolutized version of the pathname path which may \n",
    "sound fancy but it simply means that this method returns the pathname to the path passed as a parameter to\n",
    "this function."
   ]
  },
  {
   "cell_type": "code",
   "execution_count": 9,
   "metadata": {
    "scrolled": true
   },
   "outputs": [
    {
     "name": "stdout",
     "output_type": "stream",
     "text": [
      "dict_items([('WORKSPACE_PATH', 'Tensorflow\\\\workspace'), ('SCRIPTS_PATH', 'Tensorflow\\\\scripts'), ('APIMODEL_PATH', 'Tensorflow\\\\models'), ('ANNOTATION_PATH', 'Tensorflow\\\\workspace\\\\annotations'), ('IMAGE_PATH', 'Tensorflow\\\\workspace\\\\images'), ('MODEL_PATH', 'Tensorflow\\\\workspace\\\\models'), ('PRETRAINED_MODEL_PATH', 'Tensorflow\\\\workspace\\\\pre-trained-models'), ('CHECKPOINT_PATH', 'Tensorflow\\\\workspace\\\\models\\\\my_ssd_mobnet'), ('OUTPUT_PATH', 'Tensorflow\\\\workspace\\\\models\\\\my_ssd_mobnet\\\\export'), ('TFJS_PATH', 'Tensorflow\\\\workspace\\\\models\\\\my_ssd_mobnet\\\\tfjsexport'), ('TFLITE_PATH', 'Tensorflow\\\\workspace\\\\models\\\\my_ssd_mobnet\\\\tfliteexport'), ('PROTOC_PATH', 'Tensorflow\\\\protoc')])\n"
     ]
    }
   ],
   "source": [
    "print(paths.items())"
   ]
  },
  {
   "cell_type": "code",
   "execution_count": 42,
   "metadata": {
    "id": "rJjMHbnDs3Tv"
   },
   "outputs": [
    {
     "name": "stdout",
     "output_type": "stream",
     "text": [
      "100% [..........................................................................] 1468733 / 1468733        1 file(s) moved.\n",
      "        1 file(s) copied."
     ]
    },
    {
     "name": "stderr",
     "output_type": "stream",
     "text": [
      "zip_safe flag not set; analyzing archive contents...\n",
      "object_detection.core.__pycache__.densepose_ops.cpython-38: module references __file__\n",
      "object_detection.core.__pycache__.preprocessor.cpython-38: module MAY be using inspect.stack\n",
      "object_detection.utils.__pycache__.autoaugment_utils.cpython-38: module MAY be using inspect.stack\n",
      "error: Setup script exited with error: Microsoft Visual C++ 14.0 is required. Get it with \"Build Tools for Visual Studio\": https://visualstudio.microsoft.com/downloads/\n"
     ]
    },
    {
     "name": "stdout",
     "output_type": "stream",
     "text": [
      "\n",
      "running build\n",
      "running build_py\n",
      "copying object_detection\\protos\\anchor_generator_pb2.py -> build\\lib\\object_detection\\protos\n",
      "copying object_detection\\protos\\argmax_matcher_pb2.py -> build\\lib\\object_detection\\protos\n",
      "copying object_detection\\protos\\bipartite_matcher_pb2.py -> build\\lib\\object_detection\\protos\n",
      "copying object_detection\\protos\\box_coder_pb2.py -> build\\lib\\object_detection\\protos\n",
      "copying object_detection\\protos\\box_predictor_pb2.py -> build\\lib\\object_detection\\protos\n",
      "copying object_detection\\protos\\calibration_pb2.py -> build\\lib\\object_detection\\protos\n",
      "copying object_detection\\protos\\center_net_pb2.py -> build\\lib\\object_detection\\protos\n",
      "copying object_detection\\protos\\eval_pb2.py -> build\\lib\\object_detection\\protos\n",
      "copying object_detection\\protos\\faster_rcnn_box_coder_pb2.py -> build\\lib\\object_detection\\protos\n",
      "copying object_detection\\protos\\faster_rcnn_pb2.py -> build\\lib\\object_detection\\protos\n",
      "copying object_detection\\protos\\flexible_grid_anchor_generator_pb2.py -> build\\lib\\object_detection\\protos\n",
      "copying object_detection\\protos\\fpn_pb2.py -> build\\lib\\object_detection\\protos\n",
      "copying object_detection\\protos\\graph_rewriter_pb2.py -> build\\lib\\object_detection\\protos\n",
      "copying object_detection\\protos\\grid_anchor_generator_pb2.py -> build\\lib\\object_detection\\protos\n",
      "copying object_detection\\protos\\hyperparams_pb2.py -> build\\lib\\object_detection\\protos\n",
      "copying object_detection\\protos\\image_resizer_pb2.py -> build\\lib\\object_detection\\protos\n",
      "copying object_detection\\protos\\input_reader_pb2.py -> build\\lib\\object_detection\\protos\n",
      "copying object_detection\\protos\\keypoint_box_coder_pb2.py -> build\\lib\\object_detection\\protos\n",
      "copying object_detection\\protos\\losses_pb2.py -> build\\lib\\object_detection\\protos\n",
      "copying object_detection\\protos\\matcher_pb2.py -> build\\lib\\object_detection\\protos\n",
      "copying object_detection\\protos\\mean_stddev_box_coder_pb2.py -> build\\lib\\object_detection\\protos\n",
      "copying object_detection\\protos\\model_pb2.py -> build\\lib\\object_detection\\protos\n",
      "copying object_detection\\protos\\multiscale_anchor_generator_pb2.py -> build\\lib\\object_detection\\protos\n",
      "copying object_detection\\protos\\optimizer_pb2.py -> build\\lib\\object_detection\\protos\n",
      "copying object_detection\\protos\\pipeline_pb2.py -> build\\lib\\object_detection\\protos\n",
      "copying object_detection\\protos\\post_processing_pb2.py -> build\\lib\\object_detection\\protos\n",
      "copying object_detection\\protos\\preprocessor_pb2.py -> build\\lib\\object_detection\\protos\n",
      "copying object_detection\\protos\\region_similarity_calculator_pb2.py -> build\\lib\\object_detection\\protos\n",
      "copying object_detection\\protos\\square_box_coder_pb2.py -> build\\lib\\object_detection\\protos\n",
      "copying object_detection\\protos\\ssd_anchor_generator_pb2.py -> build\\lib\\object_detection\\protos\n",
      "copying object_detection\\protos\\ssd_pb2.py -> build\\lib\\object_detection\\protos\n",
      "copying object_detection\\protos\\string_int_label_map_pb2.py -> build\\lib\\object_detection\\protos\n",
      "copying object_detection\\protos\\target_assigner_pb2.py -> build\\lib\\object_detection\\protos\n",
      "copying object_detection\\protos\\train_pb2.py -> build\\lib\\object_detection\\protos\n",
      "running egg_info\n",
      "writing object_detection.egg-info\\PKG-INFO\n",
      "writing dependency_links to object_detection.egg-info\\dependency_links.txt\n",
      "writing requirements to object_detection.egg-info\\requires.txt\n",
      "writing top-level names to object_detection.egg-info\\top_level.txt\n",
      "reading manifest file 'object_detection.egg-info\\SOURCES.txt'\n",
      "writing manifest file 'object_detection.egg-info\\SOURCES.txt'\n",
      "running install\n",
      "running bdist_egg\n",
      "running egg_info\n",
      "writing object_detection.egg-info\\PKG-INFO\n",
      "writing dependency_links to object_detection.egg-info\\dependency_links.txt\n",
      "writing requirements to object_detection.egg-info\\requires.txt\n",
      "writing top-level names to object_detection.egg-info\\top_level.txt\n",
      "reading manifest file 'object_detection.egg-info\\SOURCES.txt'\n",
      "writing manifest file 'object_detection.egg-info\\SOURCES.txt'\n",
      "installing library code to build\\bdist.win-amd64\\egg\n",
      "running install_lib\n",
      "running build_py\n",
      "creating build\\bdist.win-amd64\\egg\n",
      "creating build\\bdist.win-amd64\\egg\\datasets\n",
      "copying build\\lib\\datasets\\build_imagenet_data.py -> build\\bdist.win-amd64\\egg\\datasets\n",
      "copying build\\lib\\datasets\\cifar10.py -> build\\bdist.win-amd64\\egg\\datasets\n",
      "copying build\\lib\\datasets\\dataset_factory.py -> build\\bdist.win-amd64\\egg\\datasets\n",
      "copying build\\lib\\datasets\\dataset_utils.py -> build\\bdist.win-amd64\\egg\\datasets\n",
      "copying build\\lib\\datasets\\download_and_convert_cifar10.py -> build\\bdist.win-amd64\\egg\\datasets\n",
      "copying build\\lib\\datasets\\download_and_convert_flowers.py -> build\\bdist.win-amd64\\egg\\datasets\n",
      "copying build\\lib\\datasets\\download_and_convert_mnist.py -> build\\bdist.win-amd64\\egg\\datasets\n",
      "copying build\\lib\\datasets\\download_and_convert_visualwakewords.py -> build\\bdist.win-amd64\\egg\\datasets\n",
      "copying build\\lib\\datasets\\download_and_convert_visualwakewords_lib.py -> build\\bdist.win-amd64\\egg\\datasets\n",
      "copying build\\lib\\datasets\\flowers.py -> build\\bdist.win-amd64\\egg\\datasets\n",
      "copying build\\lib\\datasets\\imagenet.py -> build\\bdist.win-amd64\\egg\\datasets\n",
      "copying build\\lib\\datasets\\mnist.py -> build\\bdist.win-amd64\\egg\\datasets\n",
      "copying build\\lib\\datasets\\preprocess_imagenet_validation_data.py -> build\\bdist.win-amd64\\egg\\datasets\n",
      "copying build\\lib\\datasets\\process_bounding_boxes.py -> build\\bdist.win-amd64\\egg\\datasets\n",
      "copying build\\lib\\datasets\\visualwakewords.py -> build\\bdist.win-amd64\\egg\\datasets\n",
      "copying build\\lib\\datasets\\__init__.py -> build\\bdist.win-amd64\\egg\\datasets\n",
      "creating build\\bdist.win-amd64\\egg\\deployment\n",
      "copying build\\lib\\deployment\\model_deploy.py -> build\\bdist.win-amd64\\egg\\deployment\n",
      "copying build\\lib\\deployment\\model_deploy_test.py -> build\\bdist.win-amd64\\egg\\deployment\n",
      "copying build\\lib\\deployment\\__init__.py -> build\\bdist.win-amd64\\egg\\deployment\n",
      "creating build\\bdist.win-amd64\\egg\\nets\n",
      "copying build\\lib\\nets\\alexnet.py -> build\\bdist.win-amd64\\egg\\nets\n",
      "copying build\\lib\\nets\\alexnet_test.py -> build\\bdist.win-amd64\\egg\\nets\n",
      "copying build\\lib\\nets\\cifarnet.py -> build\\bdist.win-amd64\\egg\\nets\n",
      "copying build\\lib\\nets\\cyclegan.py -> build\\bdist.win-amd64\\egg\\nets\n",
      "copying build\\lib\\nets\\cyclegan_test.py -> build\\bdist.win-amd64\\egg\\nets\n",
      "copying build\\lib\\nets\\dcgan.py -> build\\bdist.win-amd64\\egg\\nets\n",
      "copying build\\lib\\nets\\dcgan_test.py -> build\\bdist.win-amd64\\egg\\nets\n",
      "copying build\\lib\\nets\\i3d.py -> build\\bdist.win-amd64\\egg\\nets\n",
      "copying build\\lib\\nets\\i3d_test.py -> build\\bdist.win-amd64\\egg\\nets\n",
      "copying build\\lib\\nets\\i3d_utils.py -> build\\bdist.win-amd64\\egg\\nets\n",
      "copying build\\lib\\nets\\inception.py -> build\\bdist.win-amd64\\egg\\nets\n",
      "copying build\\lib\\nets\\inception_resnet_v2.py -> build\\bdist.win-amd64\\egg\\nets\n",
      "copying build\\lib\\nets\\inception_resnet_v2_test.py -> build\\bdist.win-amd64\\egg\\nets\n",
      "copying build\\lib\\nets\\inception_utils.py -> build\\bdist.win-amd64\\egg\\nets\n",
      "copying build\\lib\\nets\\inception_v1.py -> build\\bdist.win-amd64\\egg\\nets\n",
      "copying build\\lib\\nets\\inception_v1_test.py -> build\\bdist.win-amd64\\egg\\nets\n",
      "copying build\\lib\\nets\\inception_v2.py -> build\\bdist.win-amd64\\egg\\nets\n",
      "copying build\\lib\\nets\\inception_v2_test.py -> build\\bdist.win-amd64\\egg\\nets\n",
      "copying build\\lib\\nets\\inception_v3.py -> build\\bdist.win-amd64\\egg\\nets\n",
      "copying build\\lib\\nets\\inception_v3_test.py -> build\\bdist.win-amd64\\egg\\nets\n",
      "copying build\\lib\\nets\\inception_v4.py -> build\\bdist.win-amd64\\egg\\nets\n",
      "copying build\\lib\\nets\\inception_v4_test.py -> build\\bdist.win-amd64\\egg\\nets\n",
      "copying build\\lib\\nets\\lenet.py -> build\\bdist.win-amd64\\egg\\nets\n",
      "creating build\\bdist.win-amd64\\egg\\nets\\mobilenet\n",
      "copying build\\lib\\nets\\mobilenet\\conv_blocks.py -> build\\bdist.win-amd64\\egg\\nets\\mobilenet\n",
      "copying build\\lib\\nets\\mobilenet\\mobilenet.py -> build\\bdist.win-amd64\\egg\\nets\\mobilenet\n",
      "copying build\\lib\\nets\\mobilenet\\mobilenet_v2.py -> build\\bdist.win-amd64\\egg\\nets\\mobilenet\n",
      "copying build\\lib\\nets\\mobilenet\\mobilenet_v2_test.py -> build\\bdist.win-amd64\\egg\\nets\\mobilenet\n",
      "copying build\\lib\\nets\\mobilenet\\mobilenet_v3.py -> build\\bdist.win-amd64\\egg\\nets\\mobilenet\n",
      "copying build\\lib\\nets\\mobilenet\\mobilenet_v3_test.py -> build\\bdist.win-amd64\\egg\\nets\\mobilenet\n",
      "copying build\\lib\\nets\\mobilenet\\__init__.py -> build\\bdist.win-amd64\\egg\\nets\\mobilenet\n",
      "copying build\\lib\\nets\\mobilenet_v1.py -> build\\bdist.win-amd64\\egg\\nets\n",
      "copying build\\lib\\nets\\mobilenet_v1_eval.py -> build\\bdist.win-amd64\\egg\\nets\n",
      "copying build\\lib\\nets\\mobilenet_v1_test.py -> build\\bdist.win-amd64\\egg\\nets\n",
      "copying build\\lib\\nets\\mobilenet_v1_train.py -> build\\bdist.win-amd64\\egg\\nets\n",
      "creating build\\bdist.win-amd64\\egg\\nets\\nasnet\n",
      "copying build\\lib\\nets\\nasnet\\nasnet.py -> build\\bdist.win-amd64\\egg\\nets\\nasnet\n",
      "copying build\\lib\\nets\\nasnet\\nasnet_test.py -> build\\bdist.win-amd64\\egg\\nets\\nasnet\n",
      "copying build\\lib\\nets\\nasnet\\nasnet_utils.py -> build\\bdist.win-amd64\\egg\\nets\\nasnet\n",
      "copying build\\lib\\nets\\nasnet\\nasnet_utils_test.py -> build\\bdist.win-amd64\\egg\\nets\\nasnet\n",
      "copying build\\lib\\nets\\nasnet\\pnasnet.py -> build\\bdist.win-amd64\\egg\\nets\\nasnet\n",
      "copying build\\lib\\nets\\nasnet\\pnasnet_test.py -> build\\bdist.win-amd64\\egg\\nets\\nasnet\n",
      "copying build\\lib\\nets\\nasnet\\__init__.py -> build\\bdist.win-amd64\\egg\\nets\\nasnet\n",
      "copying build\\lib\\nets\\nets_factory.py -> build\\bdist.win-amd64\\egg\\nets\n",
      "copying build\\lib\\nets\\nets_factory_test.py -> build\\bdist.win-amd64\\egg\\nets\n",
      "copying build\\lib\\nets\\overfeat.py -> build\\bdist.win-amd64\\egg\\nets\n",
      "copying build\\lib\\nets\\overfeat_test.py -> build\\bdist.win-amd64\\egg\\nets\n",
      "copying build\\lib\\nets\\pix2pix.py -> build\\bdist.win-amd64\\egg\\nets\n",
      "copying build\\lib\\nets\\pix2pix_test.py -> build\\bdist.win-amd64\\egg\\nets\n",
      "copying build\\lib\\nets\\post_training_quantization.py -> build\\bdist.win-amd64\\egg\\nets\n",
      "copying build\\lib\\nets\\resnet_utils.py -> build\\bdist.win-amd64\\egg\\nets\n",
      "copying build\\lib\\nets\\resnet_v1.py -> build\\bdist.win-amd64\\egg\\nets\n",
      "copying build\\lib\\nets\\resnet_v1_test.py -> build\\bdist.win-amd64\\egg\\nets\n",
      "copying build\\lib\\nets\\resnet_v2.py -> build\\bdist.win-amd64\\egg\\nets\n",
      "copying build\\lib\\nets\\resnet_v2_test.py -> build\\bdist.win-amd64\\egg\\nets\n",
      "copying build\\lib\\nets\\s3dg.py -> build\\bdist.win-amd64\\egg\\nets\n",
      "copying build\\lib\\nets\\s3dg_test.py -> build\\bdist.win-amd64\\egg\\nets\n",
      "copying build\\lib\\nets\\vgg.py -> build\\bdist.win-amd64\\egg\\nets\n",
      "copying build\\lib\\nets\\vgg_test.py -> build\\bdist.win-amd64\\egg\\nets\n",
      "copying build\\lib\\nets\\__init__.py -> build\\bdist.win-amd64\\egg\\nets\n",
      "creating build\\bdist.win-amd64\\egg\\object_detection\n",
      "creating build\\bdist.win-amd64\\egg\\object_detection\\anchor_generators\n",
      "copying build\\lib\\object_detection\\anchor_generators\\flexible_grid_anchor_generator.py -> build\\bdist.win-amd64\\egg\\object_detection\\anchor_generators\n",
      "copying build\\lib\\object_detection\\anchor_generators\\flexible_grid_anchor_generator_test.py -> build\\bdist.win-amd64\\egg\\object_detection\\anchor_generators\n",
      "copying build\\lib\\object_detection\\anchor_generators\\grid_anchor_generator.py -> build\\bdist.win-amd64\\egg\\object_detection\\anchor_generators\n",
      "copying build\\lib\\object_detection\\anchor_generators\\grid_anchor_generator_test.py -> build\\bdist.win-amd64\\egg\\object_detection\\anchor_generators\n",
      "copying build\\lib\\object_detection\\anchor_generators\\multiple_grid_anchor_generator.py -> build\\bdist.win-amd64\\egg\\object_detection\\anchor_generators\n",
      "copying build\\lib\\object_detection\\anchor_generators\\multiple_grid_anchor_generator_test.py -> build\\bdist.win-amd64\\egg\\object_detection\\anchor_generators\n",
      "copying build\\lib\\object_detection\\anchor_generators\\multiscale_grid_anchor_generator.py -> build\\bdist.win-amd64\\egg\\object_detection\\anchor_generators\n",
      "copying build\\lib\\object_detection\\anchor_generators\\multiscale_grid_anchor_generator_test.py -> build\\bdist.win-amd64\\egg\\object_detection\\anchor_generators\n",
      "copying build\\lib\\object_detection\\anchor_generators\\__init__.py -> build\\bdist.win-amd64\\egg\\object_detection\\anchor_generators\n",
      "creating build\\bdist.win-amd64\\egg\\object_detection\\box_coders\n",
      "copying build\\lib\\object_detection\\box_coders\\faster_rcnn_box_coder.py -> build\\bdist.win-amd64\\egg\\object_detection\\box_coders\n",
      "copying build\\lib\\object_detection\\box_coders\\faster_rcnn_box_coder_test.py -> build\\bdist.win-amd64\\egg\\object_detection\\box_coders\n",
      "copying build\\lib\\object_detection\\box_coders\\keypoint_box_coder.py -> build\\bdist.win-amd64\\egg\\object_detection\\box_coders\n",
      "copying build\\lib\\object_detection\\box_coders\\keypoint_box_coder_test.py -> build\\bdist.win-amd64\\egg\\object_detection\\box_coders\n",
      "copying build\\lib\\object_detection\\box_coders\\mean_stddev_box_coder.py -> build\\bdist.win-amd64\\egg\\object_detection\\box_coders\n",
      "copying build\\lib\\object_detection\\box_coders\\mean_stddev_box_coder_test.py -> build\\bdist.win-amd64\\egg\\object_detection\\box_coders\n",
      "copying build\\lib\\object_detection\\box_coders\\square_box_coder.py -> build\\bdist.win-amd64\\egg\\object_detection\\box_coders\n",
      "copying build\\lib\\object_detection\\box_coders\\square_box_coder_test.py -> build\\bdist.win-amd64\\egg\\object_detection\\box_coders\n",
      "copying build\\lib\\object_detection\\box_coders\\__init__.py -> build\\bdist.win-amd64\\egg\\object_detection\\box_coders\n",
      "creating build\\bdist.win-amd64\\egg\\object_detection\\builders\n",
      "copying build\\lib\\object_detection\\builders\\anchor_generator_builder.py -> build\\bdist.win-amd64\\egg\\object_detection\\builders\n",
      "copying build\\lib\\object_detection\\builders\\anchor_generator_builder_test.py -> build\\bdist.win-amd64\\egg\\object_detection\\builders\n",
      "copying build\\lib\\object_detection\\builders\\box_coder_builder.py -> build\\bdist.win-amd64\\egg\\object_detection\\builders\n",
      "copying build\\lib\\object_detection\\builders\\box_coder_builder_test.py -> build\\bdist.win-amd64\\egg\\object_detection\\builders\n",
      "copying build\\lib\\object_detection\\builders\\box_predictor_builder.py -> build\\bdist.win-amd64\\egg\\object_detection\\builders\n",
      "copying build\\lib\\object_detection\\builders\\box_predictor_builder_test.py -> build\\bdist.win-amd64\\egg\\object_detection\\builders\n",
      "copying build\\lib\\object_detection\\builders\\calibration_builder.py -> build\\bdist.win-amd64\\egg\\object_detection\\builders\n",
      "copying build\\lib\\object_detection\\builders\\calibration_builder_test.py -> build\\bdist.win-amd64\\egg\\object_detection\\builders\n",
      "copying build\\lib\\object_detection\\builders\\dataset_builder.py -> build\\bdist.win-amd64\\egg\\object_detection\\builders\n",
      "copying build\\lib\\object_detection\\builders\\dataset_builder_test.py -> build\\bdist.win-amd64\\egg\\object_detection\\builders\n",
      "copying build\\lib\\object_detection\\builders\\decoder_builder.py -> build\\bdist.win-amd64\\egg\\object_detection\\builders\n",
      "copying build\\lib\\object_detection\\builders\\decoder_builder_test.py -> build\\bdist.win-amd64\\egg\\object_detection\\builders\n",
      "copying build\\lib\\object_detection\\builders\\graph_rewriter_builder.py -> build\\bdist.win-amd64\\egg\\object_detection\\builders\n",
      "copying build\\lib\\object_detection\\builders\\graph_rewriter_builder_tf1_test.py -> build\\bdist.win-amd64\\egg\\object_detection\\builders\n",
      "copying build\\lib\\object_detection\\builders\\hyperparams_builder.py -> build\\bdist.win-amd64\\egg\\object_detection\\builders\n",
      "copying build\\lib\\object_detection\\builders\\hyperparams_builder_test.py -> build\\bdist.win-amd64\\egg\\object_detection\\builders\n",
      "copying build\\lib\\object_detection\\builders\\image_resizer_builder.py -> build\\bdist.win-amd64\\egg\\object_detection\\builders\n",
      "copying build\\lib\\object_detection\\builders\\image_resizer_builder_test.py -> build\\bdist.win-amd64\\egg\\object_detection\\builders\n",
      "copying build\\lib\\object_detection\\builders\\input_reader_builder.py -> build\\bdist.win-amd64\\egg\\object_detection\\builders\n",
      "copying build\\lib\\object_detection\\builders\\input_reader_builder_tf1_test.py -> build\\bdist.win-amd64\\egg\\object_detection\\builders\n",
      "copying build\\lib\\object_detection\\builders\\losses_builder.py -> build\\bdist.win-amd64\\egg\\object_detection\\builders\n",
      "copying build\\lib\\object_detection\\builders\\losses_builder_test.py -> build\\bdist.win-amd64\\egg\\object_detection\\builders\n",
      "copying build\\lib\\object_detection\\builders\\matcher_builder.py -> build\\bdist.win-amd64\\egg\\object_detection\\builders\n",
      "copying build\\lib\\object_detection\\builders\\matcher_builder_test.py -> build\\bdist.win-amd64\\egg\\object_detection\\builders\n",
      "copying build\\lib\\object_detection\\builders\\model_builder.py -> build\\bdist.win-amd64\\egg\\object_detection\\builders\n",
      "copying build\\lib\\object_detection\\builders\\model_builder_test.py -> build\\bdist.win-amd64\\egg\\object_detection\\builders\n",
      "copying build\\lib\\object_detection\\builders\\model_builder_tf1_test.py -> build\\bdist.win-amd64\\egg\\object_detection\\builders\n",
      "copying build\\lib\\object_detection\\builders\\model_builder_tf2_test.py -> build\\bdist.win-amd64\\egg\\object_detection\\builders\n",
      "copying build\\lib\\object_detection\\builders\\optimizer_builder.py -> build\\bdist.win-amd64\\egg\\object_detection\\builders\n",
      "copying build\\lib\\object_detection\\builders\\optimizer_builder_tf1_test.py -> build\\bdist.win-amd64\\egg\\object_detection\\builders\n",
      "copying build\\lib\\object_detection\\builders\\optimizer_builder_tf2_test.py -> build\\bdist.win-amd64\\egg\\object_detection\\builders\n",
      "copying build\\lib\\object_detection\\builders\\post_processing_builder.py -> build\\bdist.win-amd64\\egg\\object_detection\\builders\n",
      "copying build\\lib\\object_detection\\builders\\post_processing_builder_test.py -> build\\bdist.win-amd64\\egg\\object_detection\\builders\n",
      "copying build\\lib\\object_detection\\builders\\preprocessor_builder.py -> build\\bdist.win-amd64\\egg\\object_detection\\builders\n",
      "copying build\\lib\\object_detection\\builders\\preprocessor_builder_test.py -> build\\bdist.win-amd64\\egg\\object_detection\\builders\n",
      "copying build\\lib\\object_detection\\builders\\region_similarity_calculator_builder.py -> build\\bdist.win-amd64\\egg\\object_detection\\builders\n",
      "copying build\\lib\\object_detection\\builders\\region_similarity_calculator_builder_test.py -> build\\bdist.win-amd64\\egg\\object_detection\\builders\n",
      "copying build\\lib\\object_detection\\builders\\target_assigner_builder.py -> build\\bdist.win-amd64\\egg\\object_detection\\builders\n",
      "copying build\\lib\\object_detection\\builders\\target_assigner_builder_test.py -> build\\bdist.win-amd64\\egg\\object_detection\\builders\n",
      "copying build\\lib\\object_detection\\builders\\__init__.py -> build\\bdist.win-amd64\\egg\\object_detection\\builders\n",
      "creating build\\bdist.win-amd64\\egg\\object_detection\\core\n",
      "copying build\\lib\\object_detection\\core\\anchor_generator.py -> build\\bdist.win-amd64\\egg\\object_detection\\core\n",
      "copying build\\lib\\object_detection\\core\\balanced_positive_negative_sampler.py -> build\\bdist.win-amd64\\egg\\object_detection\\core\n",
      "copying build\\lib\\object_detection\\core\\balanced_positive_negative_sampler_test.py -> build\\bdist.win-amd64\\egg\\object_detection\\core\n",
      "copying build\\lib\\object_detection\\core\\batcher.py -> build\\bdist.win-amd64\\egg\\object_detection\\core\n",
      "copying build\\lib\\object_detection\\core\\batcher_tf1_test.py -> build\\bdist.win-amd64\\egg\\object_detection\\core\n",
      "copying build\\lib\\object_detection\\core\\batch_multiclass_nms_test.py -> build\\bdist.win-amd64\\egg\\object_detection\\core\n",
      "copying build\\lib\\object_detection\\core\\box_coder.py -> build\\bdist.win-amd64\\egg\\object_detection\\core\n",
      "copying build\\lib\\object_detection\\core\\box_coder_test.py -> build\\bdist.win-amd64\\egg\\object_detection\\core\n",
      "copying build\\lib\\object_detection\\core\\box_list.py -> build\\bdist.win-amd64\\egg\\object_detection\\core\n",
      "copying build\\lib\\object_detection\\core\\box_list_ops.py -> build\\bdist.win-amd64\\egg\\object_detection\\core\n",
      "copying build\\lib\\object_detection\\core\\box_list_ops_test.py -> build\\bdist.win-amd64\\egg\\object_detection\\core\n",
      "copying build\\lib\\object_detection\\core\\box_list_test.py -> build\\bdist.win-amd64\\egg\\object_detection\\core\n",
      "copying build\\lib\\object_detection\\core\\box_predictor.py -> build\\bdist.win-amd64\\egg\\object_detection\\core\n",
      "copying build\\lib\\object_detection\\core\\class_agnostic_nms_test.py -> build\\bdist.win-amd64\\egg\\object_detection\\core\n",
      "copying build\\lib\\object_detection\\core\\data_decoder.py -> build\\bdist.win-amd64\\egg\\object_detection\\core\n",
      "copying build\\lib\\object_detection\\core\\data_parser.py -> build\\bdist.win-amd64\\egg\\object_detection\\core\n",
      "copying build\\lib\\object_detection\\core\\densepose_ops.py -> build\\bdist.win-amd64\\egg\\object_detection\\core\n",
      "copying build\\lib\\object_detection\\core\\densepose_ops_test.py -> build\\bdist.win-amd64\\egg\\object_detection\\core\n",
      "copying build\\lib\\object_detection\\core\\freezable_batch_norm.py -> build\\bdist.win-amd64\\egg\\object_detection\\core\n",
      "copying build\\lib\\object_detection\\core\\freezable_batch_norm_tf2_test.py -> build\\bdist.win-amd64\\egg\\object_detection\\core\n",
      "copying build\\lib\\object_detection\\core\\freezable_sync_batch_norm.py -> build\\bdist.win-amd64\\egg\\object_detection\\core\n",
      "copying build\\lib\\object_detection\\core\\keypoint_ops.py -> build\\bdist.win-amd64\\egg\\object_detection\\core\n",
      "copying build\\lib\\object_detection\\core\\keypoint_ops_test.py -> build\\bdist.win-amd64\\egg\\object_detection\\core\n",
      "copying build\\lib\\object_detection\\core\\losses.py -> build\\bdist.win-amd64\\egg\\object_detection\\core\n",
      "copying build\\lib\\object_detection\\core\\losses_test.py -> build\\bdist.win-amd64\\egg\\object_detection\\core\n",
      "copying build\\lib\\object_detection\\core\\matcher.py -> build\\bdist.win-amd64\\egg\\object_detection\\core\n",
      "copying build\\lib\\object_detection\\core\\matcher_test.py -> build\\bdist.win-amd64\\egg\\object_detection\\core\n",
      "copying build\\lib\\object_detection\\core\\minibatch_sampler.py -> build\\bdist.win-amd64\\egg\\object_detection\\core\n",
      "copying build\\lib\\object_detection\\core\\minibatch_sampler_test.py -> build\\bdist.win-amd64\\egg\\object_detection\\core\n",
      "copying build\\lib\\object_detection\\core\\model.py -> build\\bdist.win-amd64\\egg\\object_detection\\core\n",
      "copying build\\lib\\object_detection\\core\\model_test.py -> build\\bdist.win-amd64\\egg\\object_detection\\core\n",
      "copying build\\lib\\object_detection\\core\\multiclass_nms_test.py -> build\\bdist.win-amd64\\egg\\object_detection\\core\n",
      "copying build\\lib\\object_detection\\core\\post_processing.py -> build\\bdist.win-amd64\\egg\\object_detection\\core\n",
      "copying build\\lib\\object_detection\\core\\prefetcher.py -> build\\bdist.win-amd64\\egg\\object_detection\\core\n",
      "copying build\\lib\\object_detection\\core\\prefetcher_tf1_test.py -> build\\bdist.win-amd64\\egg\\object_detection\\core\n",
      "copying build\\lib\\object_detection\\core\\preprocessor.py -> build\\bdist.win-amd64\\egg\\object_detection\\core\n",
      "copying build\\lib\\object_detection\\core\\preprocessor_cache.py -> build\\bdist.win-amd64\\egg\\object_detection\\core\n",
      "copying build\\lib\\object_detection\\core\\preprocessor_test.py -> build\\bdist.win-amd64\\egg\\object_detection\\core\n",
      "copying build\\lib\\object_detection\\core\\region_similarity_calculator.py -> build\\bdist.win-amd64\\egg\\object_detection\\core\n",
      "copying build\\lib\\object_detection\\core\\region_similarity_calculator_test.py -> build\\bdist.win-amd64\\egg\\object_detection\\core\n",
      "copying build\\lib\\object_detection\\core\\standard_fields.py -> build\\bdist.win-amd64\\egg\\object_detection\\core\n",
      "copying build\\lib\\object_detection\\core\\target_assigner.py -> build\\bdist.win-amd64\\egg\\object_detection\\core\n",
      "copying build\\lib\\object_detection\\core\\target_assigner_test.py -> build\\bdist.win-amd64\\egg\\object_detection\\core\n",
      "copying build\\lib\\object_detection\\core\\__init__.py -> build\\bdist.win-amd64\\egg\\object_detection\\core\n",
      "creating build\\bdist.win-amd64\\egg\\object_detection\\dataset_tools\n",
      "creating build\\bdist.win-amd64\\egg\\object_detection\\dataset_tools\\context_rcnn\n",
      "copying build\\lib\\object_detection\\dataset_tools\\context_rcnn\\add_context_to_examples.py -> build\\bdist.win-amd64\\egg\\object_detection\\dataset_tools\\context_rcnn\n",
      "copying build\\lib\\object_detection\\dataset_tools\\context_rcnn\\add_context_to_examples_tf2_test.py -> build\\bdist.win-amd64\\egg\\object_detection\\dataset_tools\\context_rcnn\n",
      "copying build\\lib\\object_detection\\dataset_tools\\context_rcnn\\create_cococameratraps_tfexample_main.py -> build\\bdist.win-amd64\\egg\\object_detection\\dataset_tools\\context_rcnn\n",
      "copying build\\lib\\object_detection\\dataset_tools\\context_rcnn\\create_cococameratraps_tfexample_tf2_test.py -> build\\bdist.win-amd64\\egg\\object_detection\\dataset_tools\\context_rcnn\n",
      "copying build\\lib\\object_detection\\dataset_tools\\context_rcnn\\generate_detection_data.py -> build\\bdist.win-amd64\\egg\\object_detection\\dataset_tools\\context_rcnn\n",
      "copying build\\lib\\object_detection\\dataset_tools\\context_rcnn\\generate_detection_data_tf2_test.py -> build\\bdist.win-amd64\\egg\\object_detection\\dataset_tools\\context_rcnn\n",
      "copying build\\lib\\object_detection\\dataset_tools\\context_rcnn\\generate_embedding_data.py -> build\\bdist.win-amd64\\egg\\object_detection\\dataset_tools\\context_rcnn\n",
      "copying build\\lib\\object_detection\\dataset_tools\\context_rcnn\\generate_embedding_data_tf2_test.py -> build\\bdist.win-amd64\\egg\\object_detection\\dataset_tools\\context_rcnn\n",
      "copying build\\lib\\object_detection\\dataset_tools\\context_rcnn\\__init__.py -> build\\bdist.win-amd64\\egg\\object_detection\\dataset_tools\\context_rcnn\n",
      "copying build\\lib\\object_detection\\dataset_tools\\create_ava_actions_tf_record.py -> build\\bdist.win-amd64\\egg\\object_detection\\dataset_tools\n",
      "copying build\\lib\\object_detection\\dataset_tools\\create_coco_tf_record.py -> build\\bdist.win-amd64\\egg\\object_detection\\dataset_tools\n",
      "copying build\\lib\\object_detection\\dataset_tools\\create_coco_tf_record_test.py -> build\\bdist.win-amd64\\egg\\object_detection\\dataset_tools\n",
      "copying build\\lib\\object_detection\\dataset_tools\\create_kitti_tf_record.py -> build\\bdist.win-amd64\\egg\\object_detection\\dataset_tools\n",
      "copying build\\lib\\object_detection\\dataset_tools\\create_kitti_tf_record_test.py -> build\\bdist.win-amd64\\egg\\object_detection\\dataset_tools\n",
      "copying build\\lib\\object_detection\\dataset_tools\\create_oid_tf_record.py -> build\\bdist.win-amd64\\egg\\object_detection\\dataset_tools\n",
      "copying build\\lib\\object_detection\\dataset_tools\\create_pascal_tf_record.py -> build\\bdist.win-amd64\\egg\\object_detection\\dataset_tools\n",
      "copying build\\lib\\object_detection\\dataset_tools\\create_pascal_tf_record_test.py -> build\\bdist.win-amd64\\egg\\object_detection\\dataset_tools\n",
      "copying build\\lib\\object_detection\\dataset_tools\\create_pet_tf_record.py -> build\\bdist.win-amd64\\egg\\object_detection\\dataset_tools\n",
      "copying build\\lib\\object_detection\\dataset_tools\\oid_hierarchical_labels_expansion.py -> build\\bdist.win-amd64\\egg\\object_detection\\dataset_tools\n",
      "copying build\\lib\\object_detection\\dataset_tools\\oid_hierarchical_labels_expansion_test.py -> build\\bdist.win-amd64\\egg\\object_detection\\dataset_tools\n",
      "copying build\\lib\\object_detection\\dataset_tools\\oid_tfrecord_creation.py -> build\\bdist.win-amd64\\egg\\object_detection\\dataset_tools\n",
      "copying build\\lib\\object_detection\\dataset_tools\\oid_tfrecord_creation_test.py -> build\\bdist.win-amd64\\egg\\object_detection\\dataset_tools\n",
      "copying build\\lib\\object_detection\\dataset_tools\\seq_example_util.py -> build\\bdist.win-amd64\\egg\\object_detection\\dataset_tools\n",
      "copying build\\lib\\object_detection\\dataset_tools\\seq_example_util_test.py -> build\\bdist.win-amd64\\egg\\object_detection\\dataset_tools\n",
      "copying build\\lib\\object_detection\\dataset_tools\\tf_record_creation_util.py -> build\\bdist.win-amd64\\egg\\object_detection\\dataset_tools\n",
      "copying build\\lib\\object_detection\\dataset_tools\\tf_record_creation_util_test.py -> build\\bdist.win-amd64\\egg\\object_detection\\dataset_tools\n",
      "copying build\\lib\\object_detection\\dataset_tools\\__init__.py -> build\\bdist.win-amd64\\egg\\object_detection\\dataset_tools\n",
      "creating build\\bdist.win-amd64\\egg\\object_detection\\data_decoders\n",
      "copying build\\lib\\object_detection\\data_decoders\\tf_example_decoder.py -> build\\bdist.win-amd64\\egg\\object_detection\\data_decoders\n",
      "copying build\\lib\\object_detection\\data_decoders\\tf_example_decoder_test.py -> build\\bdist.win-amd64\\egg\\object_detection\\data_decoders\n",
      "copying build\\lib\\object_detection\\data_decoders\\tf_sequence_example_decoder.py -> build\\bdist.win-amd64\\egg\\object_detection\\data_decoders\n",
      "copying build\\lib\\object_detection\\data_decoders\\tf_sequence_example_decoder_test.py -> build\\bdist.win-amd64\\egg\\object_detection\\data_decoders\n",
      "copying build\\lib\\object_detection\\data_decoders\\__init__.py -> build\\bdist.win-amd64\\egg\\object_detection\\data_decoders\n",
      "copying build\\lib\\object_detection\\eval_util.py -> build\\bdist.win-amd64\\egg\\object_detection\n",
      "copying build\\lib\\object_detection\\eval_util_test.py -> build\\bdist.win-amd64\\egg\\object_detection\n",
      "copying build\\lib\\object_detection\\exporter.py -> build\\bdist.win-amd64\\egg\\object_detection\n",
      "copying build\\lib\\object_detection\\exporter_lib_tf2_test.py -> build\\bdist.win-amd64\\egg\\object_detection\n",
      "copying build\\lib\\object_detection\\exporter_lib_v2.py -> build\\bdist.win-amd64\\egg\\object_detection\n",
      "copying build\\lib\\object_detection\\exporter_main_v2.py -> build\\bdist.win-amd64\\egg\\object_detection\n",
      "copying build\\lib\\object_detection\\exporter_tf1_test.py -> build\\bdist.win-amd64\\egg\\object_detection\n",
      "copying build\\lib\\object_detection\\export_inference_graph.py -> build\\bdist.win-amd64\\egg\\object_detection\n",
      "copying build\\lib\\object_detection\\export_tflite_graph_lib_tf2.py -> build\\bdist.win-amd64\\egg\\object_detection\n",
      "copying build\\lib\\object_detection\\export_tflite_graph_lib_tf2_test.py -> build\\bdist.win-amd64\\egg\\object_detection\n",
      "copying build\\lib\\object_detection\\export_tflite_graph_tf2.py -> build\\bdist.win-amd64\\egg\\object_detection\n",
      "copying build\\lib\\object_detection\\export_tflite_ssd_graph.py -> build\\bdist.win-amd64\\egg\\object_detection\n",
      "copying build\\lib\\object_detection\\export_tflite_ssd_graph_lib.py -> build\\bdist.win-amd64\\egg\\object_detection\n",
      "copying build\\lib\\object_detection\\export_tflite_ssd_graph_lib_tf1_test.py -> build\\bdist.win-amd64\\egg\\object_detection\n",
      "creating build\\bdist.win-amd64\\egg\\object_detection\\inference\n",
      "copying build\\lib\\object_detection\\inference\\detection_inference.py -> build\\bdist.win-amd64\\egg\\object_detection\\inference\n",
      "copying build\\lib\\object_detection\\inference\\detection_inference_tf1_test.py -> build\\bdist.win-amd64\\egg\\object_detection\\inference\n",
      "copying build\\lib\\object_detection\\inference\\infer_detections.py -> build\\bdist.win-amd64\\egg\\object_detection\\inference\n",
      "copying build\\lib\\object_detection\\inference\\__init__.py -> build\\bdist.win-amd64\\egg\\object_detection\\inference\n",
      "copying build\\lib\\object_detection\\inputs.py -> build\\bdist.win-amd64\\egg\\object_detection\n",
      "copying build\\lib\\object_detection\\inputs_test.py -> build\\bdist.win-amd64\\egg\\object_detection\n",
      "creating build\\bdist.win-amd64\\egg\\object_detection\\legacy\n",
      "copying build\\lib\\object_detection\\legacy\\eval.py -> build\\bdist.win-amd64\\egg\\object_detection\\legacy\n",
      "copying build\\lib\\object_detection\\legacy\\evaluator.py -> build\\bdist.win-amd64\\egg\\object_detection\\legacy\n",
      "copying build\\lib\\object_detection\\legacy\\train.py -> build\\bdist.win-amd64\\egg\\object_detection\\legacy\n",
      "copying build\\lib\\object_detection\\legacy\\trainer.py -> build\\bdist.win-amd64\\egg\\object_detection\\legacy\n",
      "copying build\\lib\\object_detection\\legacy\\trainer_tf1_test.py -> build\\bdist.win-amd64\\egg\\object_detection\\legacy\n",
      "copying build\\lib\\object_detection\\legacy\\__init__.py -> build\\bdist.win-amd64\\egg\\object_detection\\legacy\n",
      "creating build\\bdist.win-amd64\\egg\\object_detection\\matchers\n",
      "copying build\\lib\\object_detection\\matchers\\argmax_matcher.py -> build\\bdist.win-amd64\\egg\\object_detection\\matchers\n",
      "copying build\\lib\\object_detection\\matchers\\argmax_matcher_test.py -> build\\bdist.win-amd64\\egg\\object_detection\\matchers\n",
      "copying build\\lib\\object_detection\\matchers\\bipartite_matcher.py -> build\\bdist.win-amd64\\egg\\object_detection\\matchers\n",
      "copying build\\lib\\object_detection\\matchers\\bipartite_matcher_tf1_test.py -> build\\bdist.win-amd64\\egg\\object_detection\\matchers\n",
      "copying build\\lib\\object_detection\\matchers\\hungarian_matcher.py -> build\\bdist.win-amd64\\egg\\object_detection\\matchers\n",
      "copying build\\lib\\object_detection\\matchers\\hungarian_matcher_tf2_test.py -> build\\bdist.win-amd64\\egg\\object_detection\\matchers\n",
      "copying build\\lib\\object_detection\\matchers\\__init__.py -> build\\bdist.win-amd64\\egg\\object_detection\\matchers\n",
      "creating build\\bdist.win-amd64\\egg\\object_detection\\meta_architectures\n",
      "copying build\\lib\\object_detection\\meta_architectures\\center_net_meta_arch.py -> build\\bdist.win-amd64\\egg\\object_detection\\meta_architectures\n",
      "copying build\\lib\\object_detection\\meta_architectures\\center_net_meta_arch_tf2_test.py -> build\\bdist.win-amd64\\egg\\object_detection\\meta_architectures\n",
      "copying build\\lib\\object_detection\\meta_architectures\\context_rcnn_lib.py -> build\\bdist.win-amd64\\egg\\object_detection\\meta_architectures\n",
      "copying build\\lib\\object_detection\\meta_architectures\\context_rcnn_lib_tf1_test.py -> build\\bdist.win-amd64\\egg\\object_detection\\meta_architectures\n",
      "copying build\\lib\\object_detection\\meta_architectures\\context_rcnn_lib_tf2.py -> build\\bdist.win-amd64\\egg\\object_detection\\meta_architectures\n",
      "copying build\\lib\\object_detection\\meta_architectures\\context_rcnn_lib_tf2_test.py -> build\\bdist.win-amd64\\egg\\object_detection\\meta_architectures\n",
      "copying build\\lib\\object_detection\\meta_architectures\\context_rcnn_meta_arch.py -> build\\bdist.win-amd64\\egg\\object_detection\\meta_architectures\n",
      "copying build\\lib\\object_detection\\meta_architectures\\context_rcnn_meta_arch_test.py -> build\\bdist.win-amd64\\egg\\object_detection\\meta_architectures\n",
      "copying build\\lib\\object_detection\\meta_architectures\\deepmac_meta_arch.py -> build\\bdist.win-amd64\\egg\\object_detection\\meta_architectures\n",
      "copying build\\lib\\object_detection\\meta_architectures\\deepmac_meta_arch_test.py -> build\\bdist.win-amd64\\egg\\object_detection\\meta_architectures\n",
      "copying build\\lib\\object_detection\\meta_architectures\\faster_rcnn_meta_arch.py -> build\\bdist.win-amd64\\egg\\object_detection\\meta_architectures\n",
      "copying build\\lib\\object_detection\\meta_architectures\\faster_rcnn_meta_arch_test.py -> build\\bdist.win-amd64\\egg\\object_detection\\meta_architectures\n",
      "copying build\\lib\\object_detection\\meta_architectures\\faster_rcnn_meta_arch_test_lib.py -> build\\bdist.win-amd64\\egg\\object_detection\\meta_architectures\n",
      "copying build\\lib\\object_detection\\meta_architectures\\rfcn_meta_arch.py -> build\\bdist.win-amd64\\egg\\object_detection\\meta_architectures\n",
      "copying build\\lib\\object_detection\\meta_architectures\\rfcn_meta_arch_test.py -> build\\bdist.win-amd64\\egg\\object_detection\\meta_architectures\n",
      "copying build\\lib\\object_detection\\meta_architectures\\ssd_meta_arch.py -> build\\bdist.win-amd64\\egg\\object_detection\\meta_architectures\n",
      "copying build\\lib\\object_detection\\meta_architectures\\ssd_meta_arch_test.py -> build\\bdist.win-amd64\\egg\\object_detection\\meta_architectures\n",
      "copying build\\lib\\object_detection\\meta_architectures\\ssd_meta_arch_test_lib.py -> build\\bdist.win-amd64\\egg\\object_detection\\meta_architectures\n",
      "copying build\\lib\\object_detection\\meta_architectures\\__init__.py -> build\\bdist.win-amd64\\egg\\object_detection\\meta_architectures\n",
      "creating build\\bdist.win-amd64\\egg\\object_detection\\metrics\n",
      "copying build\\lib\\object_detection\\metrics\\calibration_evaluation.py -> build\\bdist.win-amd64\\egg\\object_detection\\metrics\n",
      "copying build\\lib\\object_detection\\metrics\\calibration_evaluation_tf1_test.py -> build\\bdist.win-amd64\\egg\\object_detection\\metrics\n",
      "copying build\\lib\\object_detection\\metrics\\calibration_metrics.py -> build\\bdist.win-amd64\\egg\\object_detection\\metrics\n",
      "copying build\\lib\\object_detection\\metrics\\calibration_metrics_tf1_test.py -> build\\bdist.win-amd64\\egg\\object_detection\\metrics\n",
      "copying build\\lib\\object_detection\\metrics\\coco_evaluation.py -> build\\bdist.win-amd64\\egg\\object_detection\\metrics\n",
      "copying build\\lib\\object_detection\\metrics\\coco_evaluation_test.py -> build\\bdist.win-amd64\\egg\\object_detection\\metrics\n",
      "copying build\\lib\\object_detection\\metrics\\coco_tools.py -> build\\bdist.win-amd64\\egg\\object_detection\\metrics\n",
      "copying build\\lib\\object_detection\\metrics\\coco_tools_test.py -> build\\bdist.win-amd64\\egg\\object_detection\\metrics\n",
      "copying build\\lib\\object_detection\\metrics\\io_utils.py -> build\\bdist.win-amd64\\egg\\object_detection\\metrics\n",
      "copying build\\lib\\object_detection\\metrics\\lvis_evaluation.py -> build\\bdist.win-amd64\\egg\\object_detection\\metrics\n",
      "copying build\\lib\\object_detection\\metrics\\lvis_evaluation_test.py -> build\\bdist.win-amd64\\egg\\object_detection\\metrics\n",
      "copying build\\lib\\object_detection\\metrics\\lvis_tools.py -> build\\bdist.win-amd64\\egg\\object_detection\\metrics\n",
      "copying build\\lib\\object_detection\\metrics\\lvis_tools_test.py -> build\\bdist.win-amd64\\egg\\object_detection\\metrics\n",
      "copying build\\lib\\object_detection\\metrics\\offline_eval_map_corloc.py -> build\\bdist.win-amd64\\egg\\object_detection\\metrics\n",
      "copying build\\lib\\object_detection\\metrics\\offline_eval_map_corloc_test.py -> build\\bdist.win-amd64\\egg\\object_detection\\metrics\n",
      "copying build\\lib\\object_detection\\metrics\\oid_challenge_evaluation.py -> build\\bdist.win-amd64\\egg\\object_detection\\metrics\n",
      "copying build\\lib\\object_detection\\metrics\\oid_challenge_evaluation_utils.py -> build\\bdist.win-amd64\\egg\\object_detection\\metrics\n",
      "copying build\\lib\\object_detection\\metrics\\oid_challenge_evaluation_utils_test.py -> build\\bdist.win-amd64\\egg\\object_detection\\metrics\n",
      "copying build\\lib\\object_detection\\metrics\\oid_vrd_challenge_evaluation.py -> build\\bdist.win-amd64\\egg\\object_detection\\metrics\n",
      "copying build\\lib\\object_detection\\metrics\\oid_vrd_challenge_evaluation_utils.py -> build\\bdist.win-amd64\\egg\\object_detection\\metrics\n",
      "copying build\\lib\\object_detection\\metrics\\oid_vrd_challenge_evaluation_utils_test.py -> build\\bdist.win-amd64\\egg\\object_detection\\metrics\n",
      "copying build\\lib\\object_detection\\metrics\\tf_example_parser.py -> build\\bdist.win-amd64\\egg\\object_detection\\metrics\n",
      "copying build\\lib\\object_detection\\metrics\\tf_example_parser_test.py -> build\\bdist.win-amd64\\egg\\object_detection\\metrics\n",
      "copying build\\lib\\object_detection\\metrics\\__init__.py -> build\\bdist.win-amd64\\egg\\object_detection\\metrics\n",
      "creating build\\bdist.win-amd64\\egg\\object_detection\\models\n",
      "copying build\\lib\\object_detection\\models\\bidirectional_feature_pyramid_generators.py -> build\\bdist.win-amd64\\egg\\object_detection\\models\n",
      "copying build\\lib\\object_detection\\models\\bidirectional_feature_pyramid_generators_tf2_test.py -> build\\bdist.win-amd64\\egg\\object_detection\\models\n",
      "copying build\\lib\\object_detection\\models\\center_net_hourglass_feature_extractor.py -> build\\bdist.win-amd64\\egg\\object_detection\\models\n",
      "copying build\\lib\\object_detection\\models\\center_net_hourglass_feature_extractor_tf2_test.py -> build\\bdist.win-amd64\\egg\\object_detection\\models\n",
      "copying build\\lib\\object_detection\\models\\center_net_mobilenet_v2_feature_extractor.py -> build\\bdist.win-amd64\\egg\\object_detection\\models\n",
      "copying build\\lib\\object_detection\\models\\center_net_mobilenet_v2_feature_extractor_tf2_test.py -> build\\bdist.win-amd64\\egg\\object_detection\\models\n",
      "copying build\\lib\\object_detection\\models\\center_net_mobilenet_v2_fpn_feature_extractor.py -> build\\bdist.win-amd64\\egg\\object_detection\\models\n",
      "copying build\\lib\\object_detection\\models\\center_net_mobilenet_v2_fpn_feature_extractor_tf2_test.py -> build\\bdist.win-amd64\\egg\\object_detection\\models\n",
      "copying build\\lib\\object_detection\\models\\center_net_resnet_feature_extractor.py -> build\\bdist.win-amd64\\egg\\object_detection\\models\n",
      "copying build\\lib\\object_detection\\models\\center_net_resnet_feature_extractor_tf2_test.py -> build\\bdist.win-amd64\\egg\\object_detection\\models\n",
      "copying build\\lib\\object_detection\\models\\center_net_resnet_v1_fpn_feature_extractor.py -> build\\bdist.win-amd64\\egg\\object_detection\\models\n",
      "copying build\\lib\\object_detection\\models\\center_net_resnet_v1_fpn_feature_extractor_tf2_test.py -> build\\bdist.win-amd64\\egg\\object_detection\\models\n",
      "copying build\\lib\\object_detection\\models\\embedded_ssd_mobilenet_v1_feature_extractor.py -> build\\bdist.win-amd64\\egg\\object_detection\\models\n",
      "copying build\\lib\\object_detection\\models\\embedded_ssd_mobilenet_v1_feature_extractor_tf1_test.py -> build\\bdist.win-amd64\\egg\\object_detection\\models\n",
      "copying build\\lib\\object_detection\\models\\faster_rcnn_inception_resnet_v2_feature_extractor.py -> build\\bdist.win-amd64\\egg\\object_detection\\models\n",
      "copying build\\lib\\object_detection\\models\\faster_rcnn_inception_resnet_v2_feature_extractor_tf1_test.py -> build\\bdist.win-amd64\\egg\\object_detection\\models\n",
      "copying build\\lib\\object_detection\\models\\faster_rcnn_inception_resnet_v2_keras_feature_extractor.py -> build\\bdist.win-amd64\\egg\\object_detection\\models\n",
      "copying build\\lib\\object_detection\\models\\faster_rcnn_inception_resnet_v2_keras_feature_extractor_tf2_test.py -> build\\bdist.win-amd64\\egg\\object_detection\\models\n",
      "copying build\\lib\\object_detection\\models\\faster_rcnn_inception_v2_feature_extractor.py -> build\\bdist.win-amd64\\egg\\object_detection\\models\n",
      "copying build\\lib\\object_detection\\models\\faster_rcnn_inception_v2_feature_extractor_tf1_test.py -> build\\bdist.win-amd64\\egg\\object_detection\\models\n",
      "copying build\\lib\\object_detection\\models\\faster_rcnn_mobilenet_v1_feature_extractor.py -> build\\bdist.win-amd64\\egg\\object_detection\\models\n",
      "copying build\\lib\\object_detection\\models\\faster_rcnn_mobilenet_v1_feature_extractor_tf1_test.py -> build\\bdist.win-amd64\\egg\\object_detection\\models\n",
      "copying build\\lib\\object_detection\\models\\faster_rcnn_nas_feature_extractor.py -> build\\bdist.win-amd64\\egg\\object_detection\\models\n",
      "copying build\\lib\\object_detection\\models\\faster_rcnn_nas_feature_extractor_tf1_test.py -> build\\bdist.win-amd64\\egg\\object_detection\\models\n",
      "copying build\\lib\\object_detection\\models\\faster_rcnn_pnas_feature_extractor.py -> build\\bdist.win-amd64\\egg\\object_detection\\models\n",
      "copying build\\lib\\object_detection\\models\\faster_rcnn_pnas_feature_extractor_tf1_test.py -> build\\bdist.win-amd64\\egg\\object_detection\\models\n",
      "copying build\\lib\\object_detection\\models\\faster_rcnn_resnet_keras_feature_extractor.py -> build\\bdist.win-amd64\\egg\\object_detection\\models\n",
      "copying build\\lib\\object_detection\\models\\faster_rcnn_resnet_keras_feature_extractor_tf2_test.py -> build\\bdist.win-amd64\\egg\\object_detection\\models\n",
      "copying build\\lib\\object_detection\\models\\faster_rcnn_resnet_v1_feature_extractor.py -> build\\bdist.win-amd64\\egg\\object_detection\\models\n",
      "copying build\\lib\\object_detection\\models\\faster_rcnn_resnet_v1_feature_extractor_tf1_test.py -> build\\bdist.win-amd64\\egg\\object_detection\\models\n",
      "copying build\\lib\\object_detection\\models\\faster_rcnn_resnet_v1_fpn_keras_feature_extractor.py -> build\\bdist.win-amd64\\egg\\object_detection\\models\n",
      "copying build\\lib\\object_detection\\models\\faster_rcnn_resnet_v1_fpn_keras_feature_extractor_tf2_test.py -> build\\bdist.win-amd64\\egg\\object_detection\\models\n",
      "copying build\\lib\\object_detection\\models\\feature_map_generators.py -> build\\bdist.win-amd64\\egg\\object_detection\\models\n",
      "copying build\\lib\\object_detection\\models\\feature_map_generators_test.py -> build\\bdist.win-amd64\\egg\\object_detection\\models\n",
      "creating build\\bdist.win-amd64\\egg\\object_detection\\models\\keras_models\n",
      "copying build\\lib\\object_detection\\models\\keras_models\\convert_keras_models.py -> build\\bdist.win-amd64\\egg\\object_detection\\models\\keras_models\n",
      "copying build\\lib\\object_detection\\models\\keras_models\\hourglass_network.py -> build\\bdist.win-amd64\\egg\\object_detection\\models\\keras_models\n",
      "copying build\\lib\\object_detection\\models\\keras_models\\hourglass_network_tf2_test.py -> build\\bdist.win-amd64\\egg\\object_detection\\models\\keras_models\n",
      "copying build\\lib\\object_detection\\models\\keras_models\\inception_resnet_v2.py -> build\\bdist.win-amd64\\egg\\object_detection\\models\\keras_models\n",
      "copying build\\lib\\object_detection\\models\\keras_models\\inception_resnet_v2_tf2_test.py -> build\\bdist.win-amd64\\egg\\object_detection\\models\\keras_models\n",
      "copying build\\lib\\object_detection\\models\\keras_models\\mobilenet_v1.py -> build\\bdist.win-amd64\\egg\\object_detection\\models\\keras_models\n",
      "copying build\\lib\\object_detection\\models\\keras_models\\mobilenet_v1_tf2_test.py -> build\\bdist.win-amd64\\egg\\object_detection\\models\\keras_models\n",
      "copying build\\lib\\object_detection\\models\\keras_models\\mobilenet_v2.py -> build\\bdist.win-amd64\\egg\\object_detection\\models\\keras_models\n",
      "copying build\\lib\\object_detection\\models\\keras_models\\mobilenet_v2_tf2_test.py -> build\\bdist.win-amd64\\egg\\object_detection\\models\\keras_models\n",
      "copying build\\lib\\object_detection\\models\\keras_models\\model_utils.py -> build\\bdist.win-amd64\\egg\\object_detection\\models\\keras_models\n",
      "copying build\\lib\\object_detection\\models\\keras_models\\nonlocal_block.py -> build\\bdist.win-amd64\\egg\\object_detection\\models\\keras_models\n",
      "copying build\\lib\\object_detection\\models\\keras_models\\nonlocal_block_tf2_test.py -> build\\bdist.win-amd64\\egg\\object_detection\\models\\keras_models\n",
      "copying build\\lib\\object_detection\\models\\keras_models\\resnet_v1.py -> build\\bdist.win-amd64\\egg\\object_detection\\models\\keras_models\n",
      "copying build\\lib\\object_detection\\models\\keras_models\\resnet_v1_tf2_test.py -> build\\bdist.win-amd64\\egg\\object_detection\\models\\keras_models\n",
      "copying build\\lib\\object_detection\\models\\keras_models\\test_utils.py -> build\\bdist.win-amd64\\egg\\object_detection\\models\\keras_models\n",
      "copying build\\lib\\object_detection\\models\\keras_models\\__init__.py -> build\\bdist.win-amd64\\egg\\object_detection\\models\\keras_models\n",
      "copying build\\lib\\object_detection\\models\\ssd_efficientnet_bifpn_feature_extractor.py -> build\\bdist.win-amd64\\egg\\object_detection\\models\n",
      "copying build\\lib\\object_detection\\models\\ssd_efficientnet_bifpn_feature_extractor_tf2_test.py -> build\\bdist.win-amd64\\egg\\object_detection\\models\n",
      "copying build\\lib\\object_detection\\models\\ssd_feature_extractor_test.py -> build\\bdist.win-amd64\\egg\\object_detection\\models\n",
      "copying build\\lib\\object_detection\\models\\ssd_inception_v2_feature_extractor.py -> build\\bdist.win-amd64\\egg\\object_detection\\models\n",
      "copying build\\lib\\object_detection\\models\\ssd_inception_v2_feature_extractor_tf1_test.py -> build\\bdist.win-amd64\\egg\\object_detection\\models\n",
      "copying build\\lib\\object_detection\\models\\ssd_inception_v3_feature_extractor.py -> build\\bdist.win-amd64\\egg\\object_detection\\models\n",
      "copying build\\lib\\object_detection\\models\\ssd_inception_v3_feature_extractor_tf1_test.py -> build\\bdist.win-amd64\\egg\\object_detection\\models\n",
      "copying build\\lib\\object_detection\\models\\ssd_mobiledet_feature_extractor.py -> build\\bdist.win-amd64\\egg\\object_detection\\models\n",
      "copying build\\lib\\object_detection\\models\\ssd_mobiledet_feature_extractor_tf1_test.py -> build\\bdist.win-amd64\\egg\\object_detection\\models\n",
      "copying build\\lib\\object_detection\\models\\ssd_mobilenet_edgetpu_feature_extractor.py -> build\\bdist.win-amd64\\egg\\object_detection\\models\n",
      "copying build\\lib\\object_detection\\models\\ssd_mobilenet_edgetpu_feature_extractor_testbase.py -> build\\bdist.win-amd64\\egg\\object_detection\\models\n",
      "copying build\\lib\\object_detection\\models\\ssd_mobilenet_edgetpu_feature_extractor_tf1_test.py -> build\\bdist.win-amd64\\egg\\object_detection\\models\n",
      "copying build\\lib\\object_detection\\models\\ssd_mobilenet_v1_feature_extractor.py -> build\\bdist.win-amd64\\egg\\object_detection\\models\n",
      "copying build\\lib\\object_detection\\models\\ssd_mobilenet_v1_feature_extractor_tf1_test.py -> build\\bdist.win-amd64\\egg\\object_detection\\models\n",
      "copying build\\lib\\object_detection\\models\\ssd_mobilenet_v1_feature_extractor_tf2_test.py -> build\\bdist.win-amd64\\egg\\object_detection\\models\n",
      "copying build\\lib\\object_detection\\models\\ssd_mobilenet_v1_fpn_feature_extractor.py -> build\\bdist.win-amd64\\egg\\object_detection\\models\n",
      "copying build\\lib\\object_detection\\models\\ssd_mobilenet_v1_fpn_feature_extractor_tf1_test.py -> build\\bdist.win-amd64\\egg\\object_detection\\models\n",
      "copying build\\lib\\object_detection\\models\\ssd_mobilenet_v1_fpn_feature_extractor_tf2_test.py -> build\\bdist.win-amd64\\egg\\object_detection\\models\n",
      "copying build\\lib\\object_detection\\models\\ssd_mobilenet_v1_fpn_keras_feature_extractor.py -> build\\bdist.win-amd64\\egg\\object_detection\\models\n",
      "copying build\\lib\\object_detection\\models\\ssd_mobilenet_v1_keras_feature_extractor.py -> build\\bdist.win-amd64\\egg\\object_detection\\models\n",
      "copying build\\lib\\object_detection\\models\\ssd_mobilenet_v1_ppn_feature_extractor.py -> build\\bdist.win-amd64\\egg\\object_detection\\models\n",
      "copying build\\lib\\object_detection\\models\\ssd_mobilenet_v1_ppn_feature_extractor_tf1_test.py -> build\\bdist.win-amd64\\egg\\object_detection\\models\n",
      "copying build\\lib\\object_detection\\models\\ssd_mobilenet_v2_feature_extractor.py -> build\\bdist.win-amd64\\egg\\object_detection\\models\n",
      "copying build\\lib\\object_detection\\models\\ssd_mobilenet_v2_feature_extractor_tf1_test.py -> build\\bdist.win-amd64\\egg\\object_detection\\models\n",
      "copying build\\lib\\object_detection\\models\\ssd_mobilenet_v2_feature_extractor_tf2_test.py -> build\\bdist.win-amd64\\egg\\object_detection\\models\n",
      "copying build\\lib\\object_detection\\models\\ssd_mobilenet_v2_fpn_feature_extractor.py -> build\\bdist.win-amd64\\egg\\object_detection\\models\n",
      "copying build\\lib\\object_detection\\models\\ssd_mobilenet_v2_fpn_feature_extractor_tf1_test.py -> build\\bdist.win-amd64\\egg\\object_detection\\models\n",
      "copying build\\lib\\object_detection\\models\\ssd_mobilenet_v2_fpn_feature_extractor_tf2_test.py -> build\\bdist.win-amd64\\egg\\object_detection\\models\n",
      "copying build\\lib\\object_detection\\models\\ssd_mobilenet_v2_fpn_keras_feature_extractor.py -> build\\bdist.win-amd64\\egg\\object_detection\\models\n",
      "copying build\\lib\\object_detection\\models\\ssd_mobilenet_v2_keras_feature_extractor.py -> build\\bdist.win-amd64\\egg\\object_detection\\models\n",
      "copying build\\lib\\object_detection\\models\\ssd_mobilenet_v2_mnasfpn_feature_extractor.py -> build\\bdist.win-amd64\\egg\\object_detection\\models\n",
      "copying build\\lib\\object_detection\\models\\ssd_mobilenet_v2_mnasfpn_feature_extractor_tf1_test.py -> build\\bdist.win-amd64\\egg\\object_detection\\models\n",
      "copying build\\lib\\object_detection\\models\\ssd_mobilenet_v3_feature_extractor.py -> build\\bdist.win-amd64\\egg\\object_detection\\models\n",
      "copying build\\lib\\object_detection\\models\\ssd_mobilenet_v3_feature_extractor_testbase.py -> build\\bdist.win-amd64\\egg\\object_detection\\models\n",
      "copying build\\lib\\object_detection\\models\\ssd_mobilenet_v3_feature_extractor_tf1_test.py -> build\\bdist.win-amd64\\egg\\object_detection\\models\n",
      "copying build\\lib\\object_detection\\models\\ssd_pnasnet_feature_extractor.py -> build\\bdist.win-amd64\\egg\\object_detection\\models\n",
      "copying build\\lib\\object_detection\\models\\ssd_pnasnet_feature_extractor_tf1_test.py -> build\\bdist.win-amd64\\egg\\object_detection\\models\n",
      "copying build\\lib\\object_detection\\models\\ssd_resnet_v1_fpn_feature_extractor.py -> build\\bdist.win-amd64\\egg\\object_detection\\models\n",
      "copying build\\lib\\object_detection\\models\\ssd_resnet_v1_fpn_feature_extractor_testbase.py -> build\\bdist.win-amd64\\egg\\object_detection\\models\n",
      "copying build\\lib\\object_detection\\models\\ssd_resnet_v1_fpn_feature_extractor_tf1_test.py -> build\\bdist.win-amd64\\egg\\object_detection\\models\n",
      "copying build\\lib\\object_detection\\models\\ssd_resnet_v1_fpn_feature_extractor_tf2_test.py -> build\\bdist.win-amd64\\egg\\object_detection\\models\n",
      "copying build\\lib\\object_detection\\models\\ssd_resnet_v1_fpn_keras_feature_extractor.py -> build\\bdist.win-amd64\\egg\\object_detection\\models\n",
      "copying build\\lib\\object_detection\\models\\ssd_resnet_v1_ppn_feature_extractor.py -> build\\bdist.win-amd64\\egg\\object_detection\\models\n",
      "copying build\\lib\\object_detection\\models\\ssd_resnet_v1_ppn_feature_extractor_testbase.py -> build\\bdist.win-amd64\\egg\\object_detection\\models\n",
      "copying build\\lib\\object_detection\\models\\ssd_resnet_v1_ppn_feature_extractor_tf1_test.py -> build\\bdist.win-amd64\\egg\\object_detection\\models\n",
      "copying build\\lib\\object_detection\\models\\ssd_spaghettinet_feature_extractor.py -> build\\bdist.win-amd64\\egg\\object_detection\\models\n",
      "copying build\\lib\\object_detection\\models\\ssd_spaghettinet_feature_extractor_tf1_test.py -> build\\bdist.win-amd64\\egg\\object_detection\\models\n",
      "copying build\\lib\\object_detection\\models\\__init__.py -> build\\bdist.win-amd64\\egg\\object_detection\\models\n",
      "copying build\\lib\\object_detection\\model_hparams.py -> build\\bdist.win-amd64\\egg\\object_detection\n",
      "copying build\\lib\\object_detection\\model_lib.py -> build\\bdist.win-amd64\\egg\\object_detection\n",
      "copying build\\lib\\object_detection\\model_lib_tf1_test.py -> build\\bdist.win-amd64\\egg\\object_detection\n",
      "copying build\\lib\\object_detection\\model_lib_tf2_test.py -> build\\bdist.win-amd64\\egg\\object_detection\n",
      "copying build\\lib\\object_detection\\model_lib_v2.py -> build\\bdist.win-amd64\\egg\\object_detection\n",
      "copying build\\lib\\object_detection\\model_main.py -> build\\bdist.win-amd64\\egg\\object_detection\n",
      "copying build\\lib\\object_detection\\model_main_tf2.py -> build\\bdist.win-amd64\\egg\\object_detection\n",
      "copying build\\lib\\object_detection\\model_tpu_main.py -> build\\bdist.win-amd64\\egg\\object_detection\n",
      "creating build\\bdist.win-amd64\\egg\\object_detection\\predictors\n",
      "copying build\\lib\\object_detection\\predictors\\convolutional_box_predictor.py -> build\\bdist.win-amd64\\egg\\object_detection\\predictors\n",
      "copying build\\lib\\object_detection\\predictors\\convolutional_box_predictor_tf1_test.py -> build\\bdist.win-amd64\\egg\\object_detection\\predictors\n",
      "copying build\\lib\\object_detection\\predictors\\convolutional_keras_box_predictor.py -> build\\bdist.win-amd64\\egg\\object_detection\\predictors\n",
      "copying build\\lib\\object_detection\\predictors\\convolutional_keras_box_predictor_tf2_test.py -> build\\bdist.win-amd64\\egg\\object_detection\\predictors\n",
      "creating build\\bdist.win-amd64\\egg\\object_detection\\predictors\\heads\n",
      "copying build\\lib\\object_detection\\predictors\\heads\\box_head.py -> build\\bdist.win-amd64\\egg\\object_detection\\predictors\\heads\n",
      "copying build\\lib\\object_detection\\predictors\\heads\\box_head_tf1_test.py -> build\\bdist.win-amd64\\egg\\object_detection\\predictors\\heads\n",
      "copying build\\lib\\object_detection\\predictors\\heads\\class_head.py -> build\\bdist.win-amd64\\egg\\object_detection\\predictors\\heads\n",
      "copying build\\lib\\object_detection\\predictors\\heads\\class_head_tf1_test.py -> build\\bdist.win-amd64\\egg\\object_detection\\predictors\\heads\n",
      "copying build\\lib\\object_detection\\predictors\\heads\\head.py -> build\\bdist.win-amd64\\egg\\object_detection\\predictors\\heads\n",
      "copying build\\lib\\object_detection\\predictors\\heads\\keras_box_head.py -> build\\bdist.win-amd64\\egg\\object_detection\\predictors\\heads\n",
      "copying build\\lib\\object_detection\\predictors\\heads\\keras_box_head_tf2_test.py -> build\\bdist.win-amd64\\egg\\object_detection\\predictors\\heads\n",
      "copying build\\lib\\object_detection\\predictors\\heads\\keras_class_head.py -> build\\bdist.win-amd64\\egg\\object_detection\\predictors\\heads\n",
      "copying build\\lib\\object_detection\\predictors\\heads\\keras_class_head_tf2_test.py -> build\\bdist.win-amd64\\egg\\object_detection\\predictors\\heads\n",
      "copying build\\lib\\object_detection\\predictors\\heads\\keras_mask_head.py -> build\\bdist.win-amd64\\egg\\object_detection\\predictors\\heads\n",
      "copying build\\lib\\object_detection\\predictors\\heads\\keras_mask_head_tf2_test.py -> build\\bdist.win-amd64\\egg\\object_detection\\predictors\\heads\n",
      "copying build\\lib\\object_detection\\predictors\\heads\\keypoint_head.py -> build\\bdist.win-amd64\\egg\\object_detection\\predictors\\heads\n",
      "copying build\\lib\\object_detection\\predictors\\heads\\keypoint_head_tf1_test.py -> build\\bdist.win-amd64\\egg\\object_detection\\predictors\\heads\n",
      "copying build\\lib\\object_detection\\predictors\\heads\\mask_head.py -> build\\bdist.win-amd64\\egg\\object_detection\\predictors\\heads\n",
      "copying build\\lib\\object_detection\\predictors\\heads\\mask_head_tf1_test.py -> build\\bdist.win-amd64\\egg\\object_detection\\predictors\\heads\n",
      "copying build\\lib\\object_detection\\predictors\\heads\\__init__.py -> build\\bdist.win-amd64\\egg\\object_detection\\predictors\\heads\n",
      "copying build\\lib\\object_detection\\predictors\\mask_rcnn_box_predictor.py -> build\\bdist.win-amd64\\egg\\object_detection\\predictors\n",
      "copying build\\lib\\object_detection\\predictors\\mask_rcnn_box_predictor_tf1_test.py -> build\\bdist.win-amd64\\egg\\object_detection\\predictors\n",
      "copying build\\lib\\object_detection\\predictors\\mask_rcnn_keras_box_predictor.py -> build\\bdist.win-amd64\\egg\\object_detection\\predictors\n",
      "copying build\\lib\\object_detection\\predictors\\mask_rcnn_keras_box_predictor_tf2_test.py -> build\\bdist.win-amd64\\egg\\object_detection\\predictors\n",
      "copying build\\lib\\object_detection\\predictors\\rfcn_box_predictor.py -> build\\bdist.win-amd64\\egg\\object_detection\\predictors\n",
      "copying build\\lib\\object_detection\\predictors\\rfcn_box_predictor_tf1_test.py -> build\\bdist.win-amd64\\egg\\object_detection\\predictors\n",
      "copying build\\lib\\object_detection\\predictors\\rfcn_keras_box_predictor.py -> build\\bdist.win-amd64\\egg\\object_detection\\predictors\n",
      "copying build\\lib\\object_detection\\predictors\\rfcn_keras_box_predictor_tf2_test.py -> build\\bdist.win-amd64\\egg\\object_detection\\predictors\n",
      "copying build\\lib\\object_detection\\predictors\\__init__.py -> build\\bdist.win-amd64\\egg\\object_detection\\predictors\n",
      "creating build\\bdist.win-amd64\\egg\\object_detection\\protos\n",
      "copying build\\lib\\object_detection\\protos\\anchor_generator_pb2.py -> build\\bdist.win-amd64\\egg\\object_detection\\protos\n",
      "copying build\\lib\\object_detection\\protos\\argmax_matcher_pb2.py -> build\\bdist.win-amd64\\egg\\object_detection\\protos\n",
      "copying build\\lib\\object_detection\\protos\\bipartite_matcher_pb2.py -> build\\bdist.win-amd64\\egg\\object_detection\\protos\n",
      "copying build\\lib\\object_detection\\protos\\box_coder_pb2.py -> build\\bdist.win-amd64\\egg\\object_detection\\protos\n",
      "copying build\\lib\\object_detection\\protos\\box_predictor_pb2.py -> build\\bdist.win-amd64\\egg\\object_detection\\protos\n",
      "copying build\\lib\\object_detection\\protos\\calibration_pb2.py -> build\\bdist.win-amd64\\egg\\object_detection\\protos\n",
      "copying build\\lib\\object_detection\\protos\\center_net_pb2.py -> build\\bdist.win-amd64\\egg\\object_detection\\protos\n",
      "copying build\\lib\\object_detection\\protos\\eval_pb2.py -> build\\bdist.win-amd64\\egg\\object_detection\\protos\n",
      "copying build\\lib\\object_detection\\protos\\faster_rcnn_box_coder_pb2.py -> build\\bdist.win-amd64\\egg\\object_detection\\protos\n",
      "copying build\\lib\\object_detection\\protos\\faster_rcnn_pb2.py -> build\\bdist.win-amd64\\egg\\object_detection\\protos\n",
      "copying build\\lib\\object_detection\\protos\\flexible_grid_anchor_generator_pb2.py -> build\\bdist.win-amd64\\egg\\object_detection\\protos\n",
      "copying build\\lib\\object_detection\\protos\\fpn_pb2.py -> build\\bdist.win-amd64\\egg\\object_detection\\protos\n",
      "copying build\\lib\\object_detection\\protos\\graph_rewriter_pb2.py -> build\\bdist.win-amd64\\egg\\object_detection\\protos\n",
      "copying build\\lib\\object_detection\\protos\\grid_anchor_generator_pb2.py -> build\\bdist.win-amd64\\egg\\object_detection\\protos\n",
      "copying build\\lib\\object_detection\\protos\\hyperparams_pb2.py -> build\\bdist.win-amd64\\egg\\object_detection\\protos\n",
      "copying build\\lib\\object_detection\\protos\\image_resizer_pb2.py -> build\\bdist.win-amd64\\egg\\object_detection\\protos\n",
      "copying build\\lib\\object_detection\\protos\\input_reader_pb2.py -> build\\bdist.win-amd64\\egg\\object_detection\\protos\n",
      "copying build\\lib\\object_detection\\protos\\keypoint_box_coder_pb2.py -> build\\bdist.win-amd64\\egg\\object_detection\\protos\n",
      "copying build\\lib\\object_detection\\protos\\losses_pb2.py -> build\\bdist.win-amd64\\egg\\object_detection\\protos\n",
      "copying build\\lib\\object_detection\\protos\\matcher_pb2.py -> build\\bdist.win-amd64\\egg\\object_detection\\protos\n",
      "copying build\\lib\\object_detection\\protos\\mean_stddev_box_coder_pb2.py -> build\\bdist.win-amd64\\egg\\object_detection\\protos\n",
      "copying build\\lib\\object_detection\\protos\\model_pb2.py -> build\\bdist.win-amd64\\egg\\object_detection\\protos\n",
      "copying build\\lib\\object_detection\\protos\\multiscale_anchor_generator_pb2.py -> build\\bdist.win-amd64\\egg\\object_detection\\protos\n",
      "copying build\\lib\\object_detection\\protos\\optimizer_pb2.py -> build\\bdist.win-amd64\\egg\\object_detection\\protos\n",
      "copying build\\lib\\object_detection\\protos\\pipeline_pb2.py -> build\\bdist.win-amd64\\egg\\object_detection\\protos\n",
      "copying build\\lib\\object_detection\\protos\\post_processing_pb2.py -> build\\bdist.win-amd64\\egg\\object_detection\\protos\n",
      "copying build\\lib\\object_detection\\protos\\preprocessor_pb2.py -> build\\bdist.win-amd64\\egg\\object_detection\\protos\n",
      "copying build\\lib\\object_detection\\protos\\region_similarity_calculator_pb2.py -> build\\bdist.win-amd64\\egg\\object_detection\\protos\n",
      "copying build\\lib\\object_detection\\protos\\square_box_coder_pb2.py -> build\\bdist.win-amd64\\egg\\object_detection\\protos\n",
      "copying build\\lib\\object_detection\\protos\\ssd_anchor_generator_pb2.py -> build\\bdist.win-amd64\\egg\\object_detection\\protos\n",
      "copying build\\lib\\object_detection\\protos\\ssd_pb2.py -> build\\bdist.win-amd64\\egg\\object_detection\\protos\n",
      "copying build\\lib\\object_detection\\protos\\string_int_label_map_pb2.py -> build\\bdist.win-amd64\\egg\\object_detection\\protos\n",
      "copying build\\lib\\object_detection\\protos\\target_assigner_pb2.py -> build\\bdist.win-amd64\\egg\\object_detection\\protos\n",
      "copying build\\lib\\object_detection\\protos\\train_pb2.py -> build\\bdist.win-amd64\\egg\\object_detection\\protos\n",
      "copying build\\lib\\object_detection\\protos\\__init__.py -> build\\bdist.win-amd64\\egg\\object_detection\\protos\n",
      "creating build\\bdist.win-amd64\\egg\\object_detection\\tpu_exporters\n",
      "copying build\\lib\\object_detection\\tpu_exporters\\export_saved_model_tpu.py -> build\\bdist.win-amd64\\egg\\object_detection\\tpu_exporters\n",
      "copying build\\lib\\object_detection\\tpu_exporters\\export_saved_model_tpu_lib.py -> build\\bdist.win-amd64\\egg\\object_detection\\tpu_exporters\n",
      "copying build\\lib\\object_detection\\tpu_exporters\\export_saved_model_tpu_lib_tf1_test.py -> build\\bdist.win-amd64\\egg\\object_detection\\tpu_exporters\n",
      "copying build\\lib\\object_detection\\tpu_exporters\\faster_rcnn.py -> build\\bdist.win-amd64\\egg\\object_detection\\tpu_exporters\n",
      "copying build\\lib\\object_detection\\tpu_exporters\\ssd.py -> build\\bdist.win-amd64\\egg\\object_detection\\tpu_exporters\n",
      "creating build\\bdist.win-amd64\\egg\\object_detection\\tpu_exporters\\testdata\n",
      "copying build\\lib\\object_detection\\tpu_exporters\\testdata\\__init__.py -> build\\bdist.win-amd64\\egg\\object_detection\\tpu_exporters\\testdata\n",
      "copying build\\lib\\object_detection\\tpu_exporters\\utils.py -> build\\bdist.win-amd64\\egg\\object_detection\\tpu_exporters\n",
      "copying build\\lib\\object_detection\\tpu_exporters\\utils_test.py -> build\\bdist.win-amd64\\egg\\object_detection\\tpu_exporters\n",
      "copying build\\lib\\object_detection\\tpu_exporters\\__init__.py -> build\\bdist.win-amd64\\egg\\object_detection\\tpu_exporters\n",
      "creating build\\bdist.win-amd64\\egg\\object_detection\\utils\n",
      "copying build\\lib\\object_detection\\utils\\autoaugment_utils.py -> build\\bdist.win-amd64\\egg\\object_detection\\utils\n",
      "copying build\\lib\\object_detection\\utils\\bifpn_utils.py -> build\\bdist.win-amd64\\egg\\object_detection\\utils\n",
      "copying build\\lib\\object_detection\\utils\\category_util.py -> build\\bdist.win-amd64\\egg\\object_detection\\utils\n",
      "copying build\\lib\\object_detection\\utils\\category_util_test.py -> build\\bdist.win-amd64\\egg\\object_detection\\utils\n",
      "copying build\\lib\\object_detection\\utils\\colab_utils.py -> build\\bdist.win-amd64\\egg\\object_detection\\utils\n",
      "copying build\\lib\\object_detection\\utils\\config_util.py -> build\\bdist.win-amd64\\egg\\object_detection\\utils\n",
      "copying build\\lib\\object_detection\\utils\\config_util_test.py -> build\\bdist.win-amd64\\egg\\object_detection\\utils\n",
      "copying build\\lib\\object_detection\\utils\\context_manager.py -> build\\bdist.win-amd64\\egg\\object_detection\\utils\n",
      "copying build\\lib\\object_detection\\utils\\context_manager_test.py -> build\\bdist.win-amd64\\egg\\object_detection\\utils\n",
      "copying build\\lib\\object_detection\\utils\\dataset_util.py -> build\\bdist.win-amd64\\egg\\object_detection\\utils\n",
      "copying build\\lib\\object_detection\\utils\\dataset_util_test.py -> build\\bdist.win-amd64\\egg\\object_detection\\utils\n",
      "copying build\\lib\\object_detection\\utils\\json_utils.py -> build\\bdist.win-amd64\\egg\\object_detection\\utils\n",
      "copying build\\lib\\object_detection\\utils\\json_utils_test.py -> build\\bdist.win-amd64\\egg\\object_detection\\utils\n",
      "copying build\\lib\\object_detection\\utils\\label_map_util.py -> build\\bdist.win-amd64\\egg\\object_detection\\utils\n",
      "copying build\\lib\\object_detection\\utils\\label_map_util_test.py -> build\\bdist.win-amd64\\egg\\object_detection\\utils\n",
      "copying build\\lib\\object_detection\\utils\\learning_schedules.py -> build\\bdist.win-amd64\\egg\\object_detection\\utils\n",
      "copying build\\lib\\object_detection\\utils\\learning_schedules_test.py -> build\\bdist.win-amd64\\egg\\object_detection\\utils\n",
      "copying build\\lib\\object_detection\\utils\\metrics.py -> build\\bdist.win-amd64\\egg\\object_detection\\utils\n",
      "copying build\\lib\\object_detection\\utils\\metrics_test.py -> build\\bdist.win-amd64\\egg\\object_detection\\utils\n",
      "copying build\\lib\\object_detection\\utils\\model_util.py -> build\\bdist.win-amd64\\egg\\object_detection\\utils\n",
      "copying build\\lib\\object_detection\\utils\\model_util_tf2_test.py -> build\\bdist.win-amd64\\egg\\object_detection\\utils\n",
      "copying build\\lib\\object_detection\\utils\\np_box_list.py -> build\\bdist.win-amd64\\egg\\object_detection\\utils\n",
      "copying build\\lib\\object_detection\\utils\\np_box_list_ops.py -> build\\bdist.win-amd64\\egg\\object_detection\\utils\n",
      "copying build\\lib\\object_detection\\utils\\np_box_list_ops_test.py -> build\\bdist.win-amd64\\egg\\object_detection\\utils\n",
      "copying build\\lib\\object_detection\\utils\\np_box_list_test.py -> build\\bdist.win-amd64\\egg\\object_detection\\utils\n",
      "copying build\\lib\\object_detection\\utils\\np_box_mask_list.py -> build\\bdist.win-amd64\\egg\\object_detection\\utils\n",
      "copying build\\lib\\object_detection\\utils\\np_box_mask_list_ops.py -> build\\bdist.win-amd64\\egg\\object_detection\\utils\n",
      "copying build\\lib\\object_detection\\utils\\np_box_mask_list_ops_test.py -> build\\bdist.win-amd64\\egg\\object_detection\\utils\n",
      "copying build\\lib\\object_detection\\utils\\np_box_mask_list_test.py -> build\\bdist.win-amd64\\egg\\object_detection\\utils\n",
      "copying build\\lib\\object_detection\\utils\\np_box_ops.py -> build\\bdist.win-amd64\\egg\\object_detection\\utils\n",
      "copying build\\lib\\object_detection\\utils\\np_box_ops_test.py -> build\\bdist.win-amd64\\egg\\object_detection\\utils\n",
      "copying build\\lib\\object_detection\\utils\\np_mask_ops.py -> build\\bdist.win-amd64\\egg\\object_detection\\utils\n",
      "copying build\\lib\\object_detection\\utils\\np_mask_ops_test.py -> build\\bdist.win-amd64\\egg\\object_detection\\utils\n",
      "copying build\\lib\\object_detection\\utils\\object_detection_evaluation.py -> build\\bdist.win-amd64\\egg\\object_detection\\utils\n",
      "copying build\\lib\\object_detection\\utils\\object_detection_evaluation_test.py -> build\\bdist.win-amd64\\egg\\object_detection\\utils\n",
      "copying build\\lib\\object_detection\\utils\\ops.py -> build\\bdist.win-amd64\\egg\\object_detection\\utils\n",
      "copying build\\lib\\object_detection\\utils\\ops_test.py -> build\\bdist.win-amd64\\egg\\object_detection\\utils\n",
      "copying build\\lib\\object_detection\\utils\\patch_ops.py -> build\\bdist.win-amd64\\egg\\object_detection\\utils\n",
      "copying build\\lib\\object_detection\\utils\\patch_ops_test.py -> build\\bdist.win-amd64\\egg\\object_detection\\utils\n",
      "copying build\\lib\\object_detection\\utils\\per_image_evaluation.py -> build\\bdist.win-amd64\\egg\\object_detection\\utils\n",
      "copying build\\lib\\object_detection\\utils\\per_image_evaluation_test.py -> build\\bdist.win-amd64\\egg\\object_detection\\utils\n",
      "copying build\\lib\\object_detection\\utils\\per_image_vrd_evaluation.py -> build\\bdist.win-amd64\\egg\\object_detection\\utils\n",
      "copying build\\lib\\object_detection\\utils\\per_image_vrd_evaluation_test.py -> build\\bdist.win-amd64\\egg\\object_detection\\utils\n",
      "copying build\\lib\\object_detection\\utils\\shape_utils.py -> build\\bdist.win-amd64\\egg\\object_detection\\utils\n",
      "copying build\\lib\\object_detection\\utils\\shape_utils_test.py -> build\\bdist.win-amd64\\egg\\object_detection\\utils\n",
      "copying build\\lib\\object_detection\\utils\\spatial_transform_ops.py -> build\\bdist.win-amd64\\egg\\object_detection\\utils\n",
      "copying build\\lib\\object_detection\\utils\\spatial_transform_ops_test.py -> build\\bdist.win-amd64\\egg\\object_detection\\utils\n",
      "copying build\\lib\\object_detection\\utils\\static_shape.py -> build\\bdist.win-amd64\\egg\\object_detection\\utils\n",
      "copying build\\lib\\object_detection\\utils\\static_shape_test.py -> build\\bdist.win-amd64\\egg\\object_detection\\utils\n",
      "copying build\\lib\\object_detection\\utils\\target_assigner_utils.py -> build\\bdist.win-amd64\\egg\\object_detection\\utils\n",
      "copying build\\lib\\object_detection\\utils\\target_assigner_utils_test.py -> build\\bdist.win-amd64\\egg\\object_detection\\utils\n",
      "copying build\\lib\\object_detection\\utils\\test_case.py -> build\\bdist.win-amd64\\egg\\object_detection\\utils\n",
      "copying build\\lib\\object_detection\\utils\\test_case_test.py -> build\\bdist.win-amd64\\egg\\object_detection\\utils\n",
      "copying build\\lib\\object_detection\\utils\\test_utils.py -> build\\bdist.win-amd64\\egg\\object_detection\\utils\n",
      "copying build\\lib\\object_detection\\utils\\test_utils_test.py -> build\\bdist.win-amd64\\egg\\object_detection\\utils\n",
      "copying build\\lib\\object_detection\\utils\\tf_version.py -> build\\bdist.win-amd64\\egg\\object_detection\\utils\n",
      "copying build\\lib\\object_detection\\utils\\variables_helper.py -> build\\bdist.win-amd64\\egg\\object_detection\\utils\n",
      "copying build\\lib\\object_detection\\utils\\variables_helper_tf1_test.py -> build\\bdist.win-amd64\\egg\\object_detection\\utils\n",
      "copying build\\lib\\object_detection\\utils\\visualization_utils.py -> build\\bdist.win-amd64\\egg\\object_detection\\utils\n",
      "copying build\\lib\\object_detection\\utils\\visualization_utils_test.py -> build\\bdist.win-amd64\\egg\\object_detection\\utils\n",
      "copying build\\lib\\object_detection\\utils\\vrd_evaluation.py -> build\\bdist.win-amd64\\egg\\object_detection\\utils\n",
      "copying build\\lib\\object_detection\\utils\\vrd_evaluation_test.py -> build\\bdist.win-amd64\\egg\\object_detection\\utils\n",
      "copying build\\lib\\object_detection\\utils\\__init__.py -> build\\bdist.win-amd64\\egg\\object_detection\\utils\n",
      "copying build\\lib\\object_detection\\__init__.py -> build\\bdist.win-amd64\\egg\\object_detection\n",
      "creating build\\bdist.win-amd64\\egg\\preprocessing\n",
      "copying build\\lib\\preprocessing\\cifarnet_preprocessing.py -> build\\bdist.win-amd64\\egg\\preprocessing\n",
      "copying build\\lib\\preprocessing\\inception_preprocessing.py -> build\\bdist.win-amd64\\egg\\preprocessing\n",
      "copying build\\lib\\preprocessing\\lenet_preprocessing.py -> build\\bdist.win-amd64\\egg\\preprocessing\n",
      "copying build\\lib\\preprocessing\\preprocessing_factory.py -> build\\bdist.win-amd64\\egg\\preprocessing\n",
      "copying build\\lib\\preprocessing\\vgg_preprocessing.py -> build\\bdist.win-amd64\\egg\\preprocessing\n",
      "copying build\\lib\\preprocessing\\__init__.py -> build\\bdist.win-amd64\\egg\\preprocessing\n",
      "byte-compiling build\\bdist.win-amd64\\egg\\datasets\\build_imagenet_data.py to build_imagenet_data.cpython-38.pyc\n",
      "byte-compiling build\\bdist.win-amd64\\egg\\datasets\\cifar10.py to cifar10.cpython-38.pyc\n",
      "byte-compiling build\\bdist.win-amd64\\egg\\datasets\\dataset_factory.py to dataset_factory.cpython-38.pyc\n",
      "byte-compiling build\\bdist.win-amd64\\egg\\datasets\\dataset_utils.py to dataset_utils.cpython-38.pyc\n",
      "byte-compiling build\\bdist.win-amd64\\egg\\datasets\\download_and_convert_cifar10.py to download_and_convert_cifar10.cpython-38.pyc\n",
      "byte-compiling build\\bdist.win-amd64\\egg\\datasets\\download_and_convert_flowers.py to download_and_convert_flowers.cpython-38.pyc\n",
      "byte-compiling build\\bdist.win-amd64\\egg\\datasets\\download_and_convert_mnist.py to download_and_convert_mnist.cpython-38.pyc\n",
      "byte-compiling build\\bdist.win-amd64\\egg\\datasets\\download_and_convert_visualwakewords.py to download_and_convert_visualwakewords.cpython-38.pyc\n",
      "byte-compiling build\\bdist.win-amd64\\egg\\datasets\\download_and_convert_visualwakewords_lib.py to download_and_convert_visualwakewords_lib.cpython-38.pyc\n",
      "byte-compiling build\\bdist.win-amd64\\egg\\datasets\\flowers.py to flowers.cpython-38.pyc\n",
      "byte-compiling build\\bdist.win-amd64\\egg\\datasets\\imagenet.py to imagenet.cpython-38.pyc\n",
      "byte-compiling build\\bdist.win-amd64\\egg\\datasets\\mnist.py to mnist.cpython-38.pyc\n",
      "byte-compiling build\\bdist.win-amd64\\egg\\datasets\\preprocess_imagenet_validation_data.py to preprocess_imagenet_validation_data.cpython-38.pyc\n",
      "byte-compiling build\\bdist.win-amd64\\egg\\datasets\\process_bounding_boxes.py to process_bounding_boxes.cpython-38.pyc\n",
      "byte-compiling build\\bdist.win-amd64\\egg\\datasets\\visualwakewords.py to visualwakewords.cpython-38.pyc\n",
      "byte-compiling build\\bdist.win-amd64\\egg\\datasets\\__init__.py to __init__.cpython-38.pyc\n",
      "byte-compiling build\\bdist.win-amd64\\egg\\deployment\\model_deploy.py to model_deploy.cpython-38.pyc\n",
      "byte-compiling build\\bdist.win-amd64\\egg\\deployment\\model_deploy_test.py to model_deploy_test.cpython-38.pyc\n",
      "byte-compiling build\\bdist.win-amd64\\egg\\deployment\\__init__.py to __init__.cpython-38.pyc\n",
      "byte-compiling build\\bdist.win-amd64\\egg\\nets\\alexnet.py to alexnet.cpython-38.pyc\n",
      "byte-compiling build\\bdist.win-amd64\\egg\\nets\\alexnet_test.py to alexnet_test.cpython-38.pyc\n",
      "byte-compiling build\\bdist.win-amd64\\egg\\nets\\cifarnet.py to cifarnet.cpython-38.pyc\n",
      "byte-compiling build\\bdist.win-amd64\\egg\\nets\\cyclegan.py to cyclegan.cpython-38.pyc\n",
      "byte-compiling build\\bdist.win-amd64\\egg\\nets\\cyclegan_test.py to cyclegan_test.cpython-38.pyc\n",
      "byte-compiling build\\bdist.win-amd64\\egg\\nets\\dcgan.py to dcgan.cpython-38.pyc\n",
      "byte-compiling build\\bdist.win-amd64\\egg\\nets\\dcgan_test.py to dcgan_test.cpython-38.pyc\n",
      "byte-compiling build\\bdist.win-amd64\\egg\\nets\\i3d.py to i3d.cpython-38.pyc\n",
      "byte-compiling build\\bdist.win-amd64\\egg\\nets\\i3d_test.py to i3d_test.cpython-38.pyc\n",
      "byte-compiling build\\bdist.win-amd64\\egg\\nets\\i3d_utils.py to i3d_utils.cpython-38.pyc\n",
      "byte-compiling build\\bdist.win-amd64\\egg\\nets\\inception.py to inception.cpython-38.pyc\n",
      "byte-compiling build\\bdist.win-amd64\\egg\\nets\\inception_resnet_v2.py to inception_resnet_v2.cpython-38.pyc\n",
      "byte-compiling build\\bdist.win-amd64\\egg\\nets\\inception_resnet_v2_test.py to inception_resnet_v2_test.cpython-38.pyc\n",
      "byte-compiling build\\bdist.win-amd64\\egg\\nets\\inception_utils.py to inception_utils.cpython-38.pyc\n",
      "byte-compiling build\\bdist.win-amd64\\egg\\nets\\inception_v1.py to inception_v1.cpython-38.pyc\n",
      "byte-compiling build\\bdist.win-amd64\\egg\\nets\\inception_v1_test.py to inception_v1_test.cpython-38.pyc\n",
      "byte-compiling build\\bdist.win-amd64\\egg\\nets\\inception_v2.py to inception_v2.cpython-38.pyc\n",
      "byte-compiling build\\bdist.win-amd64\\egg\\nets\\inception_v2_test.py to inception_v2_test.cpython-38.pyc\n",
      "byte-compiling build\\bdist.win-amd64\\egg\\nets\\inception_v3.py to inception_v3.cpython-38.pyc\n",
      "byte-compiling build\\bdist.win-amd64\\egg\\nets\\inception_v3_test.py to inception_v3_test.cpython-38.pyc\n",
      "byte-compiling build\\bdist.win-amd64\\egg\\nets\\inception_v4.py to inception_v4.cpython-38.pyc\n",
      "byte-compiling build\\bdist.win-amd64\\egg\\nets\\inception_v4_test.py to inception_v4_test.cpython-38.pyc\n",
      "byte-compiling build\\bdist.win-amd64\\egg\\nets\\lenet.py to lenet.cpython-38.pyc\n",
      "byte-compiling build\\bdist.win-amd64\\egg\\nets\\mobilenet\\conv_blocks.py to conv_blocks.cpython-38.pyc\n",
      "byte-compiling build\\bdist.win-amd64\\egg\\nets\\mobilenet\\mobilenet.py to mobilenet.cpython-38.pyc\n",
      "byte-compiling build\\bdist.win-amd64\\egg\\nets\\mobilenet\\mobilenet_v2.py to mobilenet_v2.cpython-38.pyc\n",
      "byte-compiling build\\bdist.win-amd64\\egg\\nets\\mobilenet\\mobilenet_v2_test.py to mobilenet_v2_test.cpython-38.pyc\n",
      "byte-compiling build\\bdist.win-amd64\\egg\\nets\\mobilenet\\mobilenet_v3.py to mobilenet_v3.cpython-38.pyc\n",
      "byte-compiling build\\bdist.win-amd64\\egg\\nets\\mobilenet\\mobilenet_v3_test.py to mobilenet_v3_test.cpython-38.pyc\n",
      "byte-compiling build\\bdist.win-amd64\\egg\\nets\\mobilenet\\__init__.py to __init__.cpython-38.pyc\n",
      "byte-compiling build\\bdist.win-amd64\\egg\\nets\\mobilenet_v1.py to mobilenet_v1.cpython-38.pyc\n",
      "byte-compiling build\\bdist.win-amd64\\egg\\nets\\mobilenet_v1_eval.py to mobilenet_v1_eval.cpython-38.pyc\n",
      "byte-compiling build\\bdist.win-amd64\\egg\\nets\\mobilenet_v1_test.py to mobilenet_v1_test.cpython-38.pyc\n",
      "byte-compiling build\\bdist.win-amd64\\egg\\nets\\mobilenet_v1_train.py to mobilenet_v1_train.cpython-38.pyc\n",
      "byte-compiling build\\bdist.win-amd64\\egg\\nets\\nasnet\\nasnet.py to nasnet.cpython-38.pyc\n",
      "byte-compiling build\\bdist.win-amd64\\egg\\nets\\nasnet\\nasnet_test.py to nasnet_test.cpython-38.pyc\n",
      "byte-compiling build\\bdist.win-amd64\\egg\\nets\\nasnet\\nasnet_utils.py to nasnet_utils.cpython-38.pyc\n",
      "byte-compiling build\\bdist.win-amd64\\egg\\nets\\nasnet\\nasnet_utils_test.py to nasnet_utils_test.cpython-38.pyc\n",
      "byte-compiling build\\bdist.win-amd64\\egg\\nets\\nasnet\\pnasnet.py to pnasnet.cpython-38.pyc\n",
      "byte-compiling build\\bdist.win-amd64\\egg\\nets\\nasnet\\pnasnet_test.py to pnasnet_test.cpython-38.pyc\n",
      "byte-compiling build\\bdist.win-amd64\\egg\\nets\\nasnet\\__init__.py to __init__.cpython-38.pyc\n",
      "byte-compiling build\\bdist.win-amd64\\egg\\nets\\nets_factory.py to nets_factory.cpython-38.pyc\n",
      "byte-compiling build\\bdist.win-amd64\\egg\\nets\\nets_factory_test.py to nets_factory_test.cpython-38.pyc\n",
      "byte-compiling build\\bdist.win-amd64\\egg\\nets\\overfeat.py to overfeat.cpython-38.pyc\n",
      "byte-compiling build\\bdist.win-amd64\\egg\\nets\\overfeat_test.py to overfeat_test.cpython-38.pyc\n",
      "byte-compiling build\\bdist.win-amd64\\egg\\nets\\pix2pix.py to pix2pix.cpython-38.pyc\n",
      "byte-compiling build\\bdist.win-amd64\\egg\\nets\\pix2pix_test.py to pix2pix_test.cpython-38.pyc\n",
      "byte-compiling build\\bdist.win-amd64\\egg\\nets\\post_training_quantization.py to post_training_quantization.cpython-38.pyc\n",
      "byte-compiling build\\bdist.win-amd64\\egg\\nets\\resnet_utils.py to resnet_utils.cpython-38.pyc\n",
      "byte-compiling build\\bdist.win-amd64\\egg\\nets\\resnet_v1.py to resnet_v1.cpython-38.pyc\n",
      "byte-compiling build\\bdist.win-amd64\\egg\\nets\\resnet_v1_test.py to resnet_v1_test.cpython-38.pyc\n",
      "byte-compiling build\\bdist.win-amd64\\egg\\nets\\resnet_v2.py to resnet_v2.cpython-38.pyc\n",
      "byte-compiling build\\bdist.win-amd64\\egg\\nets\\resnet_v2_test.py to resnet_v2_test.cpython-38.pyc\n",
      "byte-compiling build\\bdist.win-amd64\\egg\\nets\\s3dg.py to s3dg.cpython-38.pyc\n",
      "byte-compiling build\\bdist.win-amd64\\egg\\nets\\s3dg_test.py to s3dg_test.cpython-38.pyc\n",
      "byte-compiling build\\bdist.win-amd64\\egg\\nets\\vgg.py to vgg.cpython-38.pyc\n",
      "byte-compiling build\\bdist.win-amd64\\egg\\nets\\vgg_test.py to vgg_test.cpython-38.pyc\n",
      "byte-compiling build\\bdist.win-amd64\\egg\\nets\\__init__.py to __init__.cpython-38.pyc\n",
      "byte-compiling build\\bdist.win-amd64\\egg\\object_detection\\anchor_generators\\flexible_grid_anchor_generator.py to flexible_grid_anchor_generator.cpython-38.pyc\n",
      "byte-compiling build\\bdist.win-amd64\\egg\\object_detection\\anchor_generators\\flexible_grid_anchor_generator_test.py to flexible_grid_anchor_generator_test.cpython-38.pyc\n",
      "byte-compiling build\\bdist.win-amd64\\egg\\object_detection\\anchor_generators\\grid_anchor_generator.py to grid_anchor_generator.cpython-38.pyc\n",
      "byte-compiling build\\bdist.win-amd64\\egg\\object_detection\\anchor_generators\\grid_anchor_generator_test.py to grid_anchor_generator_test.cpython-38.pyc\n",
      "byte-compiling build\\bdist.win-amd64\\egg\\object_detection\\anchor_generators\\multiple_grid_anchor_generator.py to multiple_grid_anchor_generator.cpython-38.pyc\n",
      "byte-compiling build\\bdist.win-amd64\\egg\\object_detection\\anchor_generators\\multiple_grid_anchor_generator_test.py to multiple_grid_anchor_generator_test.cpython-38.pyc\n",
      "byte-compiling build\\bdist.win-amd64\\egg\\object_detection\\anchor_generators\\multiscale_grid_anchor_generator.py to multiscale_grid_anchor_generator.cpython-38.pyc\n",
      "byte-compiling build\\bdist.win-amd64\\egg\\object_detection\\anchor_generators\\multiscale_grid_anchor_generator_test.py to multiscale_grid_anchor_generator_test.cpython-38.pyc\n",
      "byte-compiling build\\bdist.win-amd64\\egg\\object_detection\\anchor_generators\\__init__.py to __init__.cpython-38.pyc\n",
      "byte-compiling build\\bdist.win-amd64\\egg\\object_detection\\box_coders\\faster_rcnn_box_coder.py to faster_rcnn_box_coder.cpython-38.pyc\n",
      "byte-compiling build\\bdist.win-amd64\\egg\\object_detection\\box_coders\\faster_rcnn_box_coder_test.py to faster_rcnn_box_coder_test.cpython-38.pyc\n",
      "byte-compiling build\\bdist.win-amd64\\egg\\object_detection\\box_coders\\keypoint_box_coder.py to keypoint_box_coder.cpython-38.pyc\n",
      "byte-compiling build\\bdist.win-amd64\\egg\\object_detection\\box_coders\\keypoint_box_coder_test.py to keypoint_box_coder_test.cpython-38.pyc\n",
      "byte-compiling build\\bdist.win-amd64\\egg\\object_detection\\box_coders\\mean_stddev_box_coder.py to mean_stddev_box_coder.cpython-38.pyc\n",
      "byte-compiling build\\bdist.win-amd64\\egg\\object_detection\\box_coders\\mean_stddev_box_coder_test.py to mean_stddev_box_coder_test.cpython-38.pyc\n",
      "byte-compiling build\\bdist.win-amd64\\egg\\object_detection\\box_coders\\square_box_coder.py to square_box_coder.cpython-38.pyc\n",
      "byte-compiling build\\bdist.win-amd64\\egg\\object_detection\\box_coders\\square_box_coder_test.py to square_box_coder_test.cpython-38.pyc\n",
      "byte-compiling build\\bdist.win-amd64\\egg\\object_detection\\box_coders\\__init__.py to __init__.cpython-38.pyc\n",
      "byte-compiling build\\bdist.win-amd64\\egg\\object_detection\\builders\\anchor_generator_builder.py to anchor_generator_builder.cpython-38.pyc\n",
      "byte-compiling build\\bdist.win-amd64\\egg\\object_detection\\builders\\anchor_generator_builder_test.py to anchor_generator_builder_test.cpython-38.pyc\n",
      "byte-compiling build\\bdist.win-amd64\\egg\\object_detection\\builders\\box_coder_builder.py to box_coder_builder.cpython-38.pyc\n",
      "byte-compiling build\\bdist.win-amd64\\egg\\object_detection\\builders\\box_coder_builder_test.py to box_coder_builder_test.cpython-38.pyc\n",
      "byte-compiling build\\bdist.win-amd64\\egg\\object_detection\\builders\\box_predictor_builder.py to box_predictor_builder.cpython-38.pyc\n",
      "byte-compiling build\\bdist.win-amd64\\egg\\object_detection\\builders\\box_predictor_builder_test.py to box_predictor_builder_test.cpython-38.pyc\n",
      "byte-compiling build\\bdist.win-amd64\\egg\\object_detection\\builders\\calibration_builder.py to calibration_builder.cpython-38.pyc\n",
      "byte-compiling build\\bdist.win-amd64\\egg\\object_detection\\builders\\calibration_builder_test.py to calibration_builder_test.cpython-38.pyc\n",
      "byte-compiling build\\bdist.win-amd64\\egg\\object_detection\\builders\\dataset_builder.py to dataset_builder.cpython-38.pyc\n",
      "byte-compiling build\\bdist.win-amd64\\egg\\object_detection\\builders\\dataset_builder_test.py to dataset_builder_test.cpython-38.pyc\n",
      "byte-compiling build\\bdist.win-amd64\\egg\\object_detection\\builders\\decoder_builder.py to decoder_builder.cpython-38.pyc\n",
      "byte-compiling build\\bdist.win-amd64\\egg\\object_detection\\builders\\decoder_builder_test.py to decoder_builder_test.cpython-38.pyc\n",
      "byte-compiling build\\bdist.win-amd64\\egg\\object_detection\\builders\\graph_rewriter_builder.py to graph_rewriter_builder.cpython-38.pyc\n",
      "byte-compiling build\\bdist.win-amd64\\egg\\object_detection\\builders\\graph_rewriter_builder_tf1_test.py to graph_rewriter_builder_tf1_test.cpython-38.pyc\n",
      "byte-compiling build\\bdist.win-amd64\\egg\\object_detection\\builders\\hyperparams_builder.py to hyperparams_builder.cpython-38.pyc\n",
      "byte-compiling build\\bdist.win-amd64\\egg\\object_detection\\builders\\hyperparams_builder_test.py to hyperparams_builder_test.cpython-38.pyc\n",
      "byte-compiling build\\bdist.win-amd64\\egg\\object_detection\\builders\\image_resizer_builder.py to image_resizer_builder.cpython-38.pyc\n",
      "byte-compiling build\\bdist.win-amd64\\egg\\object_detection\\builders\\image_resizer_builder_test.py to image_resizer_builder_test.cpython-38.pyc\n",
      "byte-compiling build\\bdist.win-amd64\\egg\\object_detection\\builders\\input_reader_builder.py to input_reader_builder.cpython-38.pyc\n",
      "byte-compiling build\\bdist.win-amd64\\egg\\object_detection\\builders\\input_reader_builder_tf1_test.py to input_reader_builder_tf1_test.cpython-38.pyc\n",
      "byte-compiling build\\bdist.win-amd64\\egg\\object_detection\\builders\\losses_builder.py to losses_builder.cpython-38.pyc\n",
      "byte-compiling build\\bdist.win-amd64\\egg\\object_detection\\builders\\losses_builder_test.py to losses_builder_test.cpython-38.pyc\n",
      "byte-compiling build\\bdist.win-amd64\\egg\\object_detection\\builders\\matcher_builder.py to matcher_builder.cpython-38.pyc\n",
      "byte-compiling build\\bdist.win-amd64\\egg\\object_detection\\builders\\matcher_builder_test.py to matcher_builder_test.cpython-38.pyc\n",
      "byte-compiling build\\bdist.win-amd64\\egg\\object_detection\\builders\\model_builder.py to model_builder.cpython-38.pyc\n",
      "byte-compiling build\\bdist.win-amd64\\egg\\object_detection\\builders\\model_builder_test.py to model_builder_test.cpython-38.pyc\n",
      "byte-compiling build\\bdist.win-amd64\\egg\\object_detection\\builders\\model_builder_tf1_test.py to model_builder_tf1_test.cpython-38.pyc\n",
      "byte-compiling build\\bdist.win-amd64\\egg\\object_detection\\builders\\model_builder_tf2_test.py to model_builder_tf2_test.cpython-38.pyc\n",
      "byte-compiling build\\bdist.win-amd64\\egg\\object_detection\\builders\\optimizer_builder.py to optimizer_builder.cpython-38.pyc\n",
      "byte-compiling build\\bdist.win-amd64\\egg\\object_detection\\builders\\optimizer_builder_tf1_test.py to optimizer_builder_tf1_test.cpython-38.pyc\n",
      "byte-compiling build\\bdist.win-amd64\\egg\\object_detection\\builders\\optimizer_builder_tf2_test.py to optimizer_builder_tf2_test.cpython-38.pyc\n",
      "byte-compiling build\\bdist.win-amd64\\egg\\object_detection\\builders\\post_processing_builder.py to post_processing_builder.cpython-38.pyc\n",
      "byte-compiling build\\bdist.win-amd64\\egg\\object_detection\\builders\\post_processing_builder_test.py to post_processing_builder_test.cpython-38.pyc\n",
      "byte-compiling build\\bdist.win-amd64\\egg\\object_detection\\builders\\preprocessor_builder.py to preprocessor_builder.cpython-38.pyc\n",
      "byte-compiling build\\bdist.win-amd64\\egg\\object_detection\\builders\\preprocessor_builder_test.py to preprocessor_builder_test.cpython-38.pyc\n",
      "byte-compiling build\\bdist.win-amd64\\egg\\object_detection\\builders\\region_similarity_calculator_builder.py to region_similarity_calculator_builder.cpython-38.pyc\n",
      "byte-compiling build\\bdist.win-amd64\\egg\\object_detection\\builders\\region_similarity_calculator_builder_test.py to region_similarity_calculator_builder_test.cpython-38.pyc\n",
      "byte-compiling build\\bdist.win-amd64\\egg\\object_detection\\builders\\target_assigner_builder.py to target_assigner_builder.cpython-38.pyc\n",
      "byte-compiling build\\bdist.win-amd64\\egg\\object_detection\\builders\\target_assigner_builder_test.py to target_assigner_builder_test.cpython-38.pyc\n",
      "byte-compiling build\\bdist.win-amd64\\egg\\object_detection\\builders\\__init__.py to __init__.cpython-38.pyc\n",
      "byte-compiling build\\bdist.win-amd64\\egg\\object_detection\\core\\anchor_generator.py to anchor_generator.cpython-38.pyc\n",
      "byte-compiling build\\bdist.win-amd64\\egg\\object_detection\\core\\balanced_positive_negative_sampler.py to balanced_positive_negative_sampler.cpython-38.pyc\n",
      "byte-compiling build\\bdist.win-amd64\\egg\\object_detection\\core\\balanced_positive_negative_sampler_test.py to balanced_positive_negative_sampler_test.cpython-38.pyc\n",
      "byte-compiling build\\bdist.win-amd64\\egg\\object_detection\\core\\batcher.py to batcher.cpython-38.pyc\n",
      "byte-compiling build\\bdist.win-amd64\\egg\\object_detection\\core\\batcher_tf1_test.py to batcher_tf1_test.cpython-38.pyc\n",
      "byte-compiling build\\bdist.win-amd64\\egg\\object_detection\\core\\batch_multiclass_nms_test.py to batch_multiclass_nms_test.cpython-38.pyc\n",
      "byte-compiling build\\bdist.win-amd64\\egg\\object_detection\\core\\box_coder.py to box_coder.cpython-38.pyc\n",
      "byte-compiling build\\bdist.win-amd64\\egg\\object_detection\\core\\box_coder_test.py to box_coder_test.cpython-38.pyc\n",
      "byte-compiling build\\bdist.win-amd64\\egg\\object_detection\\core\\box_list.py to box_list.cpython-38.pyc\n",
      "byte-compiling build\\bdist.win-amd64\\egg\\object_detection\\core\\box_list_ops.py to box_list_ops.cpython-38.pyc\n",
      "byte-compiling build\\bdist.win-amd64\\egg\\object_detection\\core\\box_list_ops_test.py to box_list_ops_test.cpython-38.pyc\n",
      "byte-compiling build\\bdist.win-amd64\\egg\\object_detection\\core\\box_list_test.py to box_list_test.cpython-38.pyc\n",
      "byte-compiling build\\bdist.win-amd64\\egg\\object_detection\\core\\box_predictor.py to box_predictor.cpython-38.pyc\n",
      "byte-compiling build\\bdist.win-amd64\\egg\\object_detection\\core\\class_agnostic_nms_test.py to class_agnostic_nms_test.cpython-38.pyc\n",
      "byte-compiling build\\bdist.win-amd64\\egg\\object_detection\\core\\data_decoder.py to data_decoder.cpython-38.pyc\n",
      "byte-compiling build\\bdist.win-amd64\\egg\\object_detection\\core\\data_parser.py to data_parser.cpython-38.pyc\n",
      "byte-compiling build\\bdist.win-amd64\\egg\\object_detection\\core\\densepose_ops.py to densepose_ops.cpython-38.pyc\n",
      "byte-compiling build\\bdist.win-amd64\\egg\\object_detection\\core\\densepose_ops_test.py to densepose_ops_test.cpython-38.pyc\n",
      "byte-compiling build\\bdist.win-amd64\\egg\\object_detection\\core\\freezable_batch_norm.py to freezable_batch_norm.cpython-38.pyc\n",
      "byte-compiling build\\bdist.win-amd64\\egg\\object_detection\\core\\freezable_batch_norm_tf2_test.py to freezable_batch_norm_tf2_test.cpython-38.pyc\n",
      "byte-compiling build\\bdist.win-amd64\\egg\\object_detection\\core\\freezable_sync_batch_norm.py to freezable_sync_batch_norm.cpython-38.pyc\n",
      "byte-compiling build\\bdist.win-amd64\\egg\\object_detection\\core\\keypoint_ops.py to keypoint_ops.cpython-38.pyc\n",
      "byte-compiling build\\bdist.win-amd64\\egg\\object_detection\\core\\keypoint_ops_test.py to keypoint_ops_test.cpython-38.pyc\n",
      "byte-compiling build\\bdist.win-amd64\\egg\\object_detection\\core\\losses.py to losses.cpython-38.pyc\n",
      "byte-compiling build\\bdist.win-amd64\\egg\\object_detection\\core\\losses_test.py to losses_test.cpython-38.pyc\n",
      "byte-compiling build\\bdist.win-amd64\\egg\\object_detection\\core\\matcher.py to matcher.cpython-38.pyc\n",
      "byte-compiling build\\bdist.win-amd64\\egg\\object_detection\\core\\matcher_test.py to matcher_test.cpython-38.pyc\n",
      "byte-compiling build\\bdist.win-amd64\\egg\\object_detection\\core\\minibatch_sampler.py to minibatch_sampler.cpython-38.pyc\n",
      "byte-compiling build\\bdist.win-amd64\\egg\\object_detection\\core\\minibatch_sampler_test.py to minibatch_sampler_test.cpython-38.pyc\n",
      "byte-compiling build\\bdist.win-amd64\\egg\\object_detection\\core\\model.py to model.cpython-38.pyc\n",
      "byte-compiling build\\bdist.win-amd64\\egg\\object_detection\\core\\model_test.py to model_test.cpython-38.pyc\n",
      "byte-compiling build\\bdist.win-amd64\\egg\\object_detection\\core\\multiclass_nms_test.py to multiclass_nms_test.cpython-38.pyc\n",
      "byte-compiling build\\bdist.win-amd64\\egg\\object_detection\\core\\post_processing.py to post_processing.cpython-38.pyc\n",
      "byte-compiling build\\bdist.win-amd64\\egg\\object_detection\\core\\prefetcher.py to prefetcher.cpython-38.pyc\n",
      "byte-compiling build\\bdist.win-amd64\\egg\\object_detection\\core\\prefetcher_tf1_test.py to prefetcher_tf1_test.cpython-38.pyc\n",
      "byte-compiling build\\bdist.win-amd64\\egg\\object_detection\\core\\preprocessor.py to preprocessor.cpython-38.pyc\n",
      "byte-compiling build\\bdist.win-amd64\\egg\\object_detection\\core\\preprocessor_cache.py to preprocessor_cache.cpython-38.pyc\n",
      "byte-compiling build\\bdist.win-amd64\\egg\\object_detection\\core\\preprocessor_test.py to preprocessor_test.cpython-38.pyc\n",
      "byte-compiling build\\bdist.win-amd64\\egg\\object_detection\\core\\region_similarity_calculator.py to region_similarity_calculator.cpython-38.pyc\n",
      "byte-compiling build\\bdist.win-amd64\\egg\\object_detection\\core\\region_similarity_calculator_test.py to region_similarity_calculator_test.cpython-38.pyc\n",
      "byte-compiling build\\bdist.win-amd64\\egg\\object_detection\\core\\standard_fields.py to standard_fields.cpython-38.pyc\n",
      "byte-compiling build\\bdist.win-amd64\\egg\\object_detection\\core\\target_assigner.py to target_assigner.cpython-38.pyc\n",
      "byte-compiling build\\bdist.win-amd64\\egg\\object_detection\\core\\target_assigner_test.py to target_assigner_test.cpython-38.pyc\n",
      "byte-compiling build\\bdist.win-amd64\\egg\\object_detection\\core\\__init__.py to __init__.cpython-38.pyc\n",
      "byte-compiling build\\bdist.win-amd64\\egg\\object_detection\\dataset_tools\\context_rcnn\\add_context_to_examples.py to add_context_to_examples.cpython-38.pyc\n",
      "byte-compiling build\\bdist.win-amd64\\egg\\object_detection\\dataset_tools\\context_rcnn\\add_context_to_examples_tf2_test.py to add_context_to_examples_tf2_test.cpython-38.pyc\n",
      "byte-compiling build\\bdist.win-amd64\\egg\\object_detection\\dataset_tools\\context_rcnn\\create_cococameratraps_tfexample_main.py to create_cococameratraps_tfexample_main.cpython-38.pyc\n",
      "byte-compiling build\\bdist.win-amd64\\egg\\object_detection\\dataset_tools\\context_rcnn\\create_cococameratraps_tfexample_tf2_test.py to create_cococameratraps_tfexample_tf2_test.cpython-38.pyc\n",
      "byte-compiling build\\bdist.win-amd64\\egg\\object_detection\\dataset_tools\\context_rcnn\\generate_detection_data.py to generate_detection_data.cpython-38.pyc\n",
      "byte-compiling build\\bdist.win-amd64\\egg\\object_detection\\dataset_tools\\context_rcnn\\generate_detection_data_tf2_test.py to generate_detection_data_tf2_test.cpython-38.pyc\n",
      "byte-compiling build\\bdist.win-amd64\\egg\\object_detection\\dataset_tools\\context_rcnn\\generate_embedding_data.py to generate_embedding_data.cpython-38.pyc\n",
      "byte-compiling build\\bdist.win-amd64\\egg\\object_detection\\dataset_tools\\context_rcnn\\generate_embedding_data_tf2_test.py to generate_embedding_data_tf2_test.cpython-38.pyc\n",
      "byte-compiling build\\bdist.win-amd64\\egg\\object_detection\\dataset_tools\\context_rcnn\\__init__.py to __init__.cpython-38.pyc\n",
      "byte-compiling build\\bdist.win-amd64\\egg\\object_detection\\dataset_tools\\create_ava_actions_tf_record.py to create_ava_actions_tf_record.cpython-38.pyc\n",
      "byte-compiling build\\bdist.win-amd64\\egg\\object_detection\\dataset_tools\\create_coco_tf_record.py to create_coco_tf_record.cpython-38.pyc\n",
      "byte-compiling build\\bdist.win-amd64\\egg\\object_detection\\dataset_tools\\create_coco_tf_record_test.py to create_coco_tf_record_test.cpython-38.pyc\n",
      "byte-compiling build\\bdist.win-amd64\\egg\\object_detection\\dataset_tools\\create_kitti_tf_record.py to create_kitti_tf_record.cpython-38.pyc\n",
      "byte-compiling build\\bdist.win-amd64\\egg\\object_detection\\dataset_tools\\create_kitti_tf_record_test.py to create_kitti_tf_record_test.cpython-38.pyc\n",
      "byte-compiling build\\bdist.win-amd64\\egg\\object_detection\\dataset_tools\\create_oid_tf_record.py to create_oid_tf_record.cpython-38.pyc\n",
      "byte-compiling build\\bdist.win-amd64\\egg\\object_detection\\dataset_tools\\create_pascal_tf_record.py to create_pascal_tf_record.cpython-38.pyc\n",
      "byte-compiling build\\bdist.win-amd64\\egg\\object_detection\\dataset_tools\\create_pascal_tf_record_test.py to create_pascal_tf_record_test.cpython-38.pyc\n",
      "byte-compiling build\\bdist.win-amd64\\egg\\object_detection\\dataset_tools\\create_pet_tf_record.py to create_pet_tf_record.cpython-38.pyc\n",
      "byte-compiling build\\bdist.win-amd64\\egg\\object_detection\\dataset_tools\\oid_hierarchical_labels_expansion.py to oid_hierarchical_labels_expansion.cpython-38.pyc\n",
      "byte-compiling build\\bdist.win-amd64\\egg\\object_detection\\dataset_tools\\oid_hierarchical_labels_expansion_test.py to oid_hierarchical_labels_expansion_test.cpython-38.pyc\n",
      "byte-compiling build\\bdist.win-amd64\\egg\\object_detection\\dataset_tools\\oid_tfrecord_creation.py to oid_tfrecord_creation.cpython-38.pyc\n",
      "byte-compiling build\\bdist.win-amd64\\egg\\object_detection\\dataset_tools\\oid_tfrecord_creation_test.py to oid_tfrecord_creation_test.cpython-38.pyc\n",
      "byte-compiling build\\bdist.win-amd64\\egg\\object_detection\\dataset_tools\\seq_example_util.py to seq_example_util.cpython-38.pyc\n",
      "byte-compiling build\\bdist.win-amd64\\egg\\object_detection\\dataset_tools\\seq_example_util_test.py to seq_example_util_test.cpython-38.pyc\n",
      "byte-compiling build\\bdist.win-amd64\\egg\\object_detection\\dataset_tools\\tf_record_creation_util.py to tf_record_creation_util.cpython-38.pyc\n",
      "byte-compiling build\\bdist.win-amd64\\egg\\object_detection\\dataset_tools\\tf_record_creation_util_test.py to tf_record_creation_util_test.cpython-38.pyc\n",
      "byte-compiling build\\bdist.win-amd64\\egg\\object_detection\\dataset_tools\\__init__.py to __init__.cpython-38.pyc\n",
      "byte-compiling build\\bdist.win-amd64\\egg\\object_detection\\data_decoders\\tf_example_decoder.py to tf_example_decoder.cpython-38.pyc\n",
      "byte-compiling build\\bdist.win-amd64\\egg\\object_detection\\data_decoders\\tf_example_decoder_test.py to tf_example_decoder_test.cpython-38.pyc\n",
      "byte-compiling build\\bdist.win-amd64\\egg\\object_detection\\data_decoders\\tf_sequence_example_decoder.py to tf_sequence_example_decoder.cpython-38.pyc\n",
      "byte-compiling build\\bdist.win-amd64\\egg\\object_detection\\data_decoders\\tf_sequence_example_decoder_test.py to tf_sequence_example_decoder_test.cpython-38.pyc\n",
      "byte-compiling build\\bdist.win-amd64\\egg\\object_detection\\data_decoders\\__init__.py to __init__.cpython-38.pyc\n",
      "byte-compiling build\\bdist.win-amd64\\egg\\object_detection\\eval_util.py to eval_util.cpython-38.pyc\n",
      "byte-compiling build\\bdist.win-amd64\\egg\\object_detection\\eval_util_test.py to eval_util_test.cpython-38.pyc\n",
      "byte-compiling build\\bdist.win-amd64\\egg\\object_detection\\exporter.py to exporter.cpython-38.pyc\n",
      "byte-compiling build\\bdist.win-amd64\\egg\\object_detection\\exporter_lib_tf2_test.py to exporter_lib_tf2_test.cpython-38.pyc\n",
      "byte-compiling build\\bdist.win-amd64\\egg\\object_detection\\exporter_lib_v2.py to exporter_lib_v2.cpython-38.pyc\n",
      "byte-compiling build\\bdist.win-amd64\\egg\\object_detection\\exporter_main_v2.py to exporter_main_v2.cpython-38.pyc\n",
      "byte-compiling build\\bdist.win-amd64\\egg\\object_detection\\exporter_tf1_test.py to exporter_tf1_test.cpython-38.pyc\n",
      "byte-compiling build\\bdist.win-amd64\\egg\\object_detection\\export_inference_graph.py to export_inference_graph.cpython-38.pyc\n",
      "byte-compiling build\\bdist.win-amd64\\egg\\object_detection\\export_tflite_graph_lib_tf2.py to export_tflite_graph_lib_tf2.cpython-38.pyc\n",
      "byte-compiling build\\bdist.win-amd64\\egg\\object_detection\\export_tflite_graph_lib_tf2_test.py to export_tflite_graph_lib_tf2_test.cpython-38.pyc\n",
      "byte-compiling build\\bdist.win-amd64\\egg\\object_detection\\export_tflite_graph_tf2.py to export_tflite_graph_tf2.cpython-38.pyc\n",
      "byte-compiling build\\bdist.win-amd64\\egg\\object_detection\\export_tflite_ssd_graph.py to export_tflite_ssd_graph.cpython-38.pyc\n",
      "byte-compiling build\\bdist.win-amd64\\egg\\object_detection\\export_tflite_ssd_graph_lib.py to export_tflite_ssd_graph_lib.cpython-38.pyc\n",
      "byte-compiling build\\bdist.win-amd64\\egg\\object_detection\\export_tflite_ssd_graph_lib_tf1_test.py to export_tflite_ssd_graph_lib_tf1_test.cpython-38.pyc\n",
      "byte-compiling build\\bdist.win-amd64\\egg\\object_detection\\inference\\detection_inference.py to detection_inference.cpython-38.pyc\n",
      "byte-compiling build\\bdist.win-amd64\\egg\\object_detection\\inference\\detection_inference_tf1_test.py to detection_inference_tf1_test.cpython-38.pyc\n",
      "byte-compiling build\\bdist.win-amd64\\egg\\object_detection\\inference\\infer_detections.py to infer_detections.cpython-38.pyc\n",
      "byte-compiling build\\bdist.win-amd64\\egg\\object_detection\\inference\\__init__.py to __init__.cpython-38.pyc\n",
      "byte-compiling build\\bdist.win-amd64\\egg\\object_detection\\inputs.py to inputs.cpython-38.pyc\n",
      "byte-compiling build\\bdist.win-amd64\\egg\\object_detection\\inputs_test.py to inputs_test.cpython-38.pyc\n",
      "byte-compiling build\\bdist.win-amd64\\egg\\object_detection\\legacy\\eval.py to eval.cpython-38.pyc\n",
      "byte-compiling build\\bdist.win-amd64\\egg\\object_detection\\legacy\\evaluator.py to evaluator.cpython-38.pyc\n",
      "byte-compiling build\\bdist.win-amd64\\egg\\object_detection\\legacy\\train.py to train.cpython-38.pyc\n",
      "byte-compiling build\\bdist.win-amd64\\egg\\object_detection\\legacy\\trainer.py to trainer.cpython-38.pyc\n",
      "byte-compiling build\\bdist.win-amd64\\egg\\object_detection\\legacy\\trainer_tf1_test.py to trainer_tf1_test.cpython-38.pyc\n",
      "byte-compiling build\\bdist.win-amd64\\egg\\object_detection\\legacy\\__init__.py to __init__.cpython-38.pyc\n",
      "byte-compiling build\\bdist.win-amd64\\egg\\object_detection\\matchers\\argmax_matcher.py to argmax_matcher.cpython-38.pyc\n",
      "byte-compiling build\\bdist.win-amd64\\egg\\object_detection\\matchers\\argmax_matcher_test.py to argmax_matcher_test.cpython-38.pyc\n",
      "byte-compiling build\\bdist.win-amd64\\egg\\object_detection\\matchers\\bipartite_matcher.py to bipartite_matcher.cpython-38.pyc\n",
      "byte-compiling build\\bdist.win-amd64\\egg\\object_detection\\matchers\\bipartite_matcher_tf1_test.py to bipartite_matcher_tf1_test.cpython-38.pyc\n",
      "byte-compiling build\\bdist.win-amd64\\egg\\object_detection\\matchers\\hungarian_matcher.py to hungarian_matcher.cpython-38.pyc\n",
      "byte-compiling build\\bdist.win-amd64\\egg\\object_detection\\matchers\\hungarian_matcher_tf2_test.py to hungarian_matcher_tf2_test.cpython-38.pyc\n",
      "byte-compiling build\\bdist.win-amd64\\egg\\object_detection\\matchers\\__init__.py to __init__.cpython-38.pyc\n",
      "byte-compiling build\\bdist.win-amd64\\egg\\object_detection\\meta_architectures\\center_net_meta_arch.py to center_net_meta_arch.cpython-38.pyc\n",
      "byte-compiling build\\bdist.win-amd64\\egg\\object_detection\\meta_architectures\\center_net_meta_arch_tf2_test.py to center_net_meta_arch_tf2_test.cpython-38.pyc\n",
      "byte-compiling build\\bdist.win-amd64\\egg\\object_detection\\meta_architectures\\context_rcnn_lib.py to context_rcnn_lib.cpython-38.pyc\n",
      "byte-compiling build\\bdist.win-amd64\\egg\\object_detection\\meta_architectures\\context_rcnn_lib_tf1_test.py to context_rcnn_lib_tf1_test.cpython-38.pyc\n",
      "byte-compiling build\\bdist.win-amd64\\egg\\object_detection\\meta_architectures\\context_rcnn_lib_tf2.py to context_rcnn_lib_tf2.cpython-38.pyc\n",
      "byte-compiling build\\bdist.win-amd64\\egg\\object_detection\\meta_architectures\\context_rcnn_lib_tf2_test.py to context_rcnn_lib_tf2_test.cpython-38.pyc\n",
      "byte-compiling build\\bdist.win-amd64\\egg\\object_detection\\meta_architectures\\context_rcnn_meta_arch.py to context_rcnn_meta_arch.cpython-38.pyc\n",
      "byte-compiling build\\bdist.win-amd64\\egg\\object_detection\\meta_architectures\\context_rcnn_meta_arch_test.py to context_rcnn_meta_arch_test.cpython-38.pyc\n",
      "byte-compiling build\\bdist.win-amd64\\egg\\object_detection\\meta_architectures\\deepmac_meta_arch.py to deepmac_meta_arch.cpython-38.pyc\n",
      "byte-compiling build\\bdist.win-amd64\\egg\\object_detection\\meta_architectures\\deepmac_meta_arch_test.py to deepmac_meta_arch_test.cpython-38.pyc\n",
      "byte-compiling build\\bdist.win-amd64\\egg\\object_detection\\meta_architectures\\faster_rcnn_meta_arch.py to faster_rcnn_meta_arch.cpython-38.pyc\n",
      "byte-compiling build\\bdist.win-amd64\\egg\\object_detection\\meta_architectures\\faster_rcnn_meta_arch_test.py to faster_rcnn_meta_arch_test.cpython-38.pyc\n",
      "byte-compiling build\\bdist.win-amd64\\egg\\object_detection\\meta_architectures\\faster_rcnn_meta_arch_test_lib.py to faster_rcnn_meta_arch_test_lib.cpython-38.pyc\n",
      "byte-compiling build\\bdist.win-amd64\\egg\\object_detection\\meta_architectures\\rfcn_meta_arch.py to rfcn_meta_arch.cpython-38.pyc\n",
      "byte-compiling build\\bdist.win-amd64\\egg\\object_detection\\meta_architectures\\rfcn_meta_arch_test.py to rfcn_meta_arch_test.cpython-38.pyc\n",
      "byte-compiling build\\bdist.win-amd64\\egg\\object_detection\\meta_architectures\\ssd_meta_arch.py to ssd_meta_arch.cpython-38.pyc\n",
      "byte-compiling build\\bdist.win-amd64\\egg\\object_detection\\meta_architectures\\ssd_meta_arch_test.py to ssd_meta_arch_test.cpython-38.pyc\n",
      "byte-compiling build\\bdist.win-amd64\\egg\\object_detection\\meta_architectures\\ssd_meta_arch_test_lib.py to ssd_meta_arch_test_lib.cpython-38.pyc\n",
      "byte-compiling build\\bdist.win-amd64\\egg\\object_detection\\meta_architectures\\__init__.py to __init__.cpython-38.pyc\n",
      "byte-compiling build\\bdist.win-amd64\\egg\\object_detection\\metrics\\calibration_evaluation.py to calibration_evaluation.cpython-38.pyc\n",
      "byte-compiling build\\bdist.win-amd64\\egg\\object_detection\\metrics\\calibration_evaluation_tf1_test.py to calibration_evaluation_tf1_test.cpython-38.pyc\n",
      "byte-compiling build\\bdist.win-amd64\\egg\\object_detection\\metrics\\calibration_metrics.py to calibration_metrics.cpython-38.pyc\n",
      "byte-compiling build\\bdist.win-amd64\\egg\\object_detection\\metrics\\calibration_metrics_tf1_test.py to calibration_metrics_tf1_test.cpython-38.pyc\n",
      "byte-compiling build\\bdist.win-amd64\\egg\\object_detection\\metrics\\coco_evaluation.py to coco_evaluation.cpython-38.pyc\n",
      "byte-compiling build\\bdist.win-amd64\\egg\\object_detection\\metrics\\coco_evaluation_test.py to coco_evaluation_test.cpython-38.pyc\n",
      "byte-compiling build\\bdist.win-amd64\\egg\\object_detection\\metrics\\coco_tools.py to coco_tools.cpython-38.pyc\n",
      "byte-compiling build\\bdist.win-amd64\\egg\\object_detection\\metrics\\coco_tools_test.py to coco_tools_test.cpython-38.pyc\n",
      "byte-compiling build\\bdist.win-amd64\\egg\\object_detection\\metrics\\io_utils.py to io_utils.cpython-38.pyc\n",
      "byte-compiling build\\bdist.win-amd64\\egg\\object_detection\\metrics\\lvis_evaluation.py to lvis_evaluation.cpython-38.pyc\n",
      "byte-compiling build\\bdist.win-amd64\\egg\\object_detection\\metrics\\lvis_evaluation_test.py to lvis_evaluation_test.cpython-38.pyc\n",
      "byte-compiling build\\bdist.win-amd64\\egg\\object_detection\\metrics\\lvis_tools.py to lvis_tools.cpython-38.pyc\n",
      "byte-compiling build\\bdist.win-amd64\\egg\\object_detection\\metrics\\lvis_tools_test.py to lvis_tools_test.cpython-38.pyc\n",
      "byte-compiling build\\bdist.win-amd64\\egg\\object_detection\\metrics\\offline_eval_map_corloc.py to offline_eval_map_corloc.cpython-38.pyc\n",
      "byte-compiling build\\bdist.win-amd64\\egg\\object_detection\\metrics\\offline_eval_map_corloc_test.py to offline_eval_map_corloc_test.cpython-38.pyc\n",
      "byte-compiling build\\bdist.win-amd64\\egg\\object_detection\\metrics\\oid_challenge_evaluation.py to oid_challenge_evaluation.cpython-38.pyc\n",
      "byte-compiling build\\bdist.win-amd64\\egg\\object_detection\\metrics\\oid_challenge_evaluation_utils.py to oid_challenge_evaluation_utils.cpython-38.pyc\n",
      "byte-compiling build\\bdist.win-amd64\\egg\\object_detection\\metrics\\oid_challenge_evaluation_utils_test.py to oid_challenge_evaluation_utils_test.cpython-38.pyc\n",
      "byte-compiling build\\bdist.win-amd64\\egg\\object_detection\\metrics\\oid_vrd_challenge_evaluation.py to oid_vrd_challenge_evaluation.cpython-38.pyc\n",
      "byte-compiling build\\bdist.win-amd64\\egg\\object_detection\\metrics\\oid_vrd_challenge_evaluation_utils.py to oid_vrd_challenge_evaluation_utils.cpython-38.pyc\n",
      "byte-compiling build\\bdist.win-amd64\\egg\\object_detection\\metrics\\oid_vrd_challenge_evaluation_utils_test.py to oid_vrd_challenge_evaluation_utils_test.cpython-38.pyc\n",
      "byte-compiling build\\bdist.win-amd64\\egg\\object_detection\\metrics\\tf_example_parser.py to tf_example_parser.cpython-38.pyc\n",
      "byte-compiling build\\bdist.win-amd64\\egg\\object_detection\\metrics\\tf_example_parser_test.py to tf_example_parser_test.cpython-38.pyc\n",
      "byte-compiling build\\bdist.win-amd64\\egg\\object_detection\\metrics\\__init__.py to __init__.cpython-38.pyc\n",
      "byte-compiling build\\bdist.win-amd64\\egg\\object_detection\\models\\bidirectional_feature_pyramid_generators.py to bidirectional_feature_pyramid_generators.cpython-38.pyc\n",
      "byte-compiling build\\bdist.win-amd64\\egg\\object_detection\\models\\bidirectional_feature_pyramid_generators_tf2_test.py to bidirectional_feature_pyramid_generators_tf2_test.cpython-38.pyc\n",
      "byte-compiling build\\bdist.win-amd64\\egg\\object_detection\\models\\center_net_hourglass_feature_extractor.py to center_net_hourglass_feature_extractor.cpython-38.pyc\n",
      "byte-compiling build\\bdist.win-amd64\\egg\\object_detection\\models\\center_net_hourglass_feature_extractor_tf2_test.py to center_net_hourglass_feature_extractor_tf2_test.cpython-38.pyc\n",
      "byte-compiling build\\bdist.win-amd64\\egg\\object_detection\\models\\center_net_mobilenet_v2_feature_extractor.py to center_net_mobilenet_v2_feature_extractor.cpython-38.pyc\n",
      "byte-compiling build\\bdist.win-amd64\\egg\\object_detection\\models\\center_net_mobilenet_v2_feature_extractor_tf2_test.py to center_net_mobilenet_v2_feature_extractor_tf2_test.cpython-38.pyc\n",
      "byte-compiling build\\bdist.win-amd64\\egg\\object_detection\\models\\center_net_mobilenet_v2_fpn_feature_extractor.py to center_net_mobilenet_v2_fpn_feature_extractor.cpython-38.pyc\n",
      "byte-compiling build\\bdist.win-amd64\\egg\\object_detection\\models\\center_net_mobilenet_v2_fpn_feature_extractor_tf2_test.py to center_net_mobilenet_v2_fpn_feature_extractor_tf2_test.cpython-38.pyc\n",
      "byte-compiling build\\bdist.win-amd64\\egg\\object_detection\\models\\center_net_resnet_feature_extractor.py to center_net_resnet_feature_extractor.cpython-38.pyc\n",
      "byte-compiling build\\bdist.win-amd64\\egg\\object_detection\\models\\center_net_resnet_feature_extractor_tf2_test.py to center_net_resnet_feature_extractor_tf2_test.cpython-38.pyc\n",
      "byte-compiling build\\bdist.win-amd64\\egg\\object_detection\\models\\center_net_resnet_v1_fpn_feature_extractor.py to center_net_resnet_v1_fpn_feature_extractor.cpython-38.pyc\n",
      "byte-compiling build\\bdist.win-amd64\\egg\\object_detection\\models\\center_net_resnet_v1_fpn_feature_extractor_tf2_test.py to center_net_resnet_v1_fpn_feature_extractor_tf2_test.cpython-38.pyc\n",
      "byte-compiling build\\bdist.win-amd64\\egg\\object_detection\\models\\embedded_ssd_mobilenet_v1_feature_extractor.py to embedded_ssd_mobilenet_v1_feature_extractor.cpython-38.pyc\n",
      "byte-compiling build\\bdist.win-amd64\\egg\\object_detection\\models\\embedded_ssd_mobilenet_v1_feature_extractor_tf1_test.py to embedded_ssd_mobilenet_v1_feature_extractor_tf1_test.cpython-38.pyc\n",
      "byte-compiling build\\bdist.win-amd64\\egg\\object_detection\\models\\faster_rcnn_inception_resnet_v2_feature_extractor.py to faster_rcnn_inception_resnet_v2_feature_extractor.cpython-38.pyc\n",
      "byte-compiling build\\bdist.win-amd64\\egg\\object_detection\\models\\faster_rcnn_inception_resnet_v2_feature_extractor_tf1_test.py to faster_rcnn_inception_resnet_v2_feature_extractor_tf1_test.cpython-38.pyc\n",
      "byte-compiling build\\bdist.win-amd64\\egg\\object_detection\\models\\faster_rcnn_inception_resnet_v2_keras_feature_extractor.py to faster_rcnn_inception_resnet_v2_keras_feature_extractor.cpython-38.pyc\n",
      "byte-compiling build\\bdist.win-amd64\\egg\\object_detection\\models\\faster_rcnn_inception_resnet_v2_keras_feature_extractor_tf2_test.py to faster_rcnn_inception_resnet_v2_keras_feature_extractor_tf2_test.cpython-38.pyc\n",
      "byte-compiling build\\bdist.win-amd64\\egg\\object_detection\\models\\faster_rcnn_inception_v2_feature_extractor.py to faster_rcnn_inception_v2_feature_extractor.cpython-38.pyc\n",
      "byte-compiling build\\bdist.win-amd64\\egg\\object_detection\\models\\faster_rcnn_inception_v2_feature_extractor_tf1_test.py to faster_rcnn_inception_v2_feature_extractor_tf1_test.cpython-38.pyc\n",
      "byte-compiling build\\bdist.win-amd64\\egg\\object_detection\\models\\faster_rcnn_mobilenet_v1_feature_extractor.py to faster_rcnn_mobilenet_v1_feature_extractor.cpython-38.pyc\n",
      "byte-compiling build\\bdist.win-amd64\\egg\\object_detection\\models\\faster_rcnn_mobilenet_v1_feature_extractor_tf1_test.py to faster_rcnn_mobilenet_v1_feature_extractor_tf1_test.cpython-38.pyc\n",
      "byte-compiling build\\bdist.win-amd64\\egg\\object_detection\\models\\faster_rcnn_nas_feature_extractor.py to faster_rcnn_nas_feature_extractor.cpython-38.pyc\n",
      "byte-compiling build\\bdist.win-amd64\\egg\\object_detection\\models\\faster_rcnn_nas_feature_extractor_tf1_test.py to faster_rcnn_nas_feature_extractor_tf1_test.cpython-38.pyc\n",
      "byte-compiling build\\bdist.win-amd64\\egg\\object_detection\\models\\faster_rcnn_pnas_feature_extractor.py to faster_rcnn_pnas_feature_extractor.cpython-38.pyc\n",
      "byte-compiling build\\bdist.win-amd64\\egg\\object_detection\\models\\faster_rcnn_pnas_feature_extractor_tf1_test.py to faster_rcnn_pnas_feature_extractor_tf1_test.cpython-38.pyc\n",
      "byte-compiling build\\bdist.win-amd64\\egg\\object_detection\\models\\faster_rcnn_resnet_keras_feature_extractor.py to faster_rcnn_resnet_keras_feature_extractor.cpython-38.pyc\n",
      "byte-compiling build\\bdist.win-amd64\\egg\\object_detection\\models\\faster_rcnn_resnet_keras_feature_extractor_tf2_test.py to faster_rcnn_resnet_keras_feature_extractor_tf2_test.cpython-38.pyc\n",
      "byte-compiling build\\bdist.win-amd64\\egg\\object_detection\\models\\faster_rcnn_resnet_v1_feature_extractor.py to faster_rcnn_resnet_v1_feature_extractor.cpython-38.pyc\n",
      "byte-compiling build\\bdist.win-amd64\\egg\\object_detection\\models\\faster_rcnn_resnet_v1_feature_extractor_tf1_test.py to faster_rcnn_resnet_v1_feature_extractor_tf1_test.cpython-38.pyc\n",
      "byte-compiling build\\bdist.win-amd64\\egg\\object_detection\\models\\faster_rcnn_resnet_v1_fpn_keras_feature_extractor.py to faster_rcnn_resnet_v1_fpn_keras_feature_extractor.cpython-38.pyc\n",
      "byte-compiling build\\bdist.win-amd64\\egg\\object_detection\\models\\faster_rcnn_resnet_v1_fpn_keras_feature_extractor_tf2_test.py to faster_rcnn_resnet_v1_fpn_keras_feature_extractor_tf2_test.cpython-38.pyc\n",
      "byte-compiling build\\bdist.win-amd64\\egg\\object_detection\\models\\feature_map_generators.py to feature_map_generators.cpython-38.pyc\n",
      "byte-compiling build\\bdist.win-amd64\\egg\\object_detection\\models\\feature_map_generators_test.py to feature_map_generators_test.cpython-38.pyc\n",
      "byte-compiling build\\bdist.win-amd64\\egg\\object_detection\\models\\keras_models\\convert_keras_models.py to convert_keras_models.cpython-38.pyc\n",
      "byte-compiling build\\bdist.win-amd64\\egg\\object_detection\\models\\keras_models\\hourglass_network.py to hourglass_network.cpython-38.pyc\n",
      "byte-compiling build\\bdist.win-amd64\\egg\\object_detection\\models\\keras_models\\hourglass_network_tf2_test.py to hourglass_network_tf2_test.cpython-38.pyc\n",
      "byte-compiling build\\bdist.win-amd64\\egg\\object_detection\\models\\keras_models\\inception_resnet_v2.py to inception_resnet_v2.cpython-38.pyc\n",
      "byte-compiling build\\bdist.win-amd64\\egg\\object_detection\\models\\keras_models\\inception_resnet_v2_tf2_test.py to inception_resnet_v2_tf2_test.cpython-38.pyc\n",
      "byte-compiling build\\bdist.win-amd64\\egg\\object_detection\\models\\keras_models\\mobilenet_v1.py to mobilenet_v1.cpython-38.pyc\n",
      "byte-compiling build\\bdist.win-amd64\\egg\\object_detection\\models\\keras_models\\mobilenet_v1_tf2_test.py to mobilenet_v1_tf2_test.cpython-38.pyc\n",
      "byte-compiling build\\bdist.win-amd64\\egg\\object_detection\\models\\keras_models\\mobilenet_v2.py to mobilenet_v2.cpython-38.pyc\n",
      "byte-compiling build\\bdist.win-amd64\\egg\\object_detection\\models\\keras_models\\mobilenet_v2_tf2_test.py to mobilenet_v2_tf2_test.cpython-38.pyc\n",
      "byte-compiling build\\bdist.win-amd64\\egg\\object_detection\\models\\keras_models\\model_utils.py to model_utils.cpython-38.pyc\n",
      "byte-compiling build\\bdist.win-amd64\\egg\\object_detection\\models\\keras_models\\nonlocal_block.py to nonlocal_block.cpython-38.pyc\n",
      "byte-compiling build\\bdist.win-amd64\\egg\\object_detection\\models\\keras_models\\nonlocal_block_tf2_test.py to nonlocal_block_tf2_test.cpython-38.pyc\n",
      "byte-compiling build\\bdist.win-amd64\\egg\\object_detection\\models\\keras_models\\resnet_v1.py to resnet_v1.cpython-38.pyc\n",
      "byte-compiling build\\bdist.win-amd64\\egg\\object_detection\\models\\keras_models\\resnet_v1_tf2_test.py to resnet_v1_tf2_test.cpython-38.pyc\n",
      "byte-compiling build\\bdist.win-amd64\\egg\\object_detection\\models\\keras_models\\test_utils.py to test_utils.cpython-38.pyc\n",
      "byte-compiling build\\bdist.win-amd64\\egg\\object_detection\\models\\keras_models\\__init__.py to __init__.cpython-38.pyc\n",
      "byte-compiling build\\bdist.win-amd64\\egg\\object_detection\\models\\ssd_efficientnet_bifpn_feature_extractor.py to ssd_efficientnet_bifpn_feature_extractor.cpython-38.pyc\n",
      "byte-compiling build\\bdist.win-amd64\\egg\\object_detection\\models\\ssd_efficientnet_bifpn_feature_extractor_tf2_test.py to ssd_efficientnet_bifpn_feature_extractor_tf2_test.cpython-38.pyc\n",
      "byte-compiling build\\bdist.win-amd64\\egg\\object_detection\\models\\ssd_feature_extractor_test.py to ssd_feature_extractor_test.cpython-38.pyc\n",
      "byte-compiling build\\bdist.win-amd64\\egg\\object_detection\\models\\ssd_inception_v2_feature_extractor.py to ssd_inception_v2_feature_extractor.cpython-38.pyc\n",
      "byte-compiling build\\bdist.win-amd64\\egg\\object_detection\\models\\ssd_inception_v2_feature_extractor_tf1_test.py to ssd_inception_v2_feature_extractor_tf1_test.cpython-38.pyc\n",
      "byte-compiling build\\bdist.win-amd64\\egg\\object_detection\\models\\ssd_inception_v3_feature_extractor.py to ssd_inception_v3_feature_extractor.cpython-38.pyc\n",
      "byte-compiling build\\bdist.win-amd64\\egg\\object_detection\\models\\ssd_inception_v3_feature_extractor_tf1_test.py to ssd_inception_v3_feature_extractor_tf1_test.cpython-38.pyc\n",
      "byte-compiling build\\bdist.win-amd64\\egg\\object_detection\\models\\ssd_mobiledet_feature_extractor.py to ssd_mobiledet_feature_extractor.cpython-38.pyc\n",
      "byte-compiling build\\bdist.win-amd64\\egg\\object_detection\\models\\ssd_mobiledet_feature_extractor_tf1_test.py to ssd_mobiledet_feature_extractor_tf1_test.cpython-38.pyc\n",
      "byte-compiling build\\bdist.win-amd64\\egg\\object_detection\\models\\ssd_mobilenet_edgetpu_feature_extractor.py to ssd_mobilenet_edgetpu_feature_extractor.cpython-38.pyc\n",
      "byte-compiling build\\bdist.win-amd64\\egg\\object_detection\\models\\ssd_mobilenet_edgetpu_feature_extractor_testbase.py to ssd_mobilenet_edgetpu_feature_extractor_testbase.cpython-38.pyc\n",
      "byte-compiling build\\bdist.win-amd64\\egg\\object_detection\\models\\ssd_mobilenet_edgetpu_feature_extractor_tf1_test.py to ssd_mobilenet_edgetpu_feature_extractor_tf1_test.cpython-38.pyc\n",
      "byte-compiling build\\bdist.win-amd64\\egg\\object_detection\\models\\ssd_mobilenet_v1_feature_extractor.py to ssd_mobilenet_v1_feature_extractor.cpython-38.pyc\n",
      "byte-compiling build\\bdist.win-amd64\\egg\\object_detection\\models\\ssd_mobilenet_v1_feature_extractor_tf1_test.py to ssd_mobilenet_v1_feature_extractor_tf1_test.cpython-38.pyc\n",
      "byte-compiling build\\bdist.win-amd64\\egg\\object_detection\\models\\ssd_mobilenet_v1_feature_extractor_tf2_test.py to ssd_mobilenet_v1_feature_extractor_tf2_test.cpython-38.pyc\n",
      "byte-compiling build\\bdist.win-amd64\\egg\\object_detection\\models\\ssd_mobilenet_v1_fpn_feature_extractor.py to ssd_mobilenet_v1_fpn_feature_extractor.cpython-38.pyc\n",
      "byte-compiling build\\bdist.win-amd64\\egg\\object_detection\\models\\ssd_mobilenet_v1_fpn_feature_extractor_tf1_test.py to ssd_mobilenet_v1_fpn_feature_extractor_tf1_test.cpython-38.pyc\n",
      "byte-compiling build\\bdist.win-amd64\\egg\\object_detection\\models\\ssd_mobilenet_v1_fpn_feature_extractor_tf2_test.py to ssd_mobilenet_v1_fpn_feature_extractor_tf2_test.cpython-38.pyc\n",
      "byte-compiling build\\bdist.win-amd64\\egg\\object_detection\\models\\ssd_mobilenet_v1_fpn_keras_feature_extractor.py to ssd_mobilenet_v1_fpn_keras_feature_extractor.cpython-38.pyc\n",
      "byte-compiling build\\bdist.win-amd64\\egg\\object_detection\\models\\ssd_mobilenet_v1_keras_feature_extractor.py to ssd_mobilenet_v1_keras_feature_extractor.cpython-38.pyc\n",
      "byte-compiling build\\bdist.win-amd64\\egg\\object_detection\\models\\ssd_mobilenet_v1_ppn_feature_extractor.py to ssd_mobilenet_v1_ppn_feature_extractor.cpython-38.pyc\n",
      "byte-compiling build\\bdist.win-amd64\\egg\\object_detection\\models\\ssd_mobilenet_v1_ppn_feature_extractor_tf1_test.py to ssd_mobilenet_v1_ppn_feature_extractor_tf1_test.cpython-38.pyc\n",
      "byte-compiling build\\bdist.win-amd64\\egg\\object_detection\\models\\ssd_mobilenet_v2_feature_extractor.py to ssd_mobilenet_v2_feature_extractor.cpython-38.pyc\n",
      "byte-compiling build\\bdist.win-amd64\\egg\\object_detection\\models\\ssd_mobilenet_v2_feature_extractor_tf1_test.py to ssd_mobilenet_v2_feature_extractor_tf1_test.cpython-38.pyc\n",
      "byte-compiling build\\bdist.win-amd64\\egg\\object_detection\\models\\ssd_mobilenet_v2_feature_extractor_tf2_test.py to ssd_mobilenet_v2_feature_extractor_tf2_test.cpython-38.pyc\n",
      "byte-compiling build\\bdist.win-amd64\\egg\\object_detection\\models\\ssd_mobilenet_v2_fpn_feature_extractor.py to ssd_mobilenet_v2_fpn_feature_extractor.cpython-38.pyc\n",
      "byte-compiling build\\bdist.win-amd64\\egg\\object_detection\\models\\ssd_mobilenet_v2_fpn_feature_extractor_tf1_test.py to ssd_mobilenet_v2_fpn_feature_extractor_tf1_test.cpython-38.pyc\n",
      "byte-compiling build\\bdist.win-amd64\\egg\\object_detection\\models\\ssd_mobilenet_v2_fpn_feature_extractor_tf2_test.py to ssd_mobilenet_v2_fpn_feature_extractor_tf2_test.cpython-38.pyc\n",
      "byte-compiling build\\bdist.win-amd64\\egg\\object_detection\\models\\ssd_mobilenet_v2_fpn_keras_feature_extractor.py to ssd_mobilenet_v2_fpn_keras_feature_extractor.cpython-38.pyc\n",
      "byte-compiling build\\bdist.win-amd64\\egg\\object_detection\\models\\ssd_mobilenet_v2_keras_feature_extractor.py to ssd_mobilenet_v2_keras_feature_extractor.cpython-38.pyc\n",
      "byte-compiling build\\bdist.win-amd64\\egg\\object_detection\\models\\ssd_mobilenet_v2_mnasfpn_feature_extractor.py to ssd_mobilenet_v2_mnasfpn_feature_extractor.cpython-38.pyc\n",
      "byte-compiling build\\bdist.win-amd64\\egg\\object_detection\\models\\ssd_mobilenet_v2_mnasfpn_feature_extractor_tf1_test.py to ssd_mobilenet_v2_mnasfpn_feature_extractor_tf1_test.cpython-38.pyc\n",
      "byte-compiling build\\bdist.win-amd64\\egg\\object_detection\\models\\ssd_mobilenet_v3_feature_extractor.py to ssd_mobilenet_v3_feature_extractor.cpython-38.pyc\n",
      "byte-compiling build\\bdist.win-amd64\\egg\\object_detection\\models\\ssd_mobilenet_v3_feature_extractor_testbase.py to ssd_mobilenet_v3_feature_extractor_testbase.cpython-38.pyc\n",
      "byte-compiling build\\bdist.win-amd64\\egg\\object_detection\\models\\ssd_mobilenet_v3_feature_extractor_tf1_test.py to ssd_mobilenet_v3_feature_extractor_tf1_test.cpython-38.pyc\n",
      "byte-compiling build\\bdist.win-amd64\\egg\\object_detection\\models\\ssd_pnasnet_feature_extractor.py to ssd_pnasnet_feature_extractor.cpython-38.pyc\n",
      "byte-compiling build\\bdist.win-amd64\\egg\\object_detection\\models\\ssd_pnasnet_feature_extractor_tf1_test.py to ssd_pnasnet_feature_extractor_tf1_test.cpython-38.pyc\n",
      "byte-compiling build\\bdist.win-amd64\\egg\\object_detection\\models\\ssd_resnet_v1_fpn_feature_extractor.py to ssd_resnet_v1_fpn_feature_extractor.cpython-38.pyc\n",
      "byte-compiling build\\bdist.win-amd64\\egg\\object_detection\\models\\ssd_resnet_v1_fpn_feature_extractor_testbase.py to ssd_resnet_v1_fpn_feature_extractor_testbase.cpython-38.pyc\n",
      "byte-compiling build\\bdist.win-amd64\\egg\\object_detection\\models\\ssd_resnet_v1_fpn_feature_extractor_tf1_test.py to ssd_resnet_v1_fpn_feature_extractor_tf1_test.cpython-38.pyc\n",
      "byte-compiling build\\bdist.win-amd64\\egg\\object_detection\\models\\ssd_resnet_v1_fpn_feature_extractor_tf2_test.py to ssd_resnet_v1_fpn_feature_extractor_tf2_test.cpython-38.pyc\n",
      "byte-compiling build\\bdist.win-amd64\\egg\\object_detection\\models\\ssd_resnet_v1_fpn_keras_feature_extractor.py to ssd_resnet_v1_fpn_keras_feature_extractor.cpython-38.pyc\n",
      "byte-compiling build\\bdist.win-amd64\\egg\\object_detection\\models\\ssd_resnet_v1_ppn_feature_extractor.py to ssd_resnet_v1_ppn_feature_extractor.cpython-38.pyc\n",
      "byte-compiling build\\bdist.win-amd64\\egg\\object_detection\\models\\ssd_resnet_v1_ppn_feature_extractor_testbase.py to ssd_resnet_v1_ppn_feature_extractor_testbase.cpython-38.pyc\n",
      "byte-compiling build\\bdist.win-amd64\\egg\\object_detection\\models\\ssd_resnet_v1_ppn_feature_extractor_tf1_test.py to ssd_resnet_v1_ppn_feature_extractor_tf1_test.cpython-38.pyc\n",
      "byte-compiling build\\bdist.win-amd64\\egg\\object_detection\\models\\ssd_spaghettinet_feature_extractor.py to ssd_spaghettinet_feature_extractor.cpython-38.pyc\n",
      "byte-compiling build\\bdist.win-amd64\\egg\\object_detection\\models\\ssd_spaghettinet_feature_extractor_tf1_test.py to ssd_spaghettinet_feature_extractor_tf1_test.cpython-38.pyc\n",
      "byte-compiling build\\bdist.win-amd64\\egg\\object_detection\\models\\__init__.py to __init__.cpython-38.pyc\n",
      "byte-compiling build\\bdist.win-amd64\\egg\\object_detection\\model_hparams.py to model_hparams.cpython-38.pyc\n",
      "byte-compiling build\\bdist.win-amd64\\egg\\object_detection\\model_lib.py to model_lib.cpython-38.pyc\n",
      "byte-compiling build\\bdist.win-amd64\\egg\\object_detection\\model_lib_tf1_test.py to model_lib_tf1_test.cpython-38.pyc\n",
      "byte-compiling build\\bdist.win-amd64\\egg\\object_detection\\model_lib_tf2_test.py to model_lib_tf2_test.cpython-38.pyc\n",
      "byte-compiling build\\bdist.win-amd64\\egg\\object_detection\\model_lib_v2.py to model_lib_v2.cpython-38.pyc\n",
      "byte-compiling build\\bdist.win-amd64\\egg\\object_detection\\model_main.py to model_main.cpython-38.pyc\n",
      "byte-compiling build\\bdist.win-amd64\\egg\\object_detection\\model_main_tf2.py to model_main_tf2.cpython-38.pyc\n",
      "byte-compiling build\\bdist.win-amd64\\egg\\object_detection\\model_tpu_main.py to model_tpu_main.cpython-38.pyc\n",
      "byte-compiling build\\bdist.win-amd64\\egg\\object_detection\\predictors\\convolutional_box_predictor.py to convolutional_box_predictor.cpython-38.pyc\n",
      "byte-compiling build\\bdist.win-amd64\\egg\\object_detection\\predictors\\convolutional_box_predictor_tf1_test.py to convolutional_box_predictor_tf1_test.cpython-38.pyc\n",
      "byte-compiling build\\bdist.win-amd64\\egg\\object_detection\\predictors\\convolutional_keras_box_predictor.py to convolutional_keras_box_predictor.cpython-38.pyc\n",
      "byte-compiling build\\bdist.win-amd64\\egg\\object_detection\\predictors\\convolutional_keras_box_predictor_tf2_test.py to convolutional_keras_box_predictor_tf2_test.cpython-38.pyc\n",
      "byte-compiling build\\bdist.win-amd64\\egg\\object_detection\\predictors\\heads\\box_head.py to box_head.cpython-38.pyc\n",
      "byte-compiling build\\bdist.win-amd64\\egg\\object_detection\\predictors\\heads\\box_head_tf1_test.py to box_head_tf1_test.cpython-38.pyc\n",
      "byte-compiling build\\bdist.win-amd64\\egg\\object_detection\\predictors\\heads\\class_head.py to class_head.cpython-38.pyc\n",
      "byte-compiling build\\bdist.win-amd64\\egg\\object_detection\\predictors\\heads\\class_head_tf1_test.py to class_head_tf1_test.cpython-38.pyc\n",
      "byte-compiling build\\bdist.win-amd64\\egg\\object_detection\\predictors\\heads\\head.py to head.cpython-38.pyc\n",
      "byte-compiling build\\bdist.win-amd64\\egg\\object_detection\\predictors\\heads\\keras_box_head.py to keras_box_head.cpython-38.pyc\n",
      "byte-compiling build\\bdist.win-amd64\\egg\\object_detection\\predictors\\heads\\keras_box_head_tf2_test.py to keras_box_head_tf2_test.cpython-38.pyc\n",
      "byte-compiling build\\bdist.win-amd64\\egg\\object_detection\\predictors\\heads\\keras_class_head.py to keras_class_head.cpython-38.pyc\n",
      "byte-compiling build\\bdist.win-amd64\\egg\\object_detection\\predictors\\heads\\keras_class_head_tf2_test.py to keras_class_head_tf2_test.cpython-38.pyc\n",
      "byte-compiling build\\bdist.win-amd64\\egg\\object_detection\\predictors\\heads\\keras_mask_head.py to keras_mask_head.cpython-38.pyc\n",
      "byte-compiling build\\bdist.win-amd64\\egg\\object_detection\\predictors\\heads\\keras_mask_head_tf2_test.py to keras_mask_head_tf2_test.cpython-38.pyc\n",
      "byte-compiling build\\bdist.win-amd64\\egg\\object_detection\\predictors\\heads\\keypoint_head.py to keypoint_head.cpython-38.pyc\n",
      "byte-compiling build\\bdist.win-amd64\\egg\\object_detection\\predictors\\heads\\keypoint_head_tf1_test.py to keypoint_head_tf1_test.cpython-38.pyc\n",
      "byte-compiling build\\bdist.win-amd64\\egg\\object_detection\\predictors\\heads\\mask_head.py to mask_head.cpython-38.pyc\n",
      "byte-compiling build\\bdist.win-amd64\\egg\\object_detection\\predictors\\heads\\mask_head_tf1_test.py to mask_head_tf1_test.cpython-38.pyc\n",
      "byte-compiling build\\bdist.win-amd64\\egg\\object_detection\\predictors\\heads\\__init__.py to __init__.cpython-38.pyc\n",
      "byte-compiling build\\bdist.win-amd64\\egg\\object_detection\\predictors\\mask_rcnn_box_predictor.py to mask_rcnn_box_predictor.cpython-38.pyc\n",
      "byte-compiling build\\bdist.win-amd64\\egg\\object_detection\\predictors\\mask_rcnn_box_predictor_tf1_test.py to mask_rcnn_box_predictor_tf1_test.cpython-38.pyc\n",
      "byte-compiling build\\bdist.win-amd64\\egg\\object_detection\\predictors\\mask_rcnn_keras_box_predictor.py to mask_rcnn_keras_box_predictor.cpython-38.pyc\n",
      "byte-compiling build\\bdist.win-amd64\\egg\\object_detection\\predictors\\mask_rcnn_keras_box_predictor_tf2_test.py to mask_rcnn_keras_box_predictor_tf2_test.cpython-38.pyc\n",
      "byte-compiling build\\bdist.win-amd64\\egg\\object_detection\\predictors\\rfcn_box_predictor.py to rfcn_box_predictor.cpython-38.pyc\n",
      "byte-compiling build\\bdist.win-amd64\\egg\\object_detection\\predictors\\rfcn_box_predictor_tf1_test.py to rfcn_box_predictor_tf1_test.cpython-38.pyc\n",
      "byte-compiling build\\bdist.win-amd64\\egg\\object_detection\\predictors\\rfcn_keras_box_predictor.py to rfcn_keras_box_predictor.cpython-38.pyc\n",
      "byte-compiling build\\bdist.win-amd64\\egg\\object_detection\\predictors\\rfcn_keras_box_predictor_tf2_test.py to rfcn_keras_box_predictor_tf2_test.cpython-38.pyc\n",
      "byte-compiling build\\bdist.win-amd64\\egg\\object_detection\\predictors\\__init__.py to __init__.cpython-38.pyc\n",
      "byte-compiling build\\bdist.win-amd64\\egg\\object_detection\\protos\\anchor_generator_pb2.py to anchor_generator_pb2.cpython-38.pyc\n",
      "byte-compiling build\\bdist.win-amd64\\egg\\object_detection\\protos\\argmax_matcher_pb2.py to argmax_matcher_pb2.cpython-38.pyc\n",
      "byte-compiling build\\bdist.win-amd64\\egg\\object_detection\\protos\\bipartite_matcher_pb2.py to bipartite_matcher_pb2.cpython-38.pyc\n",
      "byte-compiling build\\bdist.win-amd64\\egg\\object_detection\\protos\\box_coder_pb2.py to box_coder_pb2.cpython-38.pyc\n",
      "byte-compiling build\\bdist.win-amd64\\egg\\object_detection\\protos\\box_predictor_pb2.py to box_predictor_pb2.cpython-38.pyc\n",
      "byte-compiling build\\bdist.win-amd64\\egg\\object_detection\\protos\\calibration_pb2.py to calibration_pb2.cpython-38.pyc\n",
      "byte-compiling build\\bdist.win-amd64\\egg\\object_detection\\protos\\center_net_pb2.py to center_net_pb2.cpython-38.pyc\n",
      "byte-compiling build\\bdist.win-amd64\\egg\\object_detection\\protos\\eval_pb2.py to eval_pb2.cpython-38.pyc\n",
      "byte-compiling build\\bdist.win-amd64\\egg\\object_detection\\protos\\faster_rcnn_box_coder_pb2.py to faster_rcnn_box_coder_pb2.cpython-38.pyc\n",
      "byte-compiling build\\bdist.win-amd64\\egg\\object_detection\\protos\\faster_rcnn_pb2.py to faster_rcnn_pb2.cpython-38.pyc\n",
      "byte-compiling build\\bdist.win-amd64\\egg\\object_detection\\protos\\flexible_grid_anchor_generator_pb2.py to flexible_grid_anchor_generator_pb2.cpython-38.pyc\n",
      "byte-compiling build\\bdist.win-amd64\\egg\\object_detection\\protos\\fpn_pb2.py to fpn_pb2.cpython-38.pyc\n",
      "byte-compiling build\\bdist.win-amd64\\egg\\object_detection\\protos\\graph_rewriter_pb2.py to graph_rewriter_pb2.cpython-38.pyc\n",
      "byte-compiling build\\bdist.win-amd64\\egg\\object_detection\\protos\\grid_anchor_generator_pb2.py to grid_anchor_generator_pb2.cpython-38.pyc\n",
      "byte-compiling build\\bdist.win-amd64\\egg\\object_detection\\protos\\hyperparams_pb2.py to hyperparams_pb2.cpython-38.pyc\n",
      "byte-compiling build\\bdist.win-amd64\\egg\\object_detection\\protos\\image_resizer_pb2.py to image_resizer_pb2.cpython-38.pyc\n",
      "byte-compiling build\\bdist.win-amd64\\egg\\object_detection\\protos\\input_reader_pb2.py to input_reader_pb2.cpython-38.pyc\n",
      "byte-compiling build\\bdist.win-amd64\\egg\\object_detection\\protos\\keypoint_box_coder_pb2.py to keypoint_box_coder_pb2.cpython-38.pyc\n",
      "byte-compiling build\\bdist.win-amd64\\egg\\object_detection\\protos\\losses_pb2.py to losses_pb2.cpython-38.pyc\n",
      "byte-compiling build\\bdist.win-amd64\\egg\\object_detection\\protos\\matcher_pb2.py to matcher_pb2.cpython-38.pyc\n",
      "byte-compiling build\\bdist.win-amd64\\egg\\object_detection\\protos\\mean_stddev_box_coder_pb2.py to mean_stddev_box_coder_pb2.cpython-38.pyc\n",
      "byte-compiling build\\bdist.win-amd64\\egg\\object_detection\\protos\\model_pb2.py to model_pb2.cpython-38.pyc\n",
      "byte-compiling build\\bdist.win-amd64\\egg\\object_detection\\protos\\multiscale_anchor_generator_pb2.py to multiscale_anchor_generator_pb2.cpython-38.pyc\n",
      "byte-compiling build\\bdist.win-amd64\\egg\\object_detection\\protos\\optimizer_pb2.py to optimizer_pb2.cpython-38.pyc\n",
      "byte-compiling build\\bdist.win-amd64\\egg\\object_detection\\protos\\pipeline_pb2.py to pipeline_pb2.cpython-38.pyc\n",
      "byte-compiling build\\bdist.win-amd64\\egg\\object_detection\\protos\\post_processing_pb2.py to post_processing_pb2.cpython-38.pyc\n",
      "byte-compiling build\\bdist.win-amd64\\egg\\object_detection\\protos\\preprocessor_pb2.py to preprocessor_pb2.cpython-38.pyc\n",
      "byte-compiling build\\bdist.win-amd64\\egg\\object_detection\\protos\\region_similarity_calculator_pb2.py to region_similarity_calculator_pb2.cpython-38.pyc\n",
      "byte-compiling build\\bdist.win-amd64\\egg\\object_detection\\protos\\square_box_coder_pb2.py to square_box_coder_pb2.cpython-38.pyc\n",
      "byte-compiling build\\bdist.win-amd64\\egg\\object_detection\\protos\\ssd_anchor_generator_pb2.py to ssd_anchor_generator_pb2.cpython-38.pyc\n",
      "byte-compiling build\\bdist.win-amd64\\egg\\object_detection\\protos\\ssd_pb2.py to ssd_pb2.cpython-38.pyc\n",
      "byte-compiling build\\bdist.win-amd64\\egg\\object_detection\\protos\\string_int_label_map_pb2.py to string_int_label_map_pb2.cpython-38.pyc\n",
      "byte-compiling build\\bdist.win-amd64\\egg\\object_detection\\protos\\target_assigner_pb2.py to target_assigner_pb2.cpython-38.pyc\n",
      "byte-compiling build\\bdist.win-amd64\\egg\\object_detection\\protos\\train_pb2.py to train_pb2.cpython-38.pyc\n",
      "byte-compiling build\\bdist.win-amd64\\egg\\object_detection\\protos\\__init__.py to __init__.cpython-38.pyc\n",
      "byte-compiling build\\bdist.win-amd64\\egg\\object_detection\\tpu_exporters\\export_saved_model_tpu.py to export_saved_model_tpu.cpython-38.pyc\n",
      "byte-compiling build\\bdist.win-amd64\\egg\\object_detection\\tpu_exporters\\export_saved_model_tpu_lib.py to export_saved_model_tpu_lib.cpython-38.pyc\n",
      "byte-compiling build\\bdist.win-amd64\\egg\\object_detection\\tpu_exporters\\export_saved_model_tpu_lib_tf1_test.py to export_saved_model_tpu_lib_tf1_test.cpython-38.pyc\n",
      "byte-compiling build\\bdist.win-amd64\\egg\\object_detection\\tpu_exporters\\faster_rcnn.py to faster_rcnn.cpython-38.pyc\n",
      "byte-compiling build\\bdist.win-amd64\\egg\\object_detection\\tpu_exporters\\ssd.py to ssd.cpython-38.pyc\n",
      "byte-compiling build\\bdist.win-amd64\\egg\\object_detection\\tpu_exporters\\testdata\\__init__.py to __init__.cpython-38.pyc\n",
      "byte-compiling build\\bdist.win-amd64\\egg\\object_detection\\tpu_exporters\\utils.py to utils.cpython-38.pyc\n",
      "byte-compiling build\\bdist.win-amd64\\egg\\object_detection\\tpu_exporters\\utils_test.py to utils_test.cpython-38.pyc\n",
      "byte-compiling build\\bdist.win-amd64\\egg\\object_detection\\tpu_exporters\\__init__.py to __init__.cpython-38.pyc\n",
      "byte-compiling build\\bdist.win-amd64\\egg\\object_detection\\utils\\autoaugment_utils.py to autoaugment_utils.cpython-38.pyc\n",
      "byte-compiling build\\bdist.win-amd64\\egg\\object_detection\\utils\\bifpn_utils.py to bifpn_utils.cpython-38.pyc\n",
      "byte-compiling build\\bdist.win-amd64\\egg\\object_detection\\utils\\category_util.py to category_util.cpython-38.pyc\n",
      "byte-compiling build\\bdist.win-amd64\\egg\\object_detection\\utils\\category_util_test.py to category_util_test.cpython-38.pyc\n",
      "byte-compiling build\\bdist.win-amd64\\egg\\object_detection\\utils\\colab_utils.py to colab_utils.cpython-38.pyc\n",
      "byte-compiling build\\bdist.win-amd64\\egg\\object_detection\\utils\\config_util.py to config_util.cpython-38.pyc\n",
      "byte-compiling build\\bdist.win-amd64\\egg\\object_detection\\utils\\config_util_test.py to config_util_test.cpython-38.pyc\n",
      "byte-compiling build\\bdist.win-amd64\\egg\\object_detection\\utils\\context_manager.py to context_manager.cpython-38.pyc\n",
      "byte-compiling build\\bdist.win-amd64\\egg\\object_detection\\utils\\context_manager_test.py to context_manager_test.cpython-38.pyc\n",
      "byte-compiling build\\bdist.win-amd64\\egg\\object_detection\\utils\\dataset_util.py to dataset_util.cpython-38.pyc\n",
      "byte-compiling build\\bdist.win-amd64\\egg\\object_detection\\utils\\dataset_util_test.py to dataset_util_test.cpython-38.pyc\n",
      "byte-compiling build\\bdist.win-amd64\\egg\\object_detection\\utils\\json_utils.py to json_utils.cpython-38.pyc\n",
      "byte-compiling build\\bdist.win-amd64\\egg\\object_detection\\utils\\json_utils_test.py to json_utils_test.cpython-38.pyc\n",
      "byte-compiling build\\bdist.win-amd64\\egg\\object_detection\\utils\\label_map_util.py to label_map_util.cpython-38.pyc\n",
      "byte-compiling build\\bdist.win-amd64\\egg\\object_detection\\utils\\label_map_util_test.py to label_map_util_test.cpython-38.pyc\n",
      "byte-compiling build\\bdist.win-amd64\\egg\\object_detection\\utils\\learning_schedules.py to learning_schedules.cpython-38.pyc\n",
      "byte-compiling build\\bdist.win-amd64\\egg\\object_detection\\utils\\learning_schedules_test.py to learning_schedules_test.cpython-38.pyc\n",
      "byte-compiling build\\bdist.win-amd64\\egg\\object_detection\\utils\\metrics.py to metrics.cpython-38.pyc\n",
      "byte-compiling build\\bdist.win-amd64\\egg\\object_detection\\utils\\metrics_test.py to metrics_test.cpython-38.pyc\n",
      "byte-compiling build\\bdist.win-amd64\\egg\\object_detection\\utils\\model_util.py to model_util.cpython-38.pyc\n",
      "byte-compiling build\\bdist.win-amd64\\egg\\object_detection\\utils\\model_util_tf2_test.py to model_util_tf2_test.cpython-38.pyc\n",
      "byte-compiling build\\bdist.win-amd64\\egg\\object_detection\\utils\\np_box_list.py to np_box_list.cpython-38.pyc\n",
      "byte-compiling build\\bdist.win-amd64\\egg\\object_detection\\utils\\np_box_list_ops.py to np_box_list_ops.cpython-38.pyc\n",
      "byte-compiling build\\bdist.win-amd64\\egg\\object_detection\\utils\\np_box_list_ops_test.py to np_box_list_ops_test.cpython-38.pyc\n",
      "byte-compiling build\\bdist.win-amd64\\egg\\object_detection\\utils\\np_box_list_test.py to np_box_list_test.cpython-38.pyc\n",
      "byte-compiling build\\bdist.win-amd64\\egg\\object_detection\\utils\\np_box_mask_list.py to np_box_mask_list.cpython-38.pyc\n",
      "byte-compiling build\\bdist.win-amd64\\egg\\object_detection\\utils\\np_box_mask_list_ops.py to np_box_mask_list_ops.cpython-38.pyc\n",
      "byte-compiling build\\bdist.win-amd64\\egg\\object_detection\\utils\\np_box_mask_list_ops_test.py to np_box_mask_list_ops_test.cpython-38.pyc\n",
      "byte-compiling build\\bdist.win-amd64\\egg\\object_detection\\utils\\np_box_mask_list_test.py to np_box_mask_list_test.cpython-38.pyc\n",
      "byte-compiling build\\bdist.win-amd64\\egg\\object_detection\\utils\\np_box_ops.py to np_box_ops.cpython-38.pyc\n",
      "byte-compiling build\\bdist.win-amd64\\egg\\object_detection\\utils\\np_box_ops_test.py to np_box_ops_test.cpython-38.pyc\n",
      "byte-compiling build\\bdist.win-amd64\\egg\\object_detection\\utils\\np_mask_ops.py to np_mask_ops.cpython-38.pyc\n",
      "byte-compiling build\\bdist.win-amd64\\egg\\object_detection\\utils\\np_mask_ops_test.py to np_mask_ops_test.cpython-38.pyc\n",
      "byte-compiling build\\bdist.win-amd64\\egg\\object_detection\\utils\\object_detection_evaluation.py to object_detection_evaluation.cpython-38.pyc\n",
      "byte-compiling build\\bdist.win-amd64\\egg\\object_detection\\utils\\object_detection_evaluation_test.py to object_detection_evaluation_test.cpython-38.pyc\n",
      "byte-compiling build\\bdist.win-amd64\\egg\\object_detection\\utils\\ops.py to ops.cpython-38.pyc\n",
      "byte-compiling build\\bdist.win-amd64\\egg\\object_detection\\utils\\ops_test.py to ops_test.cpython-38.pyc\n",
      "byte-compiling build\\bdist.win-amd64\\egg\\object_detection\\utils\\patch_ops.py to patch_ops.cpython-38.pyc\n",
      "byte-compiling build\\bdist.win-amd64\\egg\\object_detection\\utils\\patch_ops_test.py to patch_ops_test.cpython-38.pyc\n",
      "byte-compiling build\\bdist.win-amd64\\egg\\object_detection\\utils\\per_image_evaluation.py to per_image_evaluation.cpython-38.pyc\n",
      "byte-compiling build\\bdist.win-amd64\\egg\\object_detection\\utils\\per_image_evaluation_test.py to per_image_evaluation_test.cpython-38.pyc\n",
      "byte-compiling build\\bdist.win-amd64\\egg\\object_detection\\utils\\per_image_vrd_evaluation.py to per_image_vrd_evaluation.cpython-38.pyc\n",
      "byte-compiling build\\bdist.win-amd64\\egg\\object_detection\\utils\\per_image_vrd_evaluation_test.py to per_image_vrd_evaluation_test.cpython-38.pyc\n",
      "byte-compiling build\\bdist.win-amd64\\egg\\object_detection\\utils\\shape_utils.py to shape_utils.cpython-38.pyc\n",
      "byte-compiling build\\bdist.win-amd64\\egg\\object_detection\\utils\\shape_utils_test.py to shape_utils_test.cpython-38.pyc\n",
      "byte-compiling build\\bdist.win-amd64\\egg\\object_detection\\utils\\spatial_transform_ops.py to spatial_transform_ops.cpython-38.pyc\n",
      "byte-compiling build\\bdist.win-amd64\\egg\\object_detection\\utils\\spatial_transform_ops_test.py to spatial_transform_ops_test.cpython-38.pyc\n",
      "byte-compiling build\\bdist.win-amd64\\egg\\object_detection\\utils\\static_shape.py to static_shape.cpython-38.pyc\n",
      "byte-compiling build\\bdist.win-amd64\\egg\\object_detection\\utils\\static_shape_test.py to static_shape_test.cpython-38.pyc\n",
      "byte-compiling build\\bdist.win-amd64\\egg\\object_detection\\utils\\target_assigner_utils.py to target_assigner_utils.cpython-38.pyc\n",
      "byte-compiling build\\bdist.win-amd64\\egg\\object_detection\\utils\\target_assigner_utils_test.py to target_assigner_utils_test.cpython-38.pyc\n",
      "byte-compiling build\\bdist.win-amd64\\egg\\object_detection\\utils\\test_case.py to test_case.cpython-38.pyc\n",
      "byte-compiling build\\bdist.win-amd64\\egg\\object_detection\\utils\\test_case_test.py to test_case_test.cpython-38.pyc\n",
      "byte-compiling build\\bdist.win-amd64\\egg\\object_detection\\utils\\test_utils.py to test_utils.cpython-38.pyc\n",
      "byte-compiling build\\bdist.win-amd64\\egg\\object_detection\\utils\\test_utils_test.py to test_utils_test.cpython-38.pyc\n",
      "byte-compiling build\\bdist.win-amd64\\egg\\object_detection\\utils\\tf_version.py to tf_version.cpython-38.pyc\n",
      "byte-compiling build\\bdist.win-amd64\\egg\\object_detection\\utils\\variables_helper.py to variables_helper.cpython-38.pyc\n",
      "byte-compiling build\\bdist.win-amd64\\egg\\object_detection\\utils\\variables_helper_tf1_test.py to variables_helper_tf1_test.cpython-38.pyc\n",
      "byte-compiling build\\bdist.win-amd64\\egg\\object_detection\\utils\\visualization_utils.py to visualization_utils.cpython-38.pyc\n",
      "byte-compiling build\\bdist.win-amd64\\egg\\object_detection\\utils\\visualization_utils_test.py to visualization_utils_test.cpython-38.pyc\n",
      "byte-compiling build\\bdist.win-amd64\\egg\\object_detection\\utils\\vrd_evaluation.py to vrd_evaluation.cpython-38.pyc\n",
      "byte-compiling build\\bdist.win-amd64\\egg\\object_detection\\utils\\vrd_evaluation_test.py to vrd_evaluation_test.cpython-38.pyc\n",
      "byte-compiling build\\bdist.win-amd64\\egg\\object_detection\\utils\\__init__.py to __init__.cpython-38.pyc\n",
      "byte-compiling build\\bdist.win-amd64\\egg\\object_detection\\__init__.py to __init__.cpython-38.pyc\n",
      "byte-compiling build\\bdist.win-amd64\\egg\\preprocessing\\cifarnet_preprocessing.py to cifarnet_preprocessing.cpython-38.pyc\n",
      "byte-compiling build\\bdist.win-amd64\\egg\\preprocessing\\inception_preprocessing.py to inception_preprocessing.cpython-38.pyc\n",
      "byte-compiling build\\bdist.win-amd64\\egg\\preprocessing\\lenet_preprocessing.py to lenet_preprocessing.cpython-38.pyc\n",
      "byte-compiling build\\bdist.win-amd64\\egg\\preprocessing\\preprocessing_factory.py to preprocessing_factory.cpython-38.pyc\n",
      "byte-compiling build\\bdist.win-amd64\\egg\\preprocessing\\vgg_preprocessing.py to vgg_preprocessing.cpython-38.pyc\n",
      "byte-compiling build\\bdist.win-amd64\\egg\\preprocessing\\__init__.py to __init__.cpython-38.pyc\n",
      "creating build\\bdist.win-amd64\\egg\\EGG-INFO\n",
      "copying object_detection.egg-info\\PKG-INFO -> build\\bdist.win-amd64\\egg\\EGG-INFO\n",
      "copying object_detection.egg-info\\SOURCES.txt -> build\\bdist.win-amd64\\egg\\EGG-INFO\n",
      "copying object_detection.egg-info\\dependency_links.txt -> build\\bdist.win-amd64\\egg\\EGG-INFO\n",
      "copying object_detection.egg-info\\requires.txt -> build\\bdist.win-amd64\\egg\\EGG-INFO\n",
      "copying object_detection.egg-info\\top_level.txt -> build\\bdist.win-amd64\\egg\\EGG-INFO\n",
      "creating 'dist\\object_detection-0.1-py3.8.egg' and adding 'build\\bdist.win-amd64\\egg' to it\n",
      "removing 'build\\bdist.win-amd64\\egg' (and everything under it)\n",
      "Processing object_detection-0.1-py3.8.egg\n",
      "removing 'd:\\object detection api\\tfodcourse\\tfod\\lib\\site-packages\\object_detection-0.1-py3.8.egg' (and everything under it)\n",
      "creating d:\\object detection api\\tfodcourse\\tfod\\lib\\site-packages\\object_detection-0.1-py3.8.egg\n",
      "Extracting object_detection-0.1-py3.8.egg to d:\\object detection api\\tfodcourse\\tfod\\lib\\site-packages\n",
      "object-detection 0.1 is already the active version in easy-install.pth\n",
      "\n",
      "Installed d:\\object detection api\\tfodcourse\\tfod\\lib\\site-packages\\object_detection-0.1-py3.8.egg\n",
      "Processing dependencies for object-detection==0.1\n",
      "Searching for pycocotools\n",
      "Reading https://pypi.org/simple/pycocotools/\n",
      "Downloading https://files.pythonhosted.org/packages/2e/1c/4fd663fc57be418cecf6f89d0d141ffa815d0fd6538ccddeccf767e8aace/pycocotools-2.0.3.tar.gz#sha256=3829024930013771156521a4b8db4b3aef590556cfa3a8dd3fab027d39b215e1\n",
      "Best match: pycocotools 2.0.3\n",
      "Processing pycocotools-2.0.3.tar.gz\n",
      "Writing C:\\Users\\Lenovo\\AppData\\Local\\Temp\\easy_install-s4yw8r88\\pycocotools-2.0.3\\setup.cfg\n",
      "Running pycocotools-2.0.3\\setup.py -q bdist_egg --dist-dir C:\\Users\\Lenovo\\AppData\\Local\\Temp\\easy_install-s4yw8r88\\pycocotools-2.0.3\\egg-dist-tmp-lqyaa5v5\n"
     ]
    },
    {
     "name": "stdout",
     "output_type": "stream",
     "text": [
      "Obtaining file:///D:/object%20detection%20API/TFODCourse/Tensorflow/models/research/slim\n",
      "  Preparing metadata (setup.py): started\n",
      "  Preparing metadata (setup.py): finished with status 'done'\n",
      "Requirement already satisfied: six in d:\\object detection api\\tfodcourse\\tfod\\lib\\site-packages (from slim==0.1) (1.16.0)\n",
      "Requirement already satisfied: tf-slim>=1.1 in d:\\object detection api\\tfodcourse\\tfod\\lib\\site-packages (from slim==0.1) (1.1.0)\n",
      "Requirement already satisfied: absl-py>=0.2.2 in d:\\object detection api\\tfodcourse\\tfod\\lib\\site-packages (from tf-slim>=1.1->slim==0.1) (1.0.0)\n",
      "Installing collected packages: slim\n",
      "  Attempting uninstall: slim\n",
      "    Found existing installation: slim 0.1\n",
      "    Uninstalling slim-0.1:\n",
      "      Successfully uninstalled slim-0.1\n",
      "  Running setup.py develop for slim\n",
      "Successfully installed slim-0.1\n"
     ]
    }
   ],
   "source": [
    "# Install Tensorflow Object Detection \n",
    "if os.name=='posix':  \n",
    "    !apt-get install protobuf-compiler\n",
    "    !cd Tensorflow/models/research && protoc object_detection/protos/*.proto --python_out=. && cp object_detection/packages/tf2/setup.py . && python -m pip install . \n",
    "    \n",
    "if os.name=='nt':\n",
    "    url=\"https://github.com/protocolbuffers/protobuf/releases/download/v3.15.6/protoc-3.15.6-win64.zip\"\n",
    "    # here we are downloading protocol buffer (the same version which sentdex used,so you better check his tutorial out as well)\n",
    "    wget.download(url)\n",
    "    #here we are moving protocol buffer to it's designated place and unzipping it\n",
    "    !move protoc-3.15.6-win64.zip {paths['PROTOC_PATH']}\n",
    "#     unzipping the compressed protocol buffer setup\n",
    "    !cd {paths['PROTOC_PATH']} && tar -xf protoc-3.15.6-win64.zip\n",
    "    os.environ['PATH'] += os.pathsep + os.path.abspath(os.path.join(paths['PROTOC_PATH'], 'bin'))   \n",
    "    #below path is going to download the  official tensorflow detection api\n",
    "    !cd Tensorflow/models/research && protoc object_detection/protos/*.proto --python_out=. && copy object_detection\\\\packages\\\\tf2\\\\setup.py setup.py && python setup.py build && python setup.py install\n",
    "    !cd Tensorflow/models/research/slim && pip install -e . "
   ]
  },
  {
   "cell_type": "code",
   "execution_count": 43,
   "metadata": {
    "scrolled": true
   },
   "outputs": [
    {
     "name": "stderr",
     "output_type": "stream",
     "text": [
      "2022-01-02 11:02:15.676703: W tensorflow/stream_executor/platform/default/dso_loader.cc:64] Could not load dynamic library 'nvcuda.dll'; dlerror: nvcuda.dll not found\n",
      "2022-01-02 11:02:15.676747: W tensorflow/stream_executor/cuda/cuda_driver.cc:269] failed call to cuInit: UNKNOWN ERROR (303)\n",
      "2022-01-02 11:02:15.681692: I tensorflow/stream_executor/cuda/cuda_diagnostics.cc:169] retrieving CUDA diagnostic information for host: LAPTOP-P1DOFEJU\n",
      "2022-01-02 11:02:15.681865: I tensorflow/stream_executor/cuda/cuda_diagnostics.cc:176] hostname: LAPTOP-P1DOFEJU\n",
      "Running tests under Python 3.8.8: D:\\object detection API\\TFODCourse\\tfod\\Scripts\\python.exe\n",
      "[ RUN      ] ModelBuilderTF2Test.test_create_center_net_deepmac\n",
      "2022-01-02 11:02:15.692125: I tensorflow/core/platform/cpu_feature_guard.cc:151] This TensorFlow binary is optimized with oneAPI Deep Neural Network Library (oneDNN) to use the following CPU instructions in performance-critical operations:  AVX AVX2\n",
      "To enable them in other operations, rebuild TensorFlow with the appropriate compiler flags.\n",
      "D:\\object detection API\\TFODCourse\\tfod\\lib\\site-packages\\object_detection-0.1-py3.8.egg\\object_detection\\builders\\model_builder.py:1100: DeprecationWarning: The 'warn' function is deprecated, use 'warning' instead\n",
      "  logging.warn(('Building experimental DeepMAC meta-arch.'\n",
      "W0102 11:02:16.030606  9576 model_builder.py:1100] Building experimental DeepMAC meta-arch. Some features may be omitted.\n",
      "INFO:tensorflow:time(__main__.ModelBuilderTF2Test.test_create_center_net_deepmac): 0.83s\n",
      "I0102 11:02:16.505344  9576 test_util.py:2308] time(__main__.ModelBuilderTF2Test.test_create_center_net_deepmac): 0.83s\n",
      "[       OK ] ModelBuilderTF2Test.test_create_center_net_deepmac\n",
      "[ RUN      ] ModelBuilderTF2Test.test_create_center_net_model0 (customize_head_params=True)\n",
      "INFO:tensorflow:time(__main__.ModelBuilderTF2Test.test_create_center_net_model0 (customize_head_params=True)): 1.49s\n",
      "I0102 11:02:17.997970  9576 test_util.py:2308] time(__main__.ModelBuilderTF2Test.test_create_center_net_model0 (customize_head_params=True)): 1.49s\n",
      "[       OK ] ModelBuilderTF2Test.test_create_center_net_model0 (customize_head_params=True)\n",
      "[ RUN      ] ModelBuilderTF2Test.test_create_center_net_model1 (customize_head_params=False)\n",
      "INFO:tensorflow:time(__main__.ModelBuilderTF2Test.test_create_center_net_model1 (customize_head_params=False)): 0.43s\n",
      "I0102 11:02:18.430604  9576 test_util.py:2308] time(__main__.ModelBuilderTF2Test.test_create_center_net_model1 (customize_head_params=False)): 0.43s\n",
      "[       OK ] ModelBuilderTF2Test.test_create_center_net_model1 (customize_head_params=False)\n",
      "[ RUN      ] ModelBuilderTF2Test.test_create_center_net_model_from_keypoints\n",
      "INFO:tensorflow:time(__main__.ModelBuilderTF2Test.test_create_center_net_model_from_keypoints): 0.39s\n",
      "I0102 11:02:18.823395  9576 test_util.py:2308] time(__main__.ModelBuilderTF2Test.test_create_center_net_model_from_keypoints): 0.39s\n",
      "[       OK ] ModelBuilderTF2Test.test_create_center_net_model_from_keypoints\n",
      "[ RUN      ] ModelBuilderTF2Test.test_create_center_net_model_mobilenet\n",
      "INFO:tensorflow:time(__main__.ModelBuilderTF2Test.test_create_center_net_model_mobilenet): 2.7s\n",
      "I0102 11:02:21.524119  9576 test_util.py:2308] time(__main__.ModelBuilderTF2Test.test_create_center_net_model_mobilenet): 2.7s\n",
      "[       OK ] ModelBuilderTF2Test.test_create_center_net_model_mobilenet\n",
      "[ RUN      ] ModelBuilderTF2Test.test_create_experimental_model\n",
      "INFO:tensorflow:time(__main__.ModelBuilderTF2Test.test_create_experimental_model): 0.0s\n",
      "I0102 11:02:21.524119  9576 test_util.py:2308] time(__main__.ModelBuilderTF2Test.test_create_experimental_model): 0.0s\n",
      "[       OK ] ModelBuilderTF2Test.test_create_experimental_model\n",
      "[ RUN      ] ModelBuilderTF2Test.test_create_faster_rcnn_from_config_with_crop_feature0 (True)\n",
      "INFO:tensorflow:time(__main__.ModelBuilderTF2Test.test_create_faster_rcnn_from_config_with_crop_feature0 (True)): 0.03s\n",
      "I0102 11:02:21.564477  9576 test_util.py:2308] time(__main__.ModelBuilderTF2Test.test_create_faster_rcnn_from_config_with_crop_feature0 (True)): 0.03s\n",
      "[       OK ] ModelBuilderTF2Test.test_create_faster_rcnn_from_config_with_crop_feature0 (True)\n",
      "[ RUN      ] ModelBuilderTF2Test.test_create_faster_rcnn_from_config_with_crop_feature1 (False)\n",
      "INFO:tensorflow:time(__main__.ModelBuilderTF2Test.test_create_faster_rcnn_from_config_with_crop_feature1 (False)): 0.02s\n",
      "I0102 11:02:21.584632  9576 test_util.py:2308] time(__main__.ModelBuilderTF2Test.test_create_faster_rcnn_from_config_with_crop_feature1 (False)): 0.02s\n",
      "[       OK ] ModelBuilderTF2Test.test_create_faster_rcnn_from_config_with_crop_feature1 (False)\n",
      "[ RUN      ] ModelBuilderTF2Test.test_create_faster_rcnn_model_from_config_with_example_miner\n",
      "INFO:tensorflow:time(__main__.ModelBuilderTF2Test.test_create_faster_rcnn_model_from_config_with_example_miner): 0.03s\n",
      "I0102 11:02:21.609995  9576 test_util.py:2308] time(__main__.ModelBuilderTF2Test.test_create_faster_rcnn_model_from_config_with_example_miner): 0.03s\n",
      "[       OK ] ModelBuilderTF2Test.test_create_faster_rcnn_model_from_config_with_example_miner\n",
      "[ RUN      ] ModelBuilderTF2Test.test_create_faster_rcnn_models_from_config_faster_rcnn_with_matmul\n",
      "INFO:tensorflow:time(__main__.ModelBuilderTF2Test.test_create_faster_rcnn_models_from_config_faster_rcnn_with_matmul): 0.14s\n",
      "I0102 11:02:21.747513  9576 test_util.py:2308] time(__main__.ModelBuilderTF2Test.test_create_faster_rcnn_models_from_config_faster_rcnn_with_matmul): 0.14s\n",
      "[       OK ] ModelBuilderTF2Test.test_create_faster_rcnn_models_from_config_faster_rcnn_with_matmul\n",
      "[ RUN      ] ModelBuilderTF2Test.test_create_faster_rcnn_models_from_config_faster_rcnn_without_matmul\n",
      "INFO:tensorflow:time(__main__.ModelBuilderTF2Test.test_create_faster_rcnn_models_from_config_faster_rcnn_without_matmul): 0.14s\n",
      "I0102 11:02:21.887330  9576 test_util.py:2308] time(__main__.ModelBuilderTF2Test.test_create_faster_rcnn_models_from_config_faster_rcnn_without_matmul): 0.14s\n",
      "[       OK ] ModelBuilderTF2Test.test_create_faster_rcnn_models_from_config_faster_rcnn_without_matmul\n",
      "[ RUN      ] ModelBuilderTF2Test.test_create_faster_rcnn_models_from_config_mask_rcnn_with_matmul\n",
      "INFO:tensorflow:time(__main__.ModelBuilderTF2Test.test_create_faster_rcnn_models_from_config_mask_rcnn_with_matmul): 0.14s\n",
      "I0102 11:02:22.028979  9576 test_util.py:2308] time(__main__.ModelBuilderTF2Test.test_create_faster_rcnn_models_from_config_mask_rcnn_with_matmul): 0.14s\n",
      "[       OK ] ModelBuilderTF2Test.test_create_faster_rcnn_models_from_config_mask_rcnn_with_matmul\n",
      "[ RUN      ] ModelBuilderTF2Test.test_create_faster_rcnn_models_from_config_mask_rcnn_without_matmul\n",
      "INFO:tensorflow:time(__main__.ModelBuilderTF2Test.test_create_faster_rcnn_models_from_config_mask_rcnn_without_matmul): 0.15s\n",
      "I0102 11:02:22.178664  9576 test_util.py:2308] time(__main__.ModelBuilderTF2Test.test_create_faster_rcnn_models_from_config_mask_rcnn_without_matmul): 0.15s\n",
      "[       OK ] ModelBuilderTF2Test.test_create_faster_rcnn_models_from_config_mask_rcnn_without_matmul\n",
      "[ RUN      ] ModelBuilderTF2Test.test_create_rfcn_model_from_config\n",
      "INFO:tensorflow:time(__main__.ModelBuilderTF2Test.test_create_rfcn_model_from_config): 0.14s\n",
      "I0102 11:02:22.316466  9576 test_util.py:2308] time(__main__.ModelBuilderTF2Test.test_create_rfcn_model_from_config): 0.14s\n",
      "[       OK ] ModelBuilderTF2Test.test_create_rfcn_model_from_config\n",
      "[ RUN      ] ModelBuilderTF2Test.test_create_ssd_fpn_model_from_config\n",
      "INFO:tensorflow:time(__main__.ModelBuilderTF2Test.test_create_ssd_fpn_model_from_config): 0.05s\n",
      "I0102 11:02:22.363338  9576 test_util.py:2308] time(__main__.ModelBuilderTF2Test.test_create_ssd_fpn_model_from_config): 0.05s\n",
      "[       OK ] ModelBuilderTF2Test.test_create_ssd_fpn_model_from_config\n",
      "[ RUN      ] ModelBuilderTF2Test.test_create_ssd_models_from_config\n",
      "I0102 11:02:22.614784  9576 ssd_efficientnet_bifpn_feature_extractor.py:142] EfficientDet EfficientNet backbone version: efficientnet-b0\n",
      "I0102 11:02:22.614784  9576 ssd_efficientnet_bifpn_feature_extractor.py:144] EfficientDet BiFPN num filters: 64\n",
      "I0102 11:02:22.614784  9576 ssd_efficientnet_bifpn_feature_extractor.py:145] EfficientDet BiFPN num iterations: 3\n",
      "I0102 11:02:22.614784  9576 efficientnet_model.py:147] round_filter input=32 output=32\n",
      "I0102 11:02:22.635044  9576 efficientnet_model.py:147] round_filter input=32 output=32\n",
      "I0102 11:02:22.643114  9576 efficientnet_model.py:147] round_filter input=16 output=16\n",
      "I0102 11:02:22.716095  9576 efficientnet_model.py:147] round_filter input=16 output=16\n",
      "I0102 11:02:22.716095  9576 efficientnet_model.py:147] round_filter input=24 output=24\n",
      "I0102 11:02:22.926564  9576 efficientnet_model.py:147] round_filter input=24 output=24\n",
      "I0102 11:02:22.936642  9576 efficientnet_model.py:147] round_filter input=40 output=40\n",
      "I0102 11:02:23.151209  9576 efficientnet_model.py:147] round_filter input=40 output=40\n",
      "I0102 11:02:23.151209  9576 efficientnet_model.py:147] round_filter input=80 output=80\n",
      "I0102 11:02:23.490943  9576 efficientnet_model.py:147] round_filter input=80 output=80\n",
      "I0102 11:02:23.490943  9576 efficientnet_model.py:147] round_filter input=112 output=112\n",
      "I0102 11:02:23.967528  9576 efficientnet_model.py:147] round_filter input=112 output=112\n",
      "I0102 11:02:23.967528  9576 efficientnet_model.py:147] round_filter input=192 output=192\n",
      "I0102 11:02:24.468624  9576 efficientnet_model.py:147] round_filter input=192 output=192\n",
      "I0102 11:02:24.468624  9576 efficientnet_model.py:147] round_filter input=320 output=320\n",
      "I0102 11:02:24.600169  9576 efficientnet_model.py:147] round_filter input=1280 output=1280\n",
      "I0102 11:02:24.671019  9576 efficientnet_model.py:457] Building model efficientnet with params ModelConfig(width_coefficient=1.0, depth_coefficient=1.0, resolution=224, dropout_rate=0.2, blocks=(BlockConfig(input_filters=32, output_filters=16, kernel_size=3, num_repeat=1, expand_ratio=1, strides=(1, 1), se_ratio=0.25, id_skip=True, fused_conv=False, conv_type='depthwise'), BlockConfig(input_filters=16, output_filters=24, kernel_size=3, num_repeat=2, expand_ratio=6, strides=(2, 2), se_ratio=0.25, id_skip=True, fused_conv=False, conv_type='depthwise'), BlockConfig(input_filters=24, output_filters=40, kernel_size=5, num_repeat=2, expand_ratio=6, strides=(2, 2), se_ratio=0.25, id_skip=True, fused_conv=False, conv_type='depthwise'), BlockConfig(input_filters=40, output_filters=80, kernel_size=3, num_repeat=3, expand_ratio=6, strides=(2, 2), se_ratio=0.25, id_skip=True, fused_conv=False, conv_type='depthwise'), BlockConfig(input_filters=80, output_filters=112, kernel_size=5, num_repeat=3, expand_ratio=6, strides=(1, 1), se_ratio=0.25, id_skip=True, fused_conv=False, conv_type='depthwise'), BlockConfig(input_filters=112, output_filters=192, kernel_size=5, num_repeat=4, expand_ratio=6, strides=(2, 2), se_ratio=0.25, id_skip=True, fused_conv=False, conv_type='depthwise'), BlockConfig(input_filters=192, output_filters=320, kernel_size=3, num_repeat=1, expand_ratio=6, strides=(1, 1), se_ratio=0.25, id_skip=True, fused_conv=False, conv_type='depthwise')), stem_base_filters=32, top_base_filters=1280, activation='simple_swish', batch_norm='default', bn_momentum=0.99, bn_epsilon=0.001, weight_decay=5e-06, drop_connect_rate=0.2, depth_divisor=8, min_depth=None, use_se=True, input_channels=3, num_classes=1000, model_name='efficientnet', rescale_input=False, data_format='channels_last', dtype='float32')\n",
      "I0102 11:02:24.740789  9576 ssd_efficientnet_bifpn_feature_extractor.py:142] EfficientDet EfficientNet backbone version: efficientnet-b1\n",
      "I0102 11:02:24.740789  9576 ssd_efficientnet_bifpn_feature_extractor.py:144] EfficientDet BiFPN num filters: 88\n",
      "I0102 11:02:24.740789  9576 ssd_efficientnet_bifpn_feature_extractor.py:145] EfficientDet BiFPN num iterations: 4\n",
      "I0102 11:02:24.740789  9576 efficientnet_model.py:147] round_filter input=32 output=32\n",
      "I0102 11:02:24.768944  9576 efficientnet_model.py:147] round_filter input=32 output=32\n",
      "I0102 11:02:24.768944  9576 efficientnet_model.py:147] round_filter input=16 output=16\n",
      "I0102 11:02:24.931577  9576 efficientnet_model.py:147] round_filter input=16 output=16\n",
      "I0102 11:02:24.931577  9576 efficientnet_model.py:147] round_filter input=24 output=24\n",
      "I0102 11:02:25.248130  9576 efficientnet_model.py:147] round_filter input=24 output=24\n",
      "I0102 11:02:25.248130  9576 efficientnet_model.py:147] round_filter input=40 output=40\n",
      "I0102 11:02:25.571215  9576 efficientnet_model.py:147] round_filter input=40 output=40\n",
      "I0102 11:02:25.571215  9576 efficientnet_model.py:147] round_filter input=80 output=80\n",
      "I0102 11:02:26.019247  9576 efficientnet_model.py:147] round_filter input=80 output=80\n",
      "I0102 11:02:26.019247  9576 efficientnet_model.py:147] round_filter input=112 output=112\n",
      "I0102 11:02:26.473860  9576 efficientnet_model.py:147] round_filter input=112 output=112\n",
      "I0102 11:02:26.473860  9576 efficientnet_model.py:147] round_filter input=192 output=192\n",
      "I0102 11:02:27.091227  9576 efficientnet_model.py:147] round_filter input=192 output=192\n",
      "I0102 11:02:27.091227  9576 efficientnet_model.py:147] round_filter input=320 output=320\n",
      "I0102 11:02:27.354357  9576 efficientnet_model.py:147] round_filter input=1280 output=1280\n",
      "I0102 11:02:27.407752  9576 efficientnet_model.py:457] Building model efficientnet with params ModelConfig(width_coefficient=1.0, depth_coefficient=1.1, resolution=240, dropout_rate=0.2, blocks=(BlockConfig(input_filters=32, output_filters=16, kernel_size=3, num_repeat=1, expand_ratio=1, strides=(1, 1), se_ratio=0.25, id_skip=True, fused_conv=False, conv_type='depthwise'), BlockConfig(input_filters=16, output_filters=24, kernel_size=3, num_repeat=2, expand_ratio=6, strides=(2, 2), se_ratio=0.25, id_skip=True, fused_conv=False, conv_type='depthwise'), BlockConfig(input_filters=24, output_filters=40, kernel_size=5, num_repeat=2, expand_ratio=6, strides=(2, 2), se_ratio=0.25, id_skip=True, fused_conv=False, conv_type='depthwise'), BlockConfig(input_filters=40, output_filters=80, kernel_size=3, num_repeat=3, expand_ratio=6, strides=(2, 2), se_ratio=0.25, id_skip=True, fused_conv=False, conv_type='depthwise'), BlockConfig(input_filters=80, output_filters=112, kernel_size=5, num_repeat=3, expand_ratio=6, strides=(1, 1), se_ratio=0.25, id_skip=True, fused_conv=False, conv_type='depthwise'), BlockConfig(input_filters=112, output_filters=192, kernel_size=5, num_repeat=4, expand_ratio=6, strides=(2, 2), se_ratio=0.25, id_skip=True, fused_conv=False, conv_type='depthwise'), BlockConfig(input_filters=192, output_filters=320, kernel_size=3, num_repeat=1, expand_ratio=6, strides=(1, 1), se_ratio=0.25, id_skip=True, fused_conv=False, conv_type='depthwise')), stem_base_filters=32, top_base_filters=1280, activation='simple_swish', batch_norm='default', bn_momentum=0.99, bn_epsilon=0.001, weight_decay=5e-06, drop_connect_rate=0.2, depth_divisor=8, min_depth=None, use_se=True, input_channels=3, num_classes=1000, model_name='efficientnet', rescale_input=False, data_format='channels_last', dtype='float32')\n",
      "I0102 11:02:27.508035  9576 ssd_efficientnet_bifpn_feature_extractor.py:142] EfficientDet EfficientNet backbone version: efficientnet-b2\n",
      "I0102 11:02:27.508035  9576 ssd_efficientnet_bifpn_feature_extractor.py:144] EfficientDet BiFPN num filters: 112\n",
      "I0102 11:02:27.508035  9576 ssd_efficientnet_bifpn_feature_extractor.py:145] EfficientDet BiFPN num iterations: 5\n",
      "I0102 11:02:27.508035  9576 efficientnet_model.py:147] round_filter input=32 output=32\n",
      "I0102 11:02:27.523663  9576 efficientnet_model.py:147] round_filter input=32 output=32\n",
      "I0102 11:02:27.523663  9576 efficientnet_model.py:147] round_filter input=16 output=16\n",
      "I0102 11:02:27.701052  9576 efficientnet_model.py:147] round_filter input=16 output=16\n",
      "I0102 11:02:27.701052  9576 efficientnet_model.py:147] round_filter input=24 output=24\n",
      "I0102 11:02:28.015008  9576 efficientnet_model.py:147] round_filter input=24 output=24\n",
      "I0102 11:02:28.015008  9576 efficientnet_model.py:147] round_filter input=40 output=48\n",
      "I0102 11:02:28.334751  9576 efficientnet_model.py:147] round_filter input=40 output=48\n",
      "I0102 11:02:28.334751  9576 efficientnet_model.py:147] round_filter input=80 output=88\n",
      "I0102 11:02:28.782924  9576 efficientnet_model.py:147] round_filter input=80 output=88\n",
      "I0102 11:02:28.782924  9576 efficientnet_model.py:147] round_filter input=112 output=120\n",
      "I0102 11:02:29.400564  9576 efficientnet_model.py:147] round_filter input=112 output=120\n",
      "I0102 11:02:29.400564  9576 efficientnet_model.py:147] round_filter input=192 output=208\n",
      "I0102 11:02:30.001903  9576 efficientnet_model.py:147] round_filter input=192 output=208\n",
      "I0102 11:02:30.001903  9576 efficientnet_model.py:147] round_filter input=320 output=352\n",
      "I0102 11:02:30.287150  9576 efficientnet_model.py:147] round_filter input=1280 output=1408\n",
      "I0102 11:02:30.349627  9576 efficientnet_model.py:457] Building model efficientnet with params ModelConfig(width_coefficient=1.1, depth_coefficient=1.2, resolution=260, dropout_rate=0.3, blocks=(BlockConfig(input_filters=32, output_filters=16, kernel_size=3, num_repeat=1, expand_ratio=1, strides=(1, 1), se_ratio=0.25, id_skip=True, fused_conv=False, conv_type='depthwise'), BlockConfig(input_filters=16, output_filters=24, kernel_size=3, num_repeat=2, expand_ratio=6, strides=(2, 2), se_ratio=0.25, id_skip=True, fused_conv=False, conv_type='depthwise'), BlockConfig(input_filters=24, output_filters=40, kernel_size=5, num_repeat=2, expand_ratio=6, strides=(2, 2), se_ratio=0.25, id_skip=True, fused_conv=False, conv_type='depthwise'), BlockConfig(input_filters=40, output_filters=80, kernel_size=3, num_repeat=3, expand_ratio=6, strides=(2, 2), se_ratio=0.25, id_skip=True, fused_conv=False, conv_type='depthwise'), BlockConfig(input_filters=80, output_filters=112, kernel_size=5, num_repeat=3, expand_ratio=6, strides=(1, 1), se_ratio=0.25, id_skip=True, fused_conv=False, conv_type='depthwise'), BlockConfig(input_filters=112, output_filters=192, kernel_size=5, num_repeat=4, expand_ratio=6, strides=(2, 2), se_ratio=0.25, id_skip=True, fused_conv=False, conv_type='depthwise'), BlockConfig(input_filters=192, output_filters=320, kernel_size=3, num_repeat=1, expand_ratio=6, strides=(1, 1), se_ratio=0.25, id_skip=True, fused_conv=False, conv_type='depthwise')), stem_base_filters=32, top_base_filters=1280, activation='simple_swish', batch_norm='default', bn_momentum=0.99, bn_epsilon=0.001, weight_decay=5e-06, drop_connect_rate=0.2, depth_divisor=8, min_depth=None, use_se=True, input_channels=3, num_classes=1000, model_name='efficientnet', rescale_input=False, data_format='channels_last', dtype='float32')\n",
      "I0102 11:02:30.449571  9576 ssd_efficientnet_bifpn_feature_extractor.py:142] EfficientDet EfficientNet backbone version: efficientnet-b3\n",
      "I0102 11:02:30.449571  9576 ssd_efficientnet_bifpn_feature_extractor.py:144] EfficientDet BiFPN num filters: 160\n",
      "I0102 11:02:30.449571  9576 ssd_efficientnet_bifpn_feature_extractor.py:145] EfficientDet BiFPN num iterations: 6\n",
      "I0102 11:02:30.449571  9576 efficientnet_model.py:147] round_filter input=32 output=40\n",
      "I0102 11:02:30.484326  9576 efficientnet_model.py:147] round_filter input=32 output=40\n",
      "I0102 11:02:30.484326  9576 efficientnet_model.py:147] round_filter input=16 output=24\n",
      "I0102 11:02:30.649548  9576 efficientnet_model.py:147] round_filter input=16 output=24\n",
      "I0102 11:02:30.649548  9576 efficientnet_model.py:147] round_filter input=24 output=32\n",
      "I0102 11:02:30.968557  9576 efficientnet_model.py:147] round_filter input=24 output=32\n",
      "I0102 11:02:30.968557  9576 efficientnet_model.py:147] round_filter input=40 output=48\n",
      "I0102 11:02:31.300777  9576 efficientnet_model.py:147] round_filter input=40 output=48\n",
      "I0102 11:02:31.300777  9576 efficientnet_model.py:147] round_filter input=80 output=96\n",
      "I0102 11:02:31.864709  9576 efficientnet_model.py:147] round_filter input=80 output=96\n",
      "I0102 11:02:31.864709  9576 efficientnet_model.py:147] round_filter input=112 output=136\n",
      "I0102 11:02:32.472953  9576 efficientnet_model.py:147] round_filter input=112 output=136\n",
      "I0102 11:02:32.472953  9576 efficientnet_model.py:147] round_filter input=192 output=232\n",
      "I0102 11:02:33.237619  9576 efficientnet_model.py:147] round_filter input=192 output=232\n",
      "I0102 11:02:33.237619  9576 efficientnet_model.py:147] round_filter input=320 output=384\n",
      "I0102 11:02:33.522968  9576 efficientnet_model.py:147] round_filter input=1280 output=1536\n",
      "I0102 11:02:33.576346  9576 efficientnet_model.py:457] Building model efficientnet with params ModelConfig(width_coefficient=1.2, depth_coefficient=1.4, resolution=300, dropout_rate=0.3, blocks=(BlockConfig(input_filters=32, output_filters=16, kernel_size=3, num_repeat=1, expand_ratio=1, strides=(1, 1), se_ratio=0.25, id_skip=True, fused_conv=False, conv_type='depthwise'), BlockConfig(input_filters=16, output_filters=24, kernel_size=3, num_repeat=2, expand_ratio=6, strides=(2, 2), se_ratio=0.25, id_skip=True, fused_conv=False, conv_type='depthwise'), BlockConfig(input_filters=24, output_filters=40, kernel_size=5, num_repeat=2, expand_ratio=6, strides=(2, 2), se_ratio=0.25, id_skip=True, fused_conv=False, conv_type='depthwise'), BlockConfig(input_filters=40, output_filters=80, kernel_size=3, num_repeat=3, expand_ratio=6, strides=(2, 2), se_ratio=0.25, id_skip=True, fused_conv=False, conv_type='depthwise'), BlockConfig(input_filters=80, output_filters=112, kernel_size=5, num_repeat=3, expand_ratio=6, strides=(1, 1), se_ratio=0.25, id_skip=True, fused_conv=False, conv_type='depthwise'), BlockConfig(input_filters=112, output_filters=192, kernel_size=5, num_repeat=4, expand_ratio=6, strides=(2, 2), se_ratio=0.25, id_skip=True, fused_conv=False, conv_type='depthwise'), BlockConfig(input_filters=192, output_filters=320, kernel_size=3, num_repeat=1, expand_ratio=6, strides=(1, 1), se_ratio=0.25, id_skip=True, fused_conv=False, conv_type='depthwise')), stem_base_filters=32, top_base_filters=1280, activation='simple_swish', batch_norm='default', bn_momentum=0.99, bn_epsilon=0.001, weight_decay=5e-06, drop_connect_rate=0.2, depth_divisor=8, min_depth=None, use_se=True, input_channels=3, num_classes=1000, model_name='efficientnet', rescale_input=False, data_format='channels_last', dtype='float32')\n",
      "I0102 11:02:33.689072  9576 ssd_efficientnet_bifpn_feature_extractor.py:142] EfficientDet EfficientNet backbone version: efficientnet-b4\n",
      "I0102 11:02:33.689072  9576 ssd_efficientnet_bifpn_feature_extractor.py:144] EfficientDet BiFPN num filters: 224\n",
      "I0102 11:02:33.689072  9576 ssd_efficientnet_bifpn_feature_extractor.py:145] EfficientDet BiFPN num iterations: 7\n",
      "I0102 11:02:33.689072  9576 efficientnet_model.py:147] round_filter input=32 output=48\n",
      "I0102 11:02:33.709642  9576 efficientnet_model.py:147] round_filter input=32 output=48\n",
      "I0102 11:02:33.709642  9576 efficientnet_model.py:147] round_filter input=16 output=24\n",
      "I0102 11:02:33.873520  9576 efficientnet_model.py:147] round_filter input=16 output=24\n",
      "I0102 11:02:33.873520  9576 efficientnet_model.py:147] round_filter input=24 output=32\n",
      "I0102 11:02:34.308616  9576 efficientnet_model.py:147] round_filter input=24 output=32\n",
      "I0102 11:02:34.308616  9576 efficientnet_model.py:147] round_filter input=40 output=56\n",
      "I0102 11:02:34.740485  9576 efficientnet_model.py:147] round_filter input=40 output=56\n",
      "I0102 11:02:34.740485  9576 efficientnet_model.py:147] round_filter input=80 output=112\n",
      "I0102 11:02:35.673454  9576 efficientnet_model.py:147] round_filter input=80 output=112\n",
      "I0102 11:02:35.673454  9576 efficientnet_model.py:147] round_filter input=112 output=160\n",
      "I0102 11:02:36.406816  9576 efficientnet_model.py:147] round_filter input=112 output=160\n",
      "I0102 11:02:36.406816  9576 efficientnet_model.py:147] round_filter input=192 output=272\n"
     ]
    },
    {
     "name": "stderr",
     "output_type": "stream",
     "text": [
      "I0102 11:02:37.447539  9576 efficientnet_model.py:147] round_filter input=192 output=272\n",
      "I0102 11:02:37.447539  9576 efficientnet_model.py:147] round_filter input=320 output=448\n",
      "I0102 11:02:37.764008  9576 efficientnet_model.py:147] round_filter input=1280 output=1792\n",
      "I0102 11:02:37.833053  9576 efficientnet_model.py:457] Building model efficientnet with params ModelConfig(width_coefficient=1.4, depth_coefficient=1.8, resolution=380, dropout_rate=0.4, blocks=(BlockConfig(input_filters=32, output_filters=16, kernel_size=3, num_repeat=1, expand_ratio=1, strides=(1, 1), se_ratio=0.25, id_skip=True, fused_conv=False, conv_type='depthwise'), BlockConfig(input_filters=16, output_filters=24, kernel_size=3, num_repeat=2, expand_ratio=6, strides=(2, 2), se_ratio=0.25, id_skip=True, fused_conv=False, conv_type='depthwise'), BlockConfig(input_filters=24, output_filters=40, kernel_size=5, num_repeat=2, expand_ratio=6, strides=(2, 2), se_ratio=0.25, id_skip=True, fused_conv=False, conv_type='depthwise'), BlockConfig(input_filters=40, output_filters=80, kernel_size=3, num_repeat=3, expand_ratio=6, strides=(2, 2), se_ratio=0.25, id_skip=True, fused_conv=False, conv_type='depthwise'), BlockConfig(input_filters=80, output_filters=112, kernel_size=5, num_repeat=3, expand_ratio=6, strides=(1, 1), se_ratio=0.25, id_skip=True, fused_conv=False, conv_type='depthwise'), BlockConfig(input_filters=112, output_filters=192, kernel_size=5, num_repeat=4, expand_ratio=6, strides=(2, 2), se_ratio=0.25, id_skip=True, fused_conv=False, conv_type='depthwise'), BlockConfig(input_filters=192, output_filters=320, kernel_size=3, num_repeat=1, expand_ratio=6, strides=(1, 1), se_ratio=0.25, id_skip=True, fused_conv=False, conv_type='depthwise')), stem_base_filters=32, top_base_filters=1280, activation='simple_swish', batch_norm='default', bn_momentum=0.99, bn_epsilon=0.001, weight_decay=5e-06, drop_connect_rate=0.2, depth_divisor=8, min_depth=None, use_se=True, input_channels=3, num_classes=1000, model_name='efficientnet', rescale_input=False, data_format='channels_last', dtype='float32')\n",
      "I0102 11:02:37.964649  9576 ssd_efficientnet_bifpn_feature_extractor.py:142] EfficientDet EfficientNet backbone version: efficientnet-b5\n",
      "I0102 11:02:37.964649  9576 ssd_efficientnet_bifpn_feature_extractor.py:144] EfficientDet BiFPN num filters: 288\n",
      "I0102 11:02:37.964649  9576 ssd_efficientnet_bifpn_feature_extractor.py:145] EfficientDet BiFPN num iterations: 7\n",
      "I0102 11:02:37.964649  9576 efficientnet_model.py:147] round_filter input=32 output=48\n",
      "I0102 11:02:37.980276  9576 efficientnet_model.py:147] round_filter input=32 output=48\n",
      "I0102 11:02:37.980276  9576 efficientnet_model.py:147] round_filter input=16 output=24\n",
      "I0102 11:02:38.244345  9576 efficientnet_model.py:147] round_filter input=16 output=24\n",
      "I0102 11:02:38.244345  9576 efficientnet_model.py:147] round_filter input=24 output=40\n",
      "I0102 11:02:38.777981  9576 efficientnet_model.py:147] round_filter input=24 output=40\n",
      "I0102 11:02:38.777981  9576 efficientnet_model.py:147] round_filter input=40 output=64\n",
      "I0102 11:02:39.348451  9576 efficientnet_model.py:147] round_filter input=40 output=64\n",
      "I0102 11:02:39.348451  9576 efficientnet_model.py:147] round_filter input=80 output=128\n",
      "I0102 11:02:40.166043  9576 efficientnet_model.py:147] round_filter input=80 output=128\n",
      "I0102 11:02:40.166043  9576 efficientnet_model.py:147] round_filter input=112 output=176\n",
      "I0102 11:02:41.030921  9576 efficientnet_model.py:147] round_filter input=112 output=176\n",
      "I0102 11:02:41.030921  9576 efficientnet_model.py:147] round_filter input=192 output=304\n",
      "I0102 11:02:42.272187  9576 efficientnet_model.py:147] round_filter input=192 output=304\n",
      "I0102 11:02:42.272187  9576 efficientnet_model.py:147] round_filter input=320 output=512\n",
      "I0102 11:02:42.941150  9576 efficientnet_model.py:147] round_filter input=1280 output=2048\n",
      "I0102 11:02:43.002399  9576 efficientnet_model.py:457] Building model efficientnet with params ModelConfig(width_coefficient=1.6, depth_coefficient=2.2, resolution=456, dropout_rate=0.4, blocks=(BlockConfig(input_filters=32, output_filters=16, kernel_size=3, num_repeat=1, expand_ratio=1, strides=(1, 1), se_ratio=0.25, id_skip=True, fused_conv=False, conv_type='depthwise'), BlockConfig(input_filters=16, output_filters=24, kernel_size=3, num_repeat=2, expand_ratio=6, strides=(2, 2), se_ratio=0.25, id_skip=True, fused_conv=False, conv_type='depthwise'), BlockConfig(input_filters=24, output_filters=40, kernel_size=5, num_repeat=2, expand_ratio=6, strides=(2, 2), se_ratio=0.25, id_skip=True, fused_conv=False, conv_type='depthwise'), BlockConfig(input_filters=40, output_filters=80, kernel_size=3, num_repeat=3, expand_ratio=6, strides=(2, 2), se_ratio=0.25, id_skip=True, fused_conv=False, conv_type='depthwise'), BlockConfig(input_filters=80, output_filters=112, kernel_size=5, num_repeat=3, expand_ratio=6, strides=(1, 1), se_ratio=0.25, id_skip=True, fused_conv=False, conv_type='depthwise'), BlockConfig(input_filters=112, output_filters=192, kernel_size=5, num_repeat=4, expand_ratio=6, strides=(2, 2), se_ratio=0.25, id_skip=True, fused_conv=False, conv_type='depthwise'), BlockConfig(input_filters=192, output_filters=320, kernel_size=3, num_repeat=1, expand_ratio=6, strides=(1, 1), se_ratio=0.25, id_skip=True, fused_conv=False, conv_type='depthwise')), stem_base_filters=32, top_base_filters=1280, activation='simple_swish', batch_norm='default', bn_momentum=0.99, bn_epsilon=0.001, weight_decay=5e-06, drop_connect_rate=0.2, depth_divisor=8, min_depth=None, use_se=True, input_channels=3, num_classes=1000, model_name='efficientnet', rescale_input=False, data_format='channels_last', dtype='float32')\n",
      "I0102 11:02:43.146375  9576 ssd_efficientnet_bifpn_feature_extractor.py:142] EfficientDet EfficientNet backbone version: efficientnet-b6\n",
      "I0102 11:02:43.146375  9576 ssd_efficientnet_bifpn_feature_extractor.py:144] EfficientDet BiFPN num filters: 384\n",
      "I0102 11:02:43.146375  9576 ssd_efficientnet_bifpn_feature_extractor.py:145] EfficientDet BiFPN num iterations: 8\n",
      "I0102 11:02:43.154437  9576 efficientnet_model.py:147] round_filter input=32 output=56\n",
      "I0102 11:02:43.176748  9576 efficientnet_model.py:147] round_filter input=32 output=56\n",
      "I0102 11:02:43.176748  9576 efficientnet_model.py:147] round_filter input=16 output=32\n",
      "I0102 11:02:43.429918  9576 efficientnet_model.py:147] round_filter input=16 output=32\n",
      "I0102 11:02:43.429918  9576 efficientnet_model.py:147] round_filter input=24 output=40\n",
      "I0102 11:02:44.078873  9576 efficientnet_model.py:147] round_filter input=24 output=40\n",
      "I0102 11:02:44.078873  9576 efficientnet_model.py:147] round_filter input=40 output=72\n",
      "I0102 11:02:44.749722  9576 efficientnet_model.py:147] round_filter input=40 output=72\n",
      "I0102 11:02:44.749722  9576 efficientnet_model.py:147] round_filter input=80 output=144\n",
      "I0102 11:02:45.705291  9576 efficientnet_model.py:147] round_filter input=80 output=144\n",
      "I0102 11:02:45.705291  9576 efficientnet_model.py:147] round_filter input=112 output=200\n",
      "I0102 11:02:46.708266  9576 efficientnet_model.py:147] round_filter input=112 output=200\n",
      "I0102 11:02:46.708266  9576 efficientnet_model.py:147] round_filter input=192 output=344\n",
      "I0102 11:02:48.212985  9576 efficientnet_model.py:147] round_filter input=192 output=344\n",
      "I0102 11:02:48.212985  9576 efficientnet_model.py:147] round_filter input=320 output=576\n",
      "I0102 11:02:48.692471  9576 efficientnet_model.py:147] round_filter input=1280 output=2304\n",
      "I0102 11:02:48.761503  9576 efficientnet_model.py:457] Building model efficientnet with params ModelConfig(width_coefficient=1.8, depth_coefficient=2.6, resolution=528, dropout_rate=0.5, blocks=(BlockConfig(input_filters=32, output_filters=16, kernel_size=3, num_repeat=1, expand_ratio=1, strides=(1, 1), se_ratio=0.25, id_skip=True, fused_conv=False, conv_type='depthwise'), BlockConfig(input_filters=16, output_filters=24, kernel_size=3, num_repeat=2, expand_ratio=6, strides=(2, 2), se_ratio=0.25, id_skip=True, fused_conv=False, conv_type='depthwise'), BlockConfig(input_filters=24, output_filters=40, kernel_size=5, num_repeat=2, expand_ratio=6, strides=(2, 2), se_ratio=0.25, id_skip=True, fused_conv=False, conv_type='depthwise'), BlockConfig(input_filters=40, output_filters=80, kernel_size=3, num_repeat=3, expand_ratio=6, strides=(2, 2), se_ratio=0.25, id_skip=True, fused_conv=False, conv_type='depthwise'), BlockConfig(input_filters=80, output_filters=112, kernel_size=5, num_repeat=3, expand_ratio=6, strides=(1, 1), se_ratio=0.25, id_skip=True, fused_conv=False, conv_type='depthwise'), BlockConfig(input_filters=112, output_filters=192, kernel_size=5, num_repeat=4, expand_ratio=6, strides=(2, 2), se_ratio=0.25, id_skip=True, fused_conv=False, conv_type='depthwise'), BlockConfig(input_filters=192, output_filters=320, kernel_size=3, num_repeat=1, expand_ratio=6, strides=(1, 1), se_ratio=0.25, id_skip=True, fused_conv=False, conv_type='depthwise')), stem_base_filters=32, top_base_filters=1280, activation='simple_swish', batch_norm='default', bn_momentum=0.99, bn_epsilon=0.001, weight_decay=5e-06, drop_connect_rate=0.2, depth_divisor=8, min_depth=None, use_se=True, input_channels=3, num_classes=1000, model_name='efficientnet', rescale_input=False, data_format='channels_last', dtype='float32')\n",
      "I0102 11:02:48.930887  9576 ssd_efficientnet_bifpn_feature_extractor.py:142] EfficientDet EfficientNet backbone version: efficientnet-b7\n",
      "I0102 11:02:48.930887  9576 ssd_efficientnet_bifpn_feature_extractor.py:144] EfficientDet BiFPN num filters: 384\n",
      "I0102 11:02:48.930887  9576 ssd_efficientnet_bifpn_feature_extractor.py:145] EfficientDet BiFPN num iterations: 8\n",
      "I0102 11:02:48.930887  9576 efficientnet_model.py:147] round_filter input=32 output=64\n",
      "I0102 11:02:48.946515  9576 efficientnet_model.py:147] round_filter input=32 output=64\n",
      "I0102 11:02:48.946515  9576 efficientnet_model.py:147] round_filter input=16 output=32\n",
      "I0102 11:02:49.301197  9576 efficientnet_model.py:147] round_filter input=16 output=32\n",
      "I0102 11:02:49.301197  9576 efficientnet_model.py:147] round_filter input=24 output=48\n",
      "I0102 11:02:50.072288  9576 efficientnet_model.py:147] round_filter input=24 output=48\n",
      "I0102 11:02:50.072288  9576 efficientnet_model.py:147] round_filter input=40 output=80\n",
      "I0102 11:02:51.206406  9576 efficientnet_model.py:147] round_filter input=40 output=80\n",
      "I0102 11:02:51.206406  9576 efficientnet_model.py:147] round_filter input=80 output=160\n",
      "I0102 11:02:52.442234  9576 efficientnet_model.py:147] round_filter input=80 output=160\n",
      "I0102 11:02:52.442234  9576 efficientnet_model.py:147] round_filter input=112 output=224\n",
      "I0102 11:02:53.711936  9576 efficientnet_model.py:147] round_filter input=112 output=224\n",
      "I0102 11:02:53.711936  9576 efficientnet_model.py:147] round_filter input=192 output=384\n",
      "I0102 11:02:55.634558  9576 efficientnet_model.py:147] round_filter input=192 output=384\n",
      "I0102 11:02:55.634558  9576 efficientnet_model.py:147] round_filter input=320 output=640\n",
      "I0102 11:02:56.336861  9576 efficientnet_model.py:147] round_filter input=1280 output=2560\n",
      "I0102 11:02:56.437131  9576 efficientnet_model.py:457] Building model efficientnet with params ModelConfig(width_coefficient=2.0, depth_coefficient=3.1, resolution=600, dropout_rate=0.5, blocks=(BlockConfig(input_filters=32, output_filters=16, kernel_size=3, num_repeat=1, expand_ratio=1, strides=(1, 1), se_ratio=0.25, id_skip=True, fused_conv=False, conv_type='depthwise'), BlockConfig(input_filters=16, output_filters=24, kernel_size=3, num_repeat=2, expand_ratio=6, strides=(2, 2), se_ratio=0.25, id_skip=True, fused_conv=False, conv_type='depthwise'), BlockConfig(input_filters=24, output_filters=40, kernel_size=5, num_repeat=2, expand_ratio=6, strides=(2, 2), se_ratio=0.25, id_skip=True, fused_conv=False, conv_type='depthwise'), BlockConfig(input_filters=40, output_filters=80, kernel_size=3, num_repeat=3, expand_ratio=6, strides=(2, 2), se_ratio=0.25, id_skip=True, fused_conv=False, conv_type='depthwise'), BlockConfig(input_filters=80, output_filters=112, kernel_size=5, num_repeat=3, expand_ratio=6, strides=(1, 1), se_ratio=0.25, id_skip=True, fused_conv=False, conv_type='depthwise'), BlockConfig(input_filters=112, output_filters=192, kernel_size=5, num_repeat=4, expand_ratio=6, strides=(2, 2), se_ratio=0.25, id_skip=True, fused_conv=False, conv_type='depthwise'), BlockConfig(input_filters=192, output_filters=320, kernel_size=3, num_repeat=1, expand_ratio=6, strides=(1, 1), se_ratio=0.25, id_skip=True, fused_conv=False, conv_type='depthwise')), stem_base_filters=32, top_base_filters=1280, activation='simple_swish', batch_norm='default', bn_momentum=0.99, bn_epsilon=0.001, weight_decay=5e-06, drop_connect_rate=0.2, depth_divisor=8, min_depth=None, use_se=True, input_channels=3, num_classes=1000, model_name='efficientnet', rescale_input=False, data_format='channels_last', dtype='float32')\n",
      "INFO:tensorflow:time(__main__.ModelBuilderTF2Test.test_create_ssd_models_from_config): 34.28s\n",
      "I0102 11:02:56.639150  9576 test_util.py:2308] time(__main__.ModelBuilderTF2Test.test_create_ssd_models_from_config): 34.28s\n",
      "[       OK ] ModelBuilderTF2Test.test_create_ssd_models_from_config\n",
      "[ RUN      ] ModelBuilderTF2Test.test_invalid_faster_rcnn_batchnorm_update\n",
      "INFO:tensorflow:time(__main__.ModelBuilderTF2Test.test_invalid_faster_rcnn_batchnorm_update): 0.0s\n",
      "I0102 11:02:56.649582  9576 test_util.py:2308] time(__main__.ModelBuilderTF2Test.test_invalid_faster_rcnn_batchnorm_update): 0.0s\n",
      "[       OK ] ModelBuilderTF2Test.test_invalid_faster_rcnn_batchnorm_update\n",
      "[ RUN      ] ModelBuilderTF2Test.test_invalid_first_stage_nms_iou_threshold\n",
      "INFO:tensorflow:time(__main__.ModelBuilderTF2Test.test_invalid_first_stage_nms_iou_threshold): 0.0s\n",
      "I0102 11:02:56.649582  9576 test_util.py:2308] time(__main__.ModelBuilderTF2Test.test_invalid_first_stage_nms_iou_threshold): 0.0s\n",
      "[       OK ] ModelBuilderTF2Test.test_invalid_first_stage_nms_iou_threshold\n",
      "[ RUN      ] ModelBuilderTF2Test.test_invalid_model_config_proto\n",
      "INFO:tensorflow:time(__main__.ModelBuilderTF2Test.test_invalid_model_config_proto): 0.0s\n",
      "I0102 11:02:56.649582  9576 test_util.py:2308] time(__main__.ModelBuilderTF2Test.test_invalid_model_config_proto): 0.0s\n",
      "[       OK ] ModelBuilderTF2Test.test_invalid_model_config_proto\n",
      "[ RUN      ] ModelBuilderTF2Test.test_invalid_second_stage_batch_size\n",
      "INFO:tensorflow:time(__main__.ModelBuilderTF2Test.test_invalid_second_stage_batch_size): 0.0s\n",
      "I0102 11:02:56.649582  9576 test_util.py:2308] time(__main__.ModelBuilderTF2Test.test_invalid_second_stage_batch_size): 0.0s\n",
      "[       OK ] ModelBuilderTF2Test.test_invalid_second_stage_batch_size\n",
      "[ RUN      ] ModelBuilderTF2Test.test_session\n",
      "[  SKIPPED ] ModelBuilderTF2Test.test_session\n",
      "[ RUN      ] ModelBuilderTF2Test.test_unknown_faster_rcnn_feature_extractor\n",
      "INFO:tensorflow:time(__main__.ModelBuilderTF2Test.test_unknown_faster_rcnn_feature_extractor): 0.0s\n",
      "I0102 11:02:56.657662  9576 test_util.py:2308] time(__main__.ModelBuilderTF2Test.test_unknown_faster_rcnn_feature_extractor): 0.0s\n",
      "[       OK ] ModelBuilderTF2Test.test_unknown_faster_rcnn_feature_extractor\n",
      "[ RUN      ] ModelBuilderTF2Test.test_unknown_meta_architecture\n",
      "INFO:tensorflow:time(__main__.ModelBuilderTF2Test.test_unknown_meta_architecture): 0.0s\n",
      "I0102 11:02:56.659986  9576 test_util.py:2308] time(__main__.ModelBuilderTF2Test.test_unknown_meta_architecture): 0.0s\n",
      "[       OK ] ModelBuilderTF2Test.test_unknown_meta_architecture\n",
      "[ RUN      ] ModelBuilderTF2Test.test_unknown_ssd_feature_extractor\n",
      "INFO:tensorflow:time(__main__.ModelBuilderTF2Test.test_unknown_ssd_feature_extractor): 0.0s\n",
      "I0102 11:02:56.659986  9576 test_util.py:2308] time(__main__.ModelBuilderTF2Test.test_unknown_ssd_feature_extractor): 0.0s\n",
      "[       OK ] ModelBuilderTF2Test.test_unknown_ssd_feature_extractor\n",
      "----------------------------------------------------------------------\n",
      "Ran 24 tests in 40.977s\n",
      "\n",
      "OK (skipped=1)\n"
     ]
    }
   ],
   "source": [
    "VERIFICATION_SCRIPT = os.path.join(paths['APIMODEL_PATH'], 'research', 'object_detection', 'builders', 'model_builder_tf2_test.py')\n",
    "# Verify Installation\n",
    "!python {VERIFICATION_SCRIPT}"
   ]
  },
  {
   "cell_type": "code",
   "execution_count": 44,
   "metadata": {},
   "outputs": [
    {
     "name": "stdout",
     "output_type": "stream",
     "text": [
      "Requirement already satisfied: tensorflow in d:\\object detection api\\tfodcourse\\tfod\\lib\\site-packages (2.7.0)\n",
      "Requirement already satisfied: libclang>=9.0.1 in d:\\object detection api\\tfodcourse\\tfod\\lib\\site-packages (from tensorflow) (12.0.0)\n",
      "Requirement already satisfied: grpcio<2.0,>=1.24.3 in d:\\object detection api\\tfodcourse\\tfod\\lib\\site-packages (from tensorflow) (1.43.0)\n",
      "Requirement already satisfied: opt-einsum>=2.3.2 in d:\\object detection api\\tfodcourse\\tfod\\lib\\site-packages (from tensorflow) (3.3.0)\n",
      "Requirement already satisfied: six>=1.12.0 in d:\\object detection api\\tfodcourse\\tfod\\lib\\site-packages (from tensorflow) (1.16.0)\n",
      "Requirement already satisfied: tensorflow-estimator<2.8,~=2.7.0rc0 in d:\\object detection api\\tfodcourse\\tfod\\lib\\site-packages (from tensorflow) (2.7.0)\n",
      "Requirement already satisfied: flatbuffers<3.0,>=1.12 in d:\\object detection api\\tfodcourse\\tfod\\lib\\site-packages (from tensorflow) (2.0)\n",
      "Requirement already satisfied: wrapt>=1.11.0 in d:\\object detection api\\tfodcourse\\tfod\\lib\\site-packages (from tensorflow) (1.13.3)\n",
      "Requirement already satisfied: termcolor>=1.1.0 in d:\\object detection api\\tfodcourse\\tfod\\lib\\site-packages (from tensorflow) (1.1.0)\n",
      "Requirement already satisfied: numpy>=1.14.5 in d:\\object detection api\\tfodcourse\\tfod\\lib\\site-packages (from tensorflow) (1.21.5)\n",
      "Requirement already satisfied: absl-py>=0.4.0 in d:\\object detection api\\tfodcourse\\tfod\\lib\\site-packages (from tensorflow) (1.0.0)\n",
      "Requirement already satisfied: keras-preprocessing>=1.1.1 in d:\\object detection api\\tfodcourse\\tfod\\lib\\site-packages (from tensorflow) (1.1.2)\n",
      "Requirement already satisfied: tensorboard~=2.6 in d:\\object detection api\\tfodcourse\\tfod\\lib\\site-packages (from tensorflow) (2.7.0)\n",
      "Requirement already satisfied: typing-extensions>=3.6.6 in d:\\object detection api\\tfodcourse\\tfod\\lib\\site-packages (from tensorflow) (4.0.1)\n",
      "Requirement already satisfied: tensorflow-io-gcs-filesystem>=0.21.0 in d:\\object detection api\\tfodcourse\\tfod\\lib\\site-packages (from tensorflow) (0.23.1)\n",
      "Requirement already satisfied: astunparse>=1.6.0 in d:\\object detection api\\tfodcourse\\tfod\\lib\\site-packages (from tensorflow) (1.6.3)\n",
      "Requirement already satisfied: google-pasta>=0.1.1 in d:\\object detection api\\tfodcourse\\tfod\\lib\\site-packages (from tensorflow) (0.2.0)\n",
      "Requirement already satisfied: protobuf>=3.9.2 in d:\\object detection api\\tfodcourse\\tfod\\lib\\site-packages (from tensorflow) (3.19.1)\n",
      "Requirement already satisfied: h5py>=2.9.0 in d:\\object detection api\\tfodcourse\\tfod\\lib\\site-packages (from tensorflow) (3.6.0)\n",
      "Requirement already satisfied: wheel<1.0,>=0.32.0 in d:\\object detection api\\tfodcourse\\tfod\\lib\\site-packages (from tensorflow) (0.37.1)\n",
      "Requirement already satisfied: keras<2.8,>=2.7.0rc0 in d:\\object detection api\\tfodcourse\\tfod\\lib\\site-packages (from tensorflow) (2.7.0)\n",
      "Requirement already satisfied: gast<0.5.0,>=0.2.1 in d:\\object detection api\\tfodcourse\\tfod\\lib\\site-packages (from tensorflow) (0.4.0)\n",
      "Requirement already satisfied: setuptools>=41.0.0 in d:\\object detection api\\tfodcourse\\tfod\\lib\\site-packages (from tensorboard~=2.6->tensorflow) (49.2.1)\n",
      "Requirement already satisfied: requests<3,>=2.21.0 in d:\\object detection api\\tfodcourse\\tfod\\lib\\site-packages (from tensorboard~=2.6->tensorflow) (2.26.0)\n",
      "Requirement already satisfied: google-auth-oauthlib<0.5,>=0.4.1 in d:\\object detection api\\tfodcourse\\tfod\\lib\\site-packages (from tensorboard~=2.6->tensorflow) (0.4.6)\n",
      "Requirement already satisfied: tensorboard-data-server<0.7.0,>=0.6.0 in d:\\object detection api\\tfodcourse\\tfod\\lib\\site-packages (from tensorboard~=2.6->tensorflow) (0.6.1)\n",
      "Requirement already satisfied: markdown>=2.6.8 in d:\\object detection api\\tfodcourse\\tfod\\lib\\site-packages (from tensorboard~=2.6->tensorflow) (3.3.6)\n",
      "Requirement already satisfied: tensorboard-plugin-wit>=1.6.0 in d:\\object detection api\\tfodcourse\\tfod\\lib\\site-packages (from tensorboard~=2.6->tensorflow) (1.8.0)\n",
      "Requirement already satisfied: google-auth<3,>=1.6.3 in d:\\object detection api\\tfodcourse\\tfod\\lib\\site-packages (from tensorboard~=2.6->tensorflow) (2.3.3)\n",
      "Requirement already satisfied: werkzeug>=0.11.15 in d:\\object detection api\\tfodcourse\\tfod\\lib\\site-packages (from tensorboard~=2.6->tensorflow) (2.0.2)\n",
      "Requirement already satisfied: cachetools<5.0,>=2.0.0 in d:\\object detection api\\tfodcourse\\tfod\\lib\\site-packages (from google-auth<3,>=1.6.3->tensorboard~=2.6->tensorflow) (4.2.4)\n",
      "Requirement already satisfied: pyasn1-modules>=0.2.1 in d:\\object detection api\\tfodcourse\\tfod\\lib\\site-packages (from google-auth<3,>=1.6.3->tensorboard~=2.6->tensorflow) (0.2.8)\n",
      "Requirement already satisfied: rsa<5,>=3.1.4 in d:\\object detection api\\tfodcourse\\tfod\\lib\\site-packages (from google-auth<3,>=1.6.3->tensorboard~=2.6->tensorflow) (4.8)\n",
      "Requirement already satisfied: requests-oauthlib>=0.7.0 in d:\\object detection api\\tfodcourse\\tfod\\lib\\site-packages (from google-auth-oauthlib<0.5,>=0.4.1->tensorboard~=2.6->tensorflow) (1.3.0)\n",
      "Requirement already satisfied: importlib-metadata>=4.4 in d:\\object detection api\\tfodcourse\\tfod\\lib\\site-packages (from markdown>=2.6.8->tensorboard~=2.6->tensorflow) (4.10.0)\n",
      "Requirement already satisfied: charset-normalizer~=2.0.0 in d:\\object detection api\\tfodcourse\\tfod\\lib\\site-packages (from requests<3,>=2.21.0->tensorboard~=2.6->tensorflow) (2.0.9)\n",
      "Requirement already satisfied: idna<4,>=2.5 in d:\\object detection api\\tfodcourse\\tfod\\lib\\site-packages (from requests<3,>=2.21.0->tensorboard~=2.6->tensorflow) (3.3)\n",
      "Requirement already satisfied: certifi>=2017.4.17 in d:\\object detection api\\tfodcourse\\tfod\\lib\\site-packages (from requests<3,>=2.21.0->tensorboard~=2.6->tensorflow) (2021.10.8)\n",
      "Requirement already satisfied: urllib3<1.27,>=1.21.1 in d:\\object detection api\\tfodcourse\\tfod\\lib\\site-packages (from requests<3,>=2.21.0->tensorboard~=2.6->tensorflow) (1.26.7)\n",
      "Requirement already satisfied: zipp>=0.5 in d:\\object detection api\\tfodcourse\\tfod\\lib\\site-packages (from importlib-metadata>=4.4->markdown>=2.6.8->tensorboard~=2.6->tensorflow) (3.6.0)\n",
      "Requirement already satisfied: pyasn1<0.5.0,>=0.4.6 in d:\\object detection api\\tfodcourse\\tfod\\lib\\site-packages (from pyasn1-modules>=0.2.1->google-auth<3,>=1.6.3->tensorboard~=2.6->tensorflow) (0.4.8)\n",
      "Requirement already satisfied: oauthlib>=3.0.0 in d:\\object detection api\\tfodcourse\\tfod\\lib\\site-packages (from requests-oauthlib>=0.7.0->google-auth-oauthlib<0.5,>=0.4.1->tensorboard~=2.6->tensorflow) (3.1.1)\n"
     ]
    }
   ],
   "source": [
    "!pip install tensorflow --upgrade"
   ]
  },
  {
   "cell_type": "code",
   "execution_count": 45,
   "metadata": {},
   "outputs": [
    {
     "name": "stdout",
     "output_type": "stream",
     "text": [
      "Found existing installation: protobuf 3.19.1\n",
      "Uninstalling protobuf-3.19.1:\n",
      "  Successfully uninstalled protobuf-3.19.1\n"
     ]
    },
    {
     "name": "stderr",
     "output_type": "stream",
     "text": [
      "ERROR: Exception:\n",
      "Traceback (most recent call last):\n",
      "  File \"d:\\object detection api\\tfodcourse\\tfod\\lib\\site-packages\\pip\\_internal\\cli\\base_command.py\", line 164, in exc_logging_wrapper\n",
      "    status = run_func(*args)\n",
      "  File \"d:\\object detection api\\tfodcourse\\tfod\\lib\\site-packages\\pip\\_internal\\commands\\uninstall.py\", line 102, in run\n",
      "    uninstall_pathset.commit()\n",
      "  File \"d:\\object detection api\\tfodcourse\\tfod\\lib\\site-packages\\pip\\_internal\\req\\req_uninstall.py\", line 435, in commit\n",
      "    self._moved_paths.commit()\n",
      "  File \"d:\\object detection api\\tfodcourse\\tfod\\lib\\site-packages\\pip\\_internal\\req\\req_uninstall.py\", line 288, in commit\n",
      "    save_dir.cleanup()\n",
      "  File \"d:\\object detection api\\tfodcourse\\tfod\\lib\\site-packages\\pip\\_internal\\utils\\temp_dir.py\", line 173, in cleanup\n",
      "    rmtree(self._path)\n",
      "  File \"d:\\object detection api\\tfodcourse\\tfod\\lib\\site-packages\\pip\\_vendor\\tenacity\\__init__.py\", line 326, in wrapped_f\n",
      "    return self(f, *args, **kw)\n",
      "  File \"d:\\object detection api\\tfodcourse\\tfod\\lib\\site-packages\\pip\\_vendor\\tenacity\\__init__.py\", line 406, in __call__\n",
      "    do = self.iter(retry_state=retry_state)\n",
      "  File \"d:\\object detection api\\tfodcourse\\tfod\\lib\\site-packages\\pip\\_vendor\\tenacity\\__init__.py\", line 362, in iter\n",
      "    raise retry_exc.reraise()\n",
      "  File \"d:\\object detection api\\tfodcourse\\tfod\\lib\\site-packages\\pip\\_vendor\\tenacity\\__init__.py\", line 195, in reraise\n",
      "    raise self.last_attempt.result()\n",
      "  File \"C:\\Users\\Lenovo\\anaconda3\\lib\\concurrent\\futures\\_base.py\", line 432, in result\n",
      "    return self.__get_result()\n",
      "  File \"C:\\Users\\Lenovo\\anaconda3\\lib\\concurrent\\futures\\_base.py\", line 388, in __get_result\n",
      "    raise self._exception\n",
      "  File \"d:\\object detection api\\tfodcourse\\tfod\\lib\\site-packages\\pip\\_vendor\\tenacity\\__init__.py\", line 409, in __call__\n",
      "    result = fn(*args, **kwargs)\n",
      "  File \"d:\\object detection api\\tfodcourse\\tfod\\lib\\site-packages\\pip\\_internal\\utils\\misc.py\", line 126, in rmtree\n",
      "    shutil.rmtree(dir, ignore_errors=ignore_errors, onerror=rmtree_errorhandler)\n",
      "  File \"C:\\Users\\Lenovo\\anaconda3\\lib\\shutil.py\", line 740, in rmtree\n",
      "    return _rmtree_unsafe(path, onerror)\n",
      "  File \"C:\\Users\\Lenovo\\anaconda3\\lib\\shutil.py\", line 613, in _rmtree_unsafe\n",
      "    _rmtree_unsafe(fullname, onerror)\n",
      "  File \"C:\\Users\\Lenovo\\anaconda3\\lib\\shutil.py\", line 618, in _rmtree_unsafe\n",
      "    onerror(os.unlink, fullname, sys.exc_info())\n",
      "  File \"C:\\Users\\Lenovo\\anaconda3\\lib\\shutil.py\", line 616, in _rmtree_unsafe\n",
      "    os.unlink(fullname)\n",
      "PermissionError: [WinError 5] Access is denied: 'D:\\\\object detection API\\\\TFODCourse\\\\tfod\\\\Lib\\\\site-packages\\\\google\\\\~rotobuf\\\\internal\\\\_api_implementation.cp38-win_amd64.pyd'\n"
     ]
    },
    {
     "name": "stdout",
     "output_type": "stream",
     "text": [
      "Collecting protobuf\n",
      "  Using cached protobuf-3.19.1-cp38-cp38-win_amd64.whl (895 kB)\n",
      "Requirement already satisfied: matplotlib==3.2 in d:\\object detection api\\tfodcourse\\tfod\\lib\\site-packages (3.2.0)\n",
      "Requirement already satisfied: pyparsing!=2.0.4,!=2.1.2,!=2.1.6,>=2.0.1 in d:\\object detection api\\tfodcourse\\tfod\\lib\\site-packages (from matplotlib==3.2) (3.0.6)\n",
      "Requirement already satisfied: kiwisolver>=1.0.1 in d:\\object detection api\\tfodcourse\\tfod\\lib\\site-packages (from matplotlib==3.2) (1.3.2)\n",
      "Requirement already satisfied: cycler>=0.10 in d:\\object detection api\\tfodcourse\\tfod\\lib\\site-packages (from matplotlib==3.2) (0.11.0)\n",
      "Requirement already satisfied: python-dateutil>=2.1 in d:\\object detection api\\tfodcourse\\tfod\\lib\\site-packages (from matplotlib==3.2) (2.8.2)\n",
      "Requirement already satisfied: numpy>=1.11 in d:\\object detection api\\tfodcourse\\tfod\\lib\\site-packages (from matplotlib==3.2) (1.21.5)\n",
      "Requirement already satisfied: six>=1.5 in d:\\object detection api\\tfodcourse\\tfod\\lib\\site-packages (from python-dateutil>=2.1->matplotlib==3.2) (1.16.0)\n",
      "Installing collected packages: protobuf\n",
      "Successfully installed protobuf-3.19.1\n"
     ]
    },
    {
     "name": "stderr",
     "output_type": "stream",
     "text": [
      "WARNING: Ignoring invalid distribution -rotobuf (d:\\object detection api\\tfodcourse\\tfod\\lib\\site-packages)\n",
      "WARNING: Ignoring invalid distribution -rotobuf (d:\\object detection api\\tfodcourse\\tfod\\lib\\site-packages)\n",
      "WARNING: Ignoring invalid distribution -rotobuf (d:\\object detection api\\tfodcourse\\tfod\\lib\\site-packages)\n",
      "WARNING: Ignoring invalid distribution -rotobuf (d:\\object detection api\\tfodcourse\\tfod\\lib\\site-packages)\n",
      "ERROR: pip's dependency resolver does not currently take into account all the packages that are installed. This behaviour is the source of the following dependency conflicts.\n",
      "tf-models-official 2.7.0 requires google-api-python-client>=1.6.7, which is not installed.\n",
      "tf-models-official 2.7.0 requires kaggle>=1.3.9, which is not installed.\n",
      "tf-models-official 2.7.0 requires oauth2client, which is not installed.\n",
      "tf-models-official 2.7.0 requires opencv-python-headless, which is not installed.\n",
      "tf-models-official 2.7.0 requires psutil>=5.4.3, which is not installed.\n",
      "tf-models-official 2.7.0 requires py-cpuinfo>=3.3.0, which is not installed.\n",
      "tf-models-official 2.7.0 requires pycocotools, which is not installed.\n",
      "tf-models-official 2.7.0 requires sacrebleu, which is not installed.\n",
      "tf-models-official 2.7.0 requires sentencepiece, which is not installed.\n",
      "tf-models-official 2.7.0 requires seqeval, which is not installed.\n",
      "tf-models-official 2.7.0 requires tensorflow-datasets, which is not installed.\n",
      "tf-models-official 2.7.0 requires tensorflow-hub>=0.6.0, which is not installed.\n",
      "tf-models-official 2.7.0 requires tensorflow-model-optimization>=0.4.1, which is not installed.\n",
      "tf-models-official 2.7.0 requires tensorflow-text>=2.7.0, which is not installed.\n",
      "WARNING: Ignoring invalid distribution -rotobuf (d:\\object detection api\\tfodcourse\\tfod\\lib\\site-packages)\n",
      "WARNING: Ignoring invalid distribution -rotobuf (d:\\object detection api\\tfodcourse\\tfod\\lib\\site-packages)\n"
     ]
    }
   ],
   "source": [
    "!pip uninstall protobuf matplotlib -y\n",
    "!pip install protobuf matplotlib==3.2"
   ]
  },
  {
   "cell_type": "code",
   "execution_count": 46,
   "metadata": {},
   "outputs": [
    {
     "name": "stdout",
     "output_type": "stream",
     "text": [
      "Requirement already satisfied: Pillow in d:\\object detection api\\tfodcourse\\tfod\\lib\\site-packages (8.4.0)\n",
      "Note: you may need to restart the kernel to use updated packages.\n"
     ]
    },
    {
     "name": "stderr",
     "output_type": "stream",
     "text": [
      "WARNING: Ignoring invalid distribution -rotobuf (d:\\object detection api\\tfodcourse\\tfod\\lib\\site-packages)\n",
      "WARNING: Ignoring invalid distribution -rotobuf (d:\\object detection api\\tfodcourse\\tfod\\lib\\site-packages)\n",
      "WARNING: Ignoring invalid distribution -rotobuf (d:\\object detection api\\tfodcourse\\tfod\\lib\\site-packages)\n",
      "WARNING: Ignoring invalid distribution -rotobuf (d:\\object detection api\\tfodcourse\\tfod\\lib\\site-packages)\n",
      "WARNING: Ignoring invalid distribution -rotobuf (d:\\object detection api\\tfodcourse\\tfod\\lib\\site-packages)\n"
     ]
    }
   ],
   "source": [
    "pip install Pillow"
   ]
  },
  {
   "cell_type": "code",
   "execution_count": 47,
   "metadata": {},
   "outputs": [
    {
     "name": "stdout",
     "output_type": "stream",
     "text": [
      "Requirement already satisfied: pyyaml in d:\\object detection api\\tfodcourse\\tfod\\lib\\site-packages (6.0)Note: you may need to restart the kernel to use updated packages.\n",
      "\n"
     ]
    },
    {
     "name": "stderr",
     "output_type": "stream",
     "text": [
      "WARNING: Ignoring invalid distribution -rotobuf (d:\\object detection api\\tfodcourse\\tfod\\lib\\site-packages)\n",
      "WARNING: Ignoring invalid distribution -rotobuf (d:\\object detection api\\tfodcourse\\tfod\\lib\\site-packages)\n",
      "WARNING: Ignoring invalid distribution -rotobuf (d:\\object detection api\\tfodcourse\\tfod\\lib\\site-packages)\n",
      "WARNING: Ignoring invalid distribution -rotobuf (d:\\object detection api\\tfodcourse\\tfod\\lib\\site-packages)\n",
      "WARNING: Ignoring invalid distribution -rotobuf (d:\\object detection api\\tfodcourse\\tfod\\lib\\site-packages)\n"
     ]
    }
   ],
   "source": [
    "pip install pyyaml"
   ]
  },
  {
   "cell_type": "code",
   "execution_count": 48,
   "metadata": {
    "scrolled": true
   },
   "outputs": [],
   "source": [
    "import object_detection"
   ]
  },
  {
   "cell_type": "code",
   "execution_count": 49,
   "metadata": {
    "scrolled": true
   },
   "outputs": [
    {
     "name": "stdout",
     "output_type": "stream",
     "text": [
      "3.8.8\n"
     ]
    }
   ],
   "source": [
    "from platform import python_version\n",
    "\n",
    "print(python_version())"
   ]
  },
  {
   "cell_type": "code",
   "execution_count": 50,
   "metadata": {
    "colab": {
     "base_uri": "https://localhost:8080/"
    },
    "id": "csofht2npfDE",
    "outputId": "ff5471b2-bed2-43f2-959c-327a706527b6"
   },
   "outputs": [
    {
     "name": "stdout",
     "output_type": "stream",
     "text": [
      "100% [........................................................................] 20515344 / 20515344        1 file(s) moved.\n"
     ]
    },
    {
     "name": "stderr",
     "output_type": "stream",
     "text": [
      "x ssd_mobilenet_v2_fpnlite_320x320_coco17_tpu-8/\n",
      "x ssd_mobilenet_v2_fpnlite_320x320_coco17_tpu-8/checkpoint/\n",
      "x ssd_mobilenet_v2_fpnlite_320x320_coco17_tpu-8/checkpoint/ckpt-0.data-00000-of-00001\n",
      "x ssd_mobilenet_v2_fpnlite_320x320_coco17_tpu-8/checkpoint/checkpoint\n",
      "x ssd_mobilenet_v2_fpnlite_320x320_coco17_tpu-8/checkpoint/ckpt-0.index\n",
      "x ssd_mobilenet_v2_fpnlite_320x320_coco17_tpu-8/pipeline.config\n",
      "x ssd_mobilenet_v2_fpnlite_320x320_coco17_tpu-8/saved_model/\n",
      "x ssd_mobilenet_v2_fpnlite_320x320_coco17_tpu-8/saved_model/saved_model.pb\n",
      "x ssd_mobilenet_v2_fpnlite_320x320_coco17_tpu-8/saved_model/variables/\n",
      "x ssd_mobilenet_v2_fpnlite_320x320_coco17_tpu-8/saved_model/variables/variables.data-00000-of-00001\n",
      "x ssd_mobilenet_v2_fpnlite_320x320_coco17_tpu-8/saved_model/variables/variables.index\n"
     ]
    }
   ],
   "source": [
    "if os.name =='posix':\n",
    "    !wget {PRETRAINED_MODEL_URL}\n",
    "    !mv {PRETRAINED_MODEL_NAME+'.tar.gz'} {paths['PRETRAINED_MODEL_PATH']}\n",
    "    !cd {paths['PRETRAINED_MODEL_PATH']} && tar -zxvf {PRETRAINED_MODEL_NAME+'.tar.gz'}\n",
    "if os.name == 'nt':\n",
    "    wget.download(PRETRAINED_MODEL_URL)\n",
    "    !move {PRETRAINED_MODEL_NAME+'.tar.gz'} {paths['PRETRAINED_MODEL_PATH']}\n",
    "    !cd {paths['PRETRAINED_MODEL_PATH']} && tar -zxvf {PRETRAINED_MODEL_NAME+'.tar.gz'}"
   ]
  },
  {
   "cell_type": "markdown",
   "metadata": {
    "id": "M5KJTnkfpfDC"
   },
   "source": [
    "# 2. Create Label Map"
   ]
  },
  {
   "cell_type": "code",
   "execution_count": null,
   "metadata": {},
   "outputs": [],
   "source": []
  },
  {
   "cell_type": "code",
   "execution_count": 7,
   "metadata": {
    "id": "p1BVDWo7pfDC"
   },
   "outputs": [],
   "source": [
    "labels = [{'name':'ThumbsUp', 'id':1}, {'name':'ThumbsDown', 'id':2}, {'name':'ThankYou', 'id':3}, {'name':'LiveLong', 'id':4}]\n",
    "\n",
    "with open(files['LABELMAP'], 'w') as f:\n",
    "    for label in labels:\n",
    "        f.write('item { \\n')\n",
    "        f.write('\\tname:\\'{}\\'\\n'.format(label['name']))\n",
    "        f.write('\\tid:{}\\n'.format(label['id']))\n",
    "        f.write('}\\n')"
   ]
  },
  {
   "cell_type": "markdown",
   "metadata": {
    "id": "C88zyVELpfDC"
   },
   "source": [
    "# 3. Create TF records"
   ]
  },
  {
   "cell_type": "code",
   "execution_count": 8,
   "metadata": {
    "colab": {
     "base_uri": "https://localhost:8080/"
    },
    "id": "kvf5WccwrFGq",
    "outputId": "49902aeb-0bd7-4298-e1a0-5b4a64eb2064"
   },
   "outputs": [],
   "source": [
    "# OPTIONAL IF RUNNING ON COLAB\n",
    "ARCHIVE_FILES = os.path.join(paths['IMAGE_PATH'], 'archive.tar.gz')\n",
    "if os.path.exists(ARCHIVE_FILES):\n",
    "  !tar -zxvf {ARCHIVE_FILES}"
   ]
  },
  {
   "cell_type": "code",
   "execution_count": 9,
   "metadata": {
    "colab": {
     "base_uri": "https://localhost:8080/"
    },
    "id": "KWpb_BVUpfDD",
    "outputId": "56ce2a3f-3933-4ee6-8a9d-d5ec65f7d73c",
    "scrolled": true
   },
   "outputs": [],
   "source": [
    "if not os.path.exists(files['TF_RECORD_SCRIPT']):\n",
    "    !git clone https://github.com/nicknochnack/GenerateTFRecord {paths['SCRIPTS_PATH']}"
   ]
  },
  {
   "cell_type": "code",
   "execution_count": 10,
   "metadata": {
    "colab": {
     "base_uri": "https://localhost:8080/"
    },
    "id": "UPFToGZqpfDD",
    "outputId": "0ebb456f-aadc-4a1f-96e6-fbfec1923e1c",
    "scrolled": true
   },
   "outputs": [
    {
     "name": "stdout",
     "output_type": "stream",
     "text": [
      "Successfully created the TFRecord file: Tensorflow\\workspace\\annotations\\train.record\n",
      "Successfully created the TFRecord file: Tensorflow\\workspace\\annotations\\test.record\n"
     ]
    }
   ],
   "source": [
    "!python {files['TF_RECORD_SCRIPT']} -x {os.path.join(paths['IMAGE_PATH'], 'train')} -l {files['LABELMAP']} -o {os.path.join(paths['ANNOTATION_PATH'], 'train.record')} \n",
    "!python {files['TF_RECORD_SCRIPT']} -x {os.path.join(paths['IMAGE_PATH'], 'test')} -l {files['LABELMAP']} -o {os.path.join(paths['ANNOTATION_PATH'], 'test.record')} "
   ]
  },
  {
   "cell_type": "code",
   "execution_count": 55,
   "metadata": {
    "scrolled": true
   },
   "outputs": [
    {
     "name": "stdout",
     "output_type": "stream",
     "text": [
      "Requirement already satisfied: pytz in d:\\object detection api\\tfodcourse\\tfod\\lib\\site-packages (2021.3)\n"
     ]
    },
    {
     "name": "stderr",
     "output_type": "stream",
     "text": [
      "WARNING: Ignoring invalid distribution -rotobuf (d:\\object detection api\\tfodcourse\\tfod\\lib\\site-packages)\n",
      "WARNING: Ignoring invalid distribution -rotobuf (d:\\object detection api\\tfodcourse\\tfod\\lib\\site-packages)\n",
      "WARNING: Ignoring invalid distribution -rotobuf (d:\\object detection api\\tfodcourse\\tfod\\lib\\site-packages)\n",
      "WARNING: Ignoring invalid distribution -rotobuf (d:\\object detection api\\tfodcourse\\tfod\\lib\\site-packages)\n",
      "WARNING: Ignoring invalid distribution -rotobuf (d:\\object detection api\\tfodcourse\\tfod\\lib\\site-packages)\n"
     ]
    }
   ],
   "source": [
    "!pip install pytz"
   ]
  },
  {
   "cell_type": "markdown",
   "metadata": {
    "id": "qT4QU7pLpfDE"
   },
   "source": [
    "# 4. Copy Model Config to Training Folder"
   ]
  },
  {
   "cell_type": "markdown",
   "metadata": {},
   "source": [
    "there this pipline file at D:\\object detection API\\TFODCourse\\Tensorflow\\workspace\\pre-trained-models\\ssd_mobilenet_v2_fpnlite_320x320_coco17_tpu-8 location ,there are some file paths to be filled in this file, so we basically are copying those paths and pasting them in the pipline file  and our updated file is present in D:\\object detection API\\TFODCourse\\Tensorflow\\workspace\\models\\my_ssd_mobnet"
   ]
  },
  {
   "cell_type": "code",
   "execution_count": 11,
   "metadata": {
    "id": "cOjuTFbwpfDF"
   },
   "outputs": [
    {
     "name": "stdout",
     "output_type": "stream",
     "text": [
      "        1 file(s) copied.\n"
     ]
    }
   ],
   "source": [
    "if os.name =='posix':\n",
    "    !cp {os.path.join(paths['PRETRAINED_MODEL_PATH'], PRETRAINED_MODEL_NAME, 'pipeline.config')} {os.path.join(paths['CHECKPOINT_PATH'])}\n",
    "if os.name == 'nt':\n",
    "    !copy {os.path.join(paths['PRETRAINED_MODEL_PATH'], PRETRAINED_MODEL_NAME, 'pipeline.config')} {os.path.join(paths['CHECKPOINT_PATH'])}"
   ]
  },
  {
   "cell_type": "markdown",
   "metadata": {
    "id": "Ga8gpNslpfDF"
   },
   "source": [
    "# 5. Update Config For Transfer Learning"
   ]
  },
  {
   "cell_type": "code",
   "execution_count": 12,
   "metadata": {
    "id": "Z9hRrO_ppfDF"
   },
   "outputs": [],
   "source": [
    "import tensorflow as tf\n",
    "from object_detection.utils import config_util\n",
    "from object_detection.protos import pipeline_pb2\n",
    "from google.protobuf import text_format"
   ]
  },
  {
   "cell_type": "code",
   "execution_count": 13,
   "metadata": {
    "id": "c2A0mn4ipfDF"
   },
   "outputs": [],
   "source": [
    "config = config_util.get_configs_from_pipeline_file(files['PIPELINE_CONFIG'])"
   ]
  },
  {
   "cell_type": "code",
   "execution_count": 14,
   "metadata": {
    "colab": {
     "base_uri": "https://localhost:8080/"
    },
    "id": "uQA13-afpfDF",
    "outputId": "907496a4-a39d-4b13-8c2c-e5978ecb1f10"
   },
   "outputs": [
    {
     "data": {
      "text/plain": [
       "{'model': ssd {\n",
       "   num_classes: 90\n",
       "   image_resizer {\n",
       "     fixed_shape_resizer {\n",
       "       height: 320\n",
       "       width: 320\n",
       "     }\n",
       "   }\n",
       "   feature_extractor {\n",
       "     type: \"ssd_mobilenet_v2_fpn_keras\"\n",
       "     depth_multiplier: 1.0\n",
       "     min_depth: 16\n",
       "     conv_hyperparams {\n",
       "       regularizer {\n",
       "         l2_regularizer {\n",
       "           weight: 3.9999998989515007e-05\n",
       "         }\n",
       "       }\n",
       "       initializer {\n",
       "         random_normal_initializer {\n",
       "           mean: 0.0\n",
       "           stddev: 0.009999999776482582\n",
       "         }\n",
       "       }\n",
       "       activation: RELU_6\n",
       "       batch_norm {\n",
       "         decay: 0.996999979019165\n",
       "         scale: true\n",
       "         epsilon: 0.0010000000474974513\n",
       "       }\n",
       "     }\n",
       "     use_depthwise: true\n",
       "     override_base_feature_extractor_hyperparams: true\n",
       "     fpn {\n",
       "       min_level: 3\n",
       "       max_level: 7\n",
       "       additional_layer_depth: 128\n",
       "     }\n",
       "   }\n",
       "   box_coder {\n",
       "     faster_rcnn_box_coder {\n",
       "       y_scale: 10.0\n",
       "       x_scale: 10.0\n",
       "       height_scale: 5.0\n",
       "       width_scale: 5.0\n",
       "     }\n",
       "   }\n",
       "   matcher {\n",
       "     argmax_matcher {\n",
       "       matched_threshold: 0.5\n",
       "       unmatched_threshold: 0.5\n",
       "       ignore_thresholds: false\n",
       "       negatives_lower_than_unmatched: true\n",
       "       force_match_for_each_row: true\n",
       "       use_matmul_gather: true\n",
       "     }\n",
       "   }\n",
       "   similarity_calculator {\n",
       "     iou_similarity {\n",
       "     }\n",
       "   }\n",
       "   box_predictor {\n",
       "     weight_shared_convolutional_box_predictor {\n",
       "       conv_hyperparams {\n",
       "         regularizer {\n",
       "           l2_regularizer {\n",
       "             weight: 3.9999998989515007e-05\n",
       "           }\n",
       "         }\n",
       "         initializer {\n",
       "           random_normal_initializer {\n",
       "             mean: 0.0\n",
       "             stddev: 0.009999999776482582\n",
       "           }\n",
       "         }\n",
       "         activation: RELU_6\n",
       "         batch_norm {\n",
       "           decay: 0.996999979019165\n",
       "           scale: true\n",
       "           epsilon: 0.0010000000474974513\n",
       "         }\n",
       "       }\n",
       "       depth: 128\n",
       "       num_layers_before_predictor: 4\n",
       "       kernel_size: 3\n",
       "       class_prediction_bias_init: -4.599999904632568\n",
       "       share_prediction_tower: true\n",
       "       use_depthwise: true\n",
       "     }\n",
       "   }\n",
       "   anchor_generator {\n",
       "     multiscale_anchor_generator {\n",
       "       min_level: 3\n",
       "       max_level: 7\n",
       "       anchor_scale: 4.0\n",
       "       aspect_ratios: 1.0\n",
       "       aspect_ratios: 2.0\n",
       "       aspect_ratios: 0.5\n",
       "       scales_per_octave: 2\n",
       "     }\n",
       "   }\n",
       "   post_processing {\n",
       "     batch_non_max_suppression {\n",
       "       score_threshold: 9.99999993922529e-09\n",
       "       iou_threshold: 0.6000000238418579\n",
       "       max_detections_per_class: 100\n",
       "       max_total_detections: 100\n",
       "       use_static_shapes: false\n",
       "     }\n",
       "     score_converter: SIGMOID\n",
       "   }\n",
       "   normalize_loss_by_num_matches: true\n",
       "   loss {\n",
       "     localization_loss {\n",
       "       weighted_smooth_l1 {\n",
       "       }\n",
       "     }\n",
       "     classification_loss {\n",
       "       weighted_sigmoid_focal {\n",
       "         gamma: 2.0\n",
       "         alpha: 0.25\n",
       "       }\n",
       "     }\n",
       "     classification_weight: 1.0\n",
       "     localization_weight: 1.0\n",
       "   }\n",
       "   encode_background_as_zeros: true\n",
       "   normalize_loc_loss_by_codesize: true\n",
       "   inplace_batchnorm_update: true\n",
       "   freeze_batchnorm: false\n",
       " },\n",
       " 'train_config': batch_size: 128\n",
       " data_augmentation_options {\n",
       "   random_horizontal_flip {\n",
       "   }\n",
       " }\n",
       " data_augmentation_options {\n",
       "   random_crop_image {\n",
       "     min_object_covered: 0.0\n",
       "     min_aspect_ratio: 0.75\n",
       "     max_aspect_ratio: 3.0\n",
       "     min_area: 0.75\n",
       "     max_area: 1.0\n",
       "     overlap_thresh: 0.0\n",
       "   }\n",
       " }\n",
       " sync_replicas: true\n",
       " optimizer {\n",
       "   momentum_optimizer {\n",
       "     learning_rate {\n",
       "       cosine_decay_learning_rate {\n",
       "         learning_rate_base: 0.07999999821186066\n",
       "         total_steps: 50000\n",
       "         warmup_learning_rate: 0.026666000485420227\n",
       "         warmup_steps: 1000\n",
       "       }\n",
       "     }\n",
       "     momentum_optimizer_value: 0.8999999761581421\n",
       "   }\n",
       "   use_moving_average: false\n",
       " }\n",
       " fine_tune_checkpoint: \"PATH_TO_BE_CONFIGURED\"\n",
       " num_steps: 50000\n",
       " startup_delay_steps: 0.0\n",
       " replicas_to_aggregate: 8\n",
       " max_number_of_boxes: 100\n",
       " unpad_groundtruth_tensors: false\n",
       " fine_tune_checkpoint_type: \"classification\"\n",
       " fine_tune_checkpoint_version: V2,\n",
       " 'train_input_config': label_map_path: \"PATH_TO_BE_CONFIGURED\"\n",
       " tf_record_input_reader {\n",
       "   input_path: \"PATH_TO_BE_CONFIGURED\"\n",
       " },\n",
       " 'eval_config': metrics_set: \"coco_detection_metrics\"\n",
       " use_moving_averages: false,\n",
       " 'eval_input_configs': [label_map_path: \"PATH_TO_BE_CONFIGURED\"\n",
       " shuffle: false\n",
       " num_epochs: 1\n",
       " tf_record_input_reader {\n",
       "   input_path: \"PATH_TO_BE_CONFIGURED\"\n",
       " }\n",
       " ],\n",
       " 'eval_input_config': label_map_path: \"PATH_TO_BE_CONFIGURED\"\n",
       " shuffle: false\n",
       " num_epochs: 1\n",
       " tf_record_input_reader {\n",
       "   input_path: \"PATH_TO_BE_CONFIGURED\"\n",
       " }}"
      ]
     },
     "execution_count": 14,
     "metadata": {},
     "output_type": "execute_result"
    }
   ],
   "source": [
    "config"
   ]
  },
  {
   "cell_type": "code",
   "execution_count": 15,
   "metadata": {
    "id": "9vK5lotDpfDF"
   },
   "outputs": [],
   "source": [
    "pipeline_config = pipeline_pb2.TrainEvalPipelineConfig()\n",
    "with tf.io.gfile.GFile(files['PIPELINE_CONFIG'], \"r\") as f:                                                                                                                                                                                                                     \n",
    "    proto_str = f.read()                                                                                                                                                                                                                                          \n",
    "    text_format.Merge(proto_str, pipeline_config)  "
   ]
  },
  {
   "cell_type": "code",
   "execution_count": 16,
   "metadata": {
    "id": "rP43Ph0JpfDG"
   },
   "outputs": [],
   "source": [
    "pipeline_config.model.ssd.num_classes = len(labels)\n",
    "pipeline_config.train_config.batch_size = 4\n",
    "pipeline_config.train_config.fine_tune_checkpoint = os.path.join(paths['PRETRAINED_MODEL_PATH'], PRETRAINED_MODEL_NAME, 'checkpoint', 'ckpt-0')\n",
    "pipeline_config.train_config.fine_tune_checkpoint_type = \"detection\"\n",
    "pipeline_config.train_input_reader.label_map_path= files['LABELMAP']\n",
    "pipeline_config.train_input_reader.tf_record_input_reader.input_path[:] = [os.path.join(paths['ANNOTATION_PATH'], 'train.record')]\n",
    "pipeline_config.eval_input_reader[0].label_map_path = files['LABELMAP']\n",
    "pipeline_config.eval_input_reader[0].tf_record_input_reader.input_path[:] = [os.path.join(paths['ANNOTATION_PATH'], 'test.record')]"
   ]
  },
  {
   "cell_type": "code",
   "execution_count": 17,
   "metadata": {
    "id": "oJvfgwWqpfDG"
   },
   "outputs": [],
   "source": [
    "config_text = text_format.MessageToString(pipeline_config)                                                                                                                                                                                                        \n",
    "with tf.io.gfile.GFile(files['PIPELINE_CONFIG'], \"wb\") as f:                                                                                                                                                                                                                     \n",
    "    f.write(config_text)   "
   ]
  },
  {
   "cell_type": "markdown",
   "metadata": {
    "id": "Zr3ON7xMpfDG"
   },
   "source": [
    "# 6. Train the model"
   ]
  },
  {
   "cell_type": "code",
   "execution_count": 18,
   "metadata": {
    "id": "B-Y2UQmQpfDG"
   },
   "outputs": [],
   "source": [
    "TRAINING_SCRIPT = os.path.join(paths['APIMODEL_PATH'], 'research', 'object_detection', 'model_main_tf2.py')"
   ]
  },
  {
   "cell_type": "code",
   "execution_count": 21,
   "metadata": {
    "id": "jMP2XDfQpfDH"
   },
   "outputs": [],
   "source": [
    "command = \"python {} --model_dir={} --pipeline_config_path={} --num_train_steps=3000\".format(TRAINING_SCRIPT, paths['CHECKPOINT_PATH'],files['PIPELINE_CONFIG'])"
   ]
  },
  {
   "cell_type": "code",
   "execution_count": 22,
   "metadata": {
    "colab": {
     "base_uri": "https://localhost:8080/"
    },
    "id": "A4OXXi-ApfDH",
    "outputId": "117a0e83-012b-466e-b7a6-ccaa349ac5ab",
    "scrolled": true
   },
   "outputs": [
    {
     "name": "stdout",
     "output_type": "stream",
     "text": [
      "python Tensorflow\\models\\research\\object_detection\\model_main_tf2.py --model_dir=Tensorflow\\workspace\\models\\my_ssd_mobnet_tuned --pipeline_config_path=Tensorflow\\workspace\\models\\my_ssd_mobnet_tuned\\pipeline.config --num_train_steps=3000\n"
     ]
    }
   ],
   "source": [
    "print(command)"
   ]
  },
  {
   "cell_type": "markdown",
   "metadata": {},
   "source": [
    "### command explanation\n",
    "python Tensorflow\\models\\research\\object_detection\\model_main_tf2.py :we are reaching this path and executing the file\n",
    "\n",
    "Argumrnts sent:\n",
    "\n",
    "--model_dir=Tensorflow\\workspace\\models\\my_ssd_mobnet: this is the directory where are pipleline.config file is \n",
    "\n",
    "--pipeline_config_path=Tensorflow\\workspace\\models\\my_ssd_mobnet\\pipeline.config: this is the actual pipeline config\n",
    "\n",
    "--num_train_steps=2000: we are specifying the number of training steps that we want to go through"
   ]
  },
  {
   "cell_type": "code",
   "execution_count": 66,
   "metadata": {
    "colab": {
     "base_uri": "https://localhost:8080/"
    },
    "id": "i3ZsJR-qpfDH",
    "outputId": "cabec5e1-45e6-4f2f-d9cf-297d9c1d0225",
    "scrolled": false
   },
   "outputs": [
    {
     "name": "stderr",
     "output_type": "stream",
     "text": [
      "2022-01-02 11:03:52.436004: W tensorflow/stream_executor/platform/default/dso_loader.cc:64] Could not load dynamic library 'nvcuda.dll'; dlerror: nvcuda.dll not found\n",
      "2022-01-02 11:03:52.436050: W tensorflow/stream_executor/cuda/cuda_driver.cc:269] failed call to cuInit: UNKNOWN ERROR (303)\n",
      "2022-01-02 11:03:52.440686: I tensorflow/stream_executor/cuda/cuda_diagnostics.cc:169] retrieving CUDA diagnostic information for host: LAPTOP-P1DOFEJU\n",
      "2022-01-02 11:03:52.440859: I tensorflow/stream_executor/cuda/cuda_diagnostics.cc:176] hostname: LAPTOP-P1DOFEJU\n",
      "2022-01-02 11:03:52.441586: I tensorflow/core/platform/cpu_feature_guard.cc:151] This TensorFlow binary is optimized with oneAPI Deep Neural Network Library (oneDNN) to use the following CPU instructions in performance-critical operations:  AVX AVX2\n",
      "To enable them in other operations, rebuild TensorFlow with the appropriate compiler flags.\n",
      "WARNING:tensorflow:There are non-GPU devices in `tf.distribute.Strategy`, not using nccl allreduce.\n",
      "W0102 11:03:52.433533 11556 cross_device_ops.py:1387] There are non-GPU devices in `tf.distribute.Strategy`, not using nccl allreduce.\n",
      "INFO:tensorflow:Using MirroredStrategy with devices ('/job:localhost/replica:0/task:0/device:CPU:0',)\n",
      "I0102 11:03:52.449153 11556 mirrored_strategy.py:376] Using MirroredStrategy with devices ('/job:localhost/replica:0/task:0/device:CPU:0',)\n",
      "INFO:tensorflow:Maybe overwriting train_steps: 2000\n",
      "I0102 11:03:52.464780 11556 config_util.py:552] Maybe overwriting train_steps: 2000\n",
      "INFO:tensorflow:Maybe overwriting use_bfloat16: False\n",
      "I0102 11:03:52.464780 11556 config_util.py:552] Maybe overwriting use_bfloat16: False\n",
      "WARNING:tensorflow:From D:\\object detection API\\TFODCourse\\tfod\\lib\\site-packages\\object_detection-0.1-py3.8.egg\\object_detection\\model_lib_v2.py:563: StrategyBase.experimental_distribute_datasets_from_function (from tensorflow.python.distribute.distribute_lib) is deprecated and will be removed in a future version.\n",
      "Instructions for updating:\n",
      "rename to distribute_datasets_from_function\n",
      "W0102 11:03:52.596320 11556 deprecation.py:341] From D:\\object detection API\\TFODCourse\\tfod\\lib\\site-packages\\object_detection-0.1-py3.8.egg\\object_detection\\model_lib_v2.py:563: StrategyBase.experimental_distribute_datasets_from_function (from tensorflow.python.distribute.distribute_lib) is deprecated and will be removed in a future version.\n",
      "Instructions for updating:\n",
      "rename to distribute_datasets_from_function\n",
      "INFO:tensorflow:Reading unweighted datasets: ['Tensorflow\\\\workspace\\\\annotations\\\\train.record']\n",
      "I0102 11:03:52.596320 11556 dataset_builder.py:163] Reading unweighted datasets: ['Tensorflow\\\\workspace\\\\annotations\\\\train.record']\n",
      "INFO:tensorflow:Reading record datasets for input file: ['Tensorflow\\\\workspace\\\\annotations\\\\train.record']\n",
      "I0102 11:03:52.596320 11556 dataset_builder.py:80] Reading record datasets for input file: ['Tensorflow\\\\workspace\\\\annotations\\\\train.record']\n",
      "INFO:tensorflow:Number of filenames to read: 1\n",
      "I0102 11:03:52.596320 11556 dataset_builder.py:81] Number of filenames to read: 1\n",
      "WARNING:tensorflow:num_readers has been reduced to 1 to match input file shards.\n",
      "W0102 11:03:52.596320 11556 dataset_builder.py:87] num_readers has been reduced to 1 to match input file shards.\n",
      "WARNING:tensorflow:From D:\\object detection API\\TFODCourse\\tfod\\lib\\site-packages\\object_detection-0.1-py3.8.egg\\object_detection\\builders\\dataset_builder.py:101: parallel_interleave (from tensorflow.python.data.experimental.ops.interleave_ops) is deprecated and will be removed in a future version.\n",
      "Instructions for updating:\n",
      "Use `tf.data.Dataset.interleave(map_func, cycle_length, block_length, num_parallel_calls=tf.data.AUTOTUNE)` instead. If sloppy execution is desired, use `tf.data.Options.deterministic`.\n",
      "W0102 11:03:52.611944 11556 deprecation.py:341] From D:\\object detection API\\TFODCourse\\tfod\\lib\\site-packages\\object_detection-0.1-py3.8.egg\\object_detection\\builders\\dataset_builder.py:101: parallel_interleave (from tensorflow.python.data.experimental.ops.interleave_ops) is deprecated and will be removed in a future version.\n",
      "Instructions for updating:\n",
      "Use `tf.data.Dataset.interleave(map_func, cycle_length, block_length, num_parallel_calls=tf.data.AUTOTUNE)` instead. If sloppy execution is desired, use `tf.data.Options.deterministic`.\n",
      "WARNING:tensorflow:From D:\\object detection API\\TFODCourse\\tfod\\lib\\site-packages\\object_detection-0.1-py3.8.egg\\object_detection\\builders\\dataset_builder.py:236: DatasetV1.map_with_legacy_function (from tensorflow.python.data.ops.dataset_ops) is deprecated and will be removed in a future version.\n",
      "Instructions for updating:\n",
      "Use `tf.data.Dataset.map()\n",
      "W0102 11:03:52.634104 11556 deprecation.py:341] From D:\\object detection API\\TFODCourse\\tfod\\lib\\site-packages\\object_detection-0.1-py3.8.egg\\object_detection\\builders\\dataset_builder.py:236: DatasetV1.map_with_legacy_function (from tensorflow.python.data.ops.dataset_ops) is deprecated and will be removed in a future version.\n",
      "Instructions for updating:\n",
      "Use `tf.data.Dataset.map()\n",
      "WARNING:tensorflow:From D:\\object detection API\\TFODCourse\\tfod\\lib\\site-packages\\tensorflow\\python\\util\\dispatch.py:1096: sparse_to_dense (from tensorflow.python.ops.sparse_ops) is deprecated and will be removed in a future version.\n",
      "Instructions for updating:\n",
      "Create a `tf.sparse.SparseTensor` and use `tf.sparse.to_dense` instead.\n",
      "W0102 11:04:04.068941 11556 deprecation.py:341] From D:\\object detection API\\TFODCourse\\tfod\\lib\\site-packages\\tensorflow\\python\\util\\dispatch.py:1096: sparse_to_dense (from tensorflow.python.ops.sparse_ops) is deprecated and will be removed in a future version.\n",
      "Instructions for updating:\n",
      "Create a `tf.sparse.SparseTensor` and use `tf.sparse.to_dense` instead.\n",
      "WARNING:tensorflow:From D:\\object detection API\\TFODCourse\\tfod\\lib\\site-packages\\tensorflow\\python\\util\\dispatch.py:1096: sample_distorted_bounding_box (from tensorflow.python.ops.image_ops_impl) is deprecated and will be removed in a future version.\n",
      "Instructions for updating:\n",
      "`seed2` arg is deprecated.Use sample_distorted_bounding_box_v2 instead.\n",
      "W0102 11:04:09.397525 11556 deprecation.py:341] From D:\\object detection API\\TFODCourse\\tfod\\lib\\site-packages\\tensorflow\\python\\util\\dispatch.py:1096: sample_distorted_bounding_box (from tensorflow.python.ops.image_ops_impl) is deprecated and will be removed in a future version.\n",
      "Instructions for updating:\n",
      "`seed2` arg is deprecated.Use sample_distorted_bounding_box_v2 instead.\n",
      "WARNING:tensorflow:From D:\\object detection API\\TFODCourse\\tfod\\lib\\site-packages\\tensorflow\\python\\autograph\\impl\\api.py:465: to_float (from tensorflow.python.ops.math_ops) is deprecated and will be removed in a future version.\n",
      "Instructions for updating:\n",
      "Use `tf.cast` instead.\n",
      "W0102 11:04:12.561262 11556 deprecation.py:341] From D:\\object detection API\\TFODCourse\\tfod\\lib\\site-packages\\tensorflow\\python\\autograph\\impl\\api.py:465: to_float (from tensorflow.python.ops.math_ops) is deprecated and will be removed in a future version.\n",
      "Instructions for updating:\n",
      "Use `tf.cast` instead.\n",
      "2022-01-02 11:04:17.047968: W tensorflow/core/framework/dataset.cc:744] Input of GeneratorDatasetOp::Dataset will not be optimized because the dataset does not implement the AsGraphDefInternal() method needed to apply optimizations.\n",
      "2022-01-02 11:04:52.046082: W tensorflow/core/framework/dataset.cc:744] Input of GeneratorDatasetOp::Dataset will not be optimized because the dataset does not implement the AsGraphDefInternal() method needed to apply optimizations.\n",
      "D:\\object detection API\\TFODCourse\\tfod\\lib\\site-packages\\keras\\backend.py:414: UserWarning: `tf.keras.backend.set_learning_phase` is deprecated and will be removed after 2020-10-11. To update it, simply pass a True/False value to the `training` argument of the `__call__` method of your layer or model.\n",
      "  warnings.warn('`tf.keras.backend.set_learning_phase` is deprecated and '\n",
      "WARNING:tensorflow:Unresolved object in checkpoint: (root).optimizer.iter\n",
      "W0102 11:04:52.319113 11556 util.py:181] Unresolved object in checkpoint: (root).optimizer.iter\n",
      "WARNING:tensorflow:Unresolved object in checkpoint: (root).optimizer.decay\n",
      "W0102 11:04:52.319113 11556 util.py:181] Unresolved object in checkpoint: (root).optimizer.decay\n",
      "WARNING:tensorflow:Unresolved object in checkpoint: (root).optimizer.momentum\n",
      "W0102 11:04:52.319113 11556 util.py:181] Unresolved object in checkpoint: (root).optimizer.momentum\n",
      "WARNING:tensorflow:A checkpoint was restored (e.g. tf.train.Checkpoint.restore or tf.keras.Model.load_weights) but not all checkpointed values were used. See above for specific issues. Use expect_partial() on the load status object, e.g. tf.train.Checkpoint.restore(...).expect_partial(), to silence these warnings, or use assert_consumed() to make the check explicit. See https://www.tensorflow.org/guide/checkpoint#loading_mechanics for details.\n",
      "W0102 11:04:52.319113 11556 util.py:189] A checkpoint was restored (e.g. tf.train.Checkpoint.restore or tf.keras.Model.load_weights) but not all checkpointed values were used. See above for specific issues. Use expect_partial() on the load status object, e.g. tf.train.Checkpoint.restore(...).expect_partial(), to silence these warnings, or use assert_consumed() to make the check explicit. See https://www.tensorflow.org/guide/checkpoint#loading_mechanics for details.\n"
     ]
    }
   ],
   "source": [
    "!{command}"
   ]
  },
  {
   "cell_type": "markdown",
   "metadata": {
    "id": "4_YRZu7npfDH"
   },
   "source": [
    "# 7. Evaluate the Model"
   ]
  },
  {
   "cell_type": "code",
   "execution_count": 23,
   "metadata": {
    "id": "80L7-fdPpfDH"
   },
   "outputs": [],
   "source": [
    "command = \"python {} --model_dir={} --pipeline_config_path={} --checkpoint_dir={}\".format(TRAINING_SCRIPT, paths['CHECKPOINT_PATH'],files['PIPELINE_CONFIG'], paths['CHECKPOINT_PATH'])"
   ]
  },
  {
   "cell_type": "code",
   "execution_count": 24,
   "metadata": {
    "colab": {
     "base_uri": "https://localhost:8080/"
    },
    "id": "lYsgEPx9pfDH",
    "outputId": "8632d48b-91d2-45d9-bcb8-c1b172bf6eed",
    "scrolled": true
   },
   "outputs": [
    {
     "name": "stdout",
     "output_type": "stream",
     "text": [
      "python Tensorflow\\models\\research\\object_detection\\model_main_tf2.py --model_dir=Tensorflow\\workspace\\models\\my_ssd_mobnet_tuned --pipeline_config_path=Tensorflow\\workspace\\models\\my_ssd_mobnet_tuned\\pipeline.config --checkpoint_dir=Tensorflow\\workspace\\models\\my_ssd_mobnet_tuned\n"
     ]
    }
   ],
   "source": [
    "print(command)"
   ]
  },
  {
   "cell_type": "code",
   "execution_count": 69,
   "metadata": {
    "id": "lqTV2jGBpfDH"
   },
   "outputs": [
    {
     "name": "stdout",
     "output_type": "stream",
     "text": [
      "^C\n"
     ]
    }
   ],
   "source": [
    "!{command}"
   ]
  },
  {
   "cell_type": "markdown",
   "metadata": {
    "id": "orvRk02UpfDI"
   },
   "source": [
    "# 8. Load Train Model From Checkpoint"
   ]
  },
  {
   "cell_type": "code",
   "execution_count": 25,
   "metadata": {
    "id": "8TYk4_oIpfDI"
   },
   "outputs": [],
   "source": [
    "import os\n",
    "import tensorflow as tf\n",
    "from object_detection.utils import label_map_util\n",
    "from object_detection.utils import visualization_utils as viz_utils\n",
    "from object_detection.builders import model_builder\n",
    "from object_detection.utils import config_util"
   ]
  },
  {
   "cell_type": "code",
   "execution_count": 26,
   "metadata": {
    "id": "tDnQg-cYpfDI"
   },
   "outputs": [],
   "source": [
    "# Load pipeline config and build a detection model\n",
    "configs = config_util.get_configs_from_pipeline_file(files['PIPELINE_CONFIG'])\n",
    "detection_model = model_builder.build(model_config=configs['model'], is_training=False)\n",
    "\n",
    "# Restore checkpoint\n",
    "ckpt = tf.compat.v2.train.Checkpoint(model=detection_model)\n",
    "ckpt.restore(os.path.join(paths['CHECKPOINT_PATH'], 'ckpt-4')).expect_partial()\n",
    "\n",
    "@tf.function\n",
    "def detect_fn(image):\n",
    "    image, shapes = detection_model.preprocess(image)\n",
    "    prediction_dict = detection_model.predict(image, shapes)\n",
    "    detections = detection_model.postprocess(prediction_dict, shapes)\n",
    "    return detections"
   ]
  },
  {
   "cell_type": "markdown",
   "metadata": {
    "id": "0EmsmbBZpfDI"
   },
   "source": [
    "# 9. Detect from an Image"
   ]
  },
  {
   "cell_type": "markdown",
   "metadata": {},
   "source": [
    "this is particularly useful when you don't have a webcam "
   ]
  },
  {
   "cell_type": "code",
   "execution_count": 27,
   "metadata": {
    "id": "Y_MKiuZ4pfDI"
   },
   "outputs": [],
   "source": [
    "import cv2 \n",
    "import numpy as np\n",
    "from matplotlib import pyplot as plt\n",
    "%matplotlib inline"
   ]
  },
  {
   "cell_type": "markdown",
   "metadata": {},
   "source": [
    "%matplotlib inline :IPython has a set of predefined ‘magic functions’ that you can call with a command line style syntax. \n",
    "    There are two kinds of magics, line-oriented and cell-oriented. Line magics are prefixed with the % character and work \n",
    "    much like OS command-line calls: they get as an argument the rest of the line, where arguments are passed without \n",
    "    parentheses or quotes. Lines magics can return results and can be used in the right hand side of an assignment. \n",
    "    Cell magics are prefixed with a double %%, and they are functions that get as an argument notonly the rest of the\n",
    "    line, but also the lines below it in a separate argument."
   ]
  },
  {
   "cell_type": "code",
   "execution_count": 28,
   "metadata": {
    "id": "cBDbIhNapfDI"
   },
   "outputs": [],
   "source": [
    "category_index = label_map_util.create_category_index_from_labelmap(files['LABELMAP'])"
   ]
  },
  {
   "cell_type": "code",
   "execution_count": 29,
   "metadata": {
    "id": "Lx3crOhOzITB"
   },
   "outputs": [],
   "source": [
    "IMAGE_PATH = os.path.join(paths['IMAGE_PATH'], 'test', 'livelong.0922729c-68c0-11ec-984c-900f0c309a22.jpg')"
   ]
  },
  {
   "cell_type": "code",
   "execution_count": 30,
   "metadata": {},
   "outputs": [
    {
     "data": {
      "text/plain": [
       "'Tensorflow\\\\workspace\\\\images\\\\test\\\\livelong.0922729c-68c0-11ec-984c-900f0c309a22.jpg'"
      ]
     },
     "execution_count": 30,
     "metadata": {},
     "output_type": "execute_result"
    }
   ],
   "source": [
    "IMAGE_PATH"
   ]
  },
  {
   "cell_type": "code",
   "execution_count": 31,
   "metadata": {
    "colab": {
     "base_uri": "https://localhost:8080/",
     "height": 269
    },
    "id": "Tpzn1SMry1yK",
    "outputId": "c392a2c5-10fe-4fc4-9998-a1d4c7db2bd3"
   },
   "outputs": [
    {
     "data": {
      "image/png": "[encoded data removed]",
      "text/plain": [
       "<Figure size 432x288 with 1 Axes>"
      ]
     },
     "metadata": {
      "needs_background": "light"
     },
     "output_type": "display_data"
    }
   ],
   "source": [
    "img = cv2.imread(IMAGE_PATH)\n",
    "image_np = np.array(img)\n",
    "\n",
    "input_tensor = tf.convert_to_tensor(np.expand_dims(image_np, 0), dtype=tf.float32)\n",
    "detections = detect_fn(input_tensor)\n",
    "\n",
    "num_detections = int(detections.pop('num_detections'))\n",
    "detections = {key: value[0, :num_detections].numpy()\n",
    "              for key, value in detections.items()}\n",
    "detections['num_detections'] = num_detections\n",
    "\n",
    "# detection_classes should be ints.\n",
    "detections['detection_classes'] = detections['detection_classes'].astype(np.int64)\n",
    "\n",
    "label_id_offset = 1\n",
    "image_np_with_detections = image_np.copy()\n",
    "\n",
    "viz_utils.visualize_boxes_and_labels_on_image_array(\n",
    "            image_np_with_detections,\n",
    "            detections['detection_boxes'],\n",
    "            detections['detection_classes']+label_id_offset,\n",
    "            detections['detection_scores'],\n",
    "            category_index,\n",
    "            use_normalized_coordinates=True,\n",
    "            max_boxes_to_draw=5,\n",
    "            min_score_thresh=.8,\n",
    "            agnostic_mode=False)\n",
    "\n",
    "plt.imshow(cv2.cvtColor(image_np_with_detections, cv2.COLOR_BGR2RGB))\n",
    "plt.show()"
   ]
  },
  {
   "cell_type": "markdown",
   "metadata": {
    "id": "IsNAaYAo0WVL"
   },
   "source": [
    "# 10. Real Time Detections from your Webcam"
   ]
  },
  {
   "cell_type": "code",
   "execution_count": 77,
   "metadata": {
    "scrolled": false
   },
   "outputs": [
    {
     "name": "stderr",
     "output_type": "stream",
     "text": [
      "WARNING: Ignoring invalid distribution -rotobuf (d:\\object detection api\\tfodcourse\\tfod\\lib\\site-packages)\n",
      "WARNING: Ignoring invalid distribution -rotobuf (d:\\object detection api\\tfodcourse\\tfod\\lib\\site-packages)\n",
      "WARNING: Skipping opencv-python-headless as it is not installed.\n"
     ]
    }
   ],
   "source": [
    "!pip uninstall opencv-python-headless -y"
   ]
  },
  {
   "cell_type": "code",
   "execution_count": 32,
   "metadata": {
    "id": "o_grs6OGpfDJ"
   },
   "outputs": [],
   "source": [
    "cap = cv2.VideoCapture(0)\n",
    "width = int(cap.get(cv2.CAP_PROP_FRAME_WIDTH))\n",
    "height = int(cap.get(cv2.CAP_PROP_FRAME_HEIGHT))\n",
    "\n",
    "while cap.isOpened(): \n",
    "    ret, frame = cap.read()\n",
    "    image_np = np.array(frame)\n",
    "    \n",
    "    input_tensor = tf.convert_to_tensor(np.expand_dims(image_np, 0), dtype=tf.float32)\n",
    "    detections = detect_fn(input_tensor)\n",
    "    \n",
    "    num_detections = int(detections.pop('num_detections'))\n",
    "    detections = {key: value[0, :num_detections].numpy()\n",
    "                  for key, value in detections.items()}\n",
    "    detections['num_detections'] = num_detections\n",
    "\n",
    "    # detection_classes should be ints.\n",
    "    detections['detection_classes'] = detections['detection_classes'].astype(np.int64)\n",
    "\n",
    "    label_id_offset = 1\n",
    "    image_np_with_detections = image_np.copy()\n",
    "\n",
    "    viz_utils.visualize_boxes_and_labels_on_image_array(\n",
    "                image_np_with_detections,\n",
    "                detections['detection_boxes'],\n",
    "                detections['detection_classes']+label_id_offset,\n",
    "                detections['detection_scores'],\n",
    "                category_index,\n",
    "                use_normalized_coordinates=True,\n",
    "                max_boxes_to_draw=5,\n",
    "                min_score_thresh=.8,\n",
    "                agnostic_mode=False)\n",
    "\n",
    "    cv2.imshow('object detection',  cv2.resize(image_np_with_detections, (800, 600)))\n",
    "    \n",
    "    if cv2.waitKey(10) & 0xFF == ord('q'):\n",
    "        cap.release()\n",
    "        cv2.destroyAllWindows()\n",
    "        break"
   ]
  },
  {
   "cell_type": "markdown",
   "metadata": {
    "id": "rzlM4jt0pfDJ"
   },
   "source": [
    "# 10. Freezing the Graph"
   ]
  },
  {
   "cell_type": "markdown",
   "metadata": {},
   "source": [
    "freezing the graph is kindof preserving a slice of graph for you to use in fututre"
   ]
  },
  {
   "cell_type": "code",
   "execution_count": 33,
   "metadata": {
    "id": "n4olHB2npfDJ"
   },
   "outputs": [],
   "source": [
    "FREEZE_SCRIPT = os.path.join(paths['APIMODEL_PATH'], 'research', 'object_detection', 'exporter_main_v2.py ')"
   ]
  },
  {
   "cell_type": "code",
   "execution_count": 34,
   "metadata": {
    "id": "0AjO93QDpfDJ"
   },
   "outputs": [],
   "source": [
    "command = \"python {} --input_type=image_tensor --pipeline_config_path={} --trained_checkpoint_dir={} --output_directory={}\".format(FREEZE_SCRIPT ,files['PIPELINE_CONFIG'], paths['CHECKPOINT_PATH'], paths['OUTPUT_PATH'])"
   ]
  },
  {
   "cell_type": "code",
   "execution_count": 35,
   "metadata": {
    "colab": {
     "base_uri": "https://localhost:8080/"
    },
    "id": "F6Lsp3tCpfDJ",
    "outputId": "c3828529-bf06-4df5-d7f3-145890ec3edd"
   },
   "outputs": [
    {
     "name": "stdout",
     "output_type": "stream",
     "text": [
      "python Tensorflow\\models\\research\\object_detection\\exporter_main_v2.py  --input_type=image_tensor --pipeline_config_path=Tensorflow\\workspace\\models\\my_ssd_mobnet\\pipeline.config --trained_checkpoint_dir=Tensorflow\\workspace\\models\\my_ssd_mobnet --output_directory=Tensorflow\\workspace\\models\\my_ssd_mobnet\\export\n"
     ]
    }
   ],
   "source": [
    "print(command)"
   ]
  },
  {
   "cell_type": "code",
   "execution_count": 36,
   "metadata": {
    "colab": {
     "base_uri": "https://localhost:8080/"
    },
    "id": "1Sw1ULgHpfDJ",
    "outputId": "6fd441e1-9fc9-4889-d072-3395c21e40b6"
   },
   "outputs": [
    {
     "name": "stderr",
     "output_type": "stream",
     "text": [
      "2022-01-02 11:41:47.943600: W tensorflow/stream_executor/platform/default/dso_loader.cc:64] Could not load dynamic library 'nvcuda.dll'; dlerror: nvcuda.dll not found\n",
      "2022-01-02 11:41:47.943680: W tensorflow/stream_executor/cuda/cuda_driver.cc:269] failed call to cuInit: UNKNOWN ERROR (303)\n",
      "2022-01-02 11:41:47.949627: I tensorflow/stream_executor/cuda/cuda_diagnostics.cc:169] retrieving CUDA diagnostic information for host: LAPTOP-P1DOFEJU\n",
      "2022-01-02 11:41:47.949804: I tensorflow/stream_executor/cuda/cuda_diagnostics.cc:176] hostname: LAPTOP-P1DOFEJU\n",
      "2022-01-02 11:41:47.965556: I tensorflow/core/platform/cpu_feature_guard.cc:151] This TensorFlow binary is optimized with oneAPI Deep Neural Network Library (oneDNN) to use the following CPU instructions in performance-critical operations:  AVX AVX2\n",
      "To enable them in other operations, rebuild TensorFlow with the appropriate compiler flags.\n",
      "WARNING:tensorflow:From D:\\object detection API\\TFODCourse\\tfod\\lib\\site-packages\\tensorflow\\python\\autograph\\impl\\api.py:464: calling map_fn_v2 (from tensorflow.python.ops.map_fn) with back_prop=False is deprecated and will be removed in a future version.\n",
      "Instructions for updating:\n",
      "back_prop=False is deprecated. Consider using tf.stop_gradient instead.\n",
      "Instead of:\n",
      "results = tf.map_fn(fn, elems, back_prop=False)\n",
      "Use:\n",
      "results = tf.nest.map_structure(tf.stop_gradient, tf.map_fn(fn, elems))\n",
      "W0102 11:41:48.319151 13748 deprecation.py:614] From D:\\object detection API\\TFODCourse\\tfod\\lib\\site-packages\\tensorflow\\python\\autograph\\impl\\api.py:464: calling map_fn_v2 (from tensorflow.python.ops.map_fn) with back_prop=False is deprecated and will be removed in a future version.\n",
      "Instructions for updating:\n",
      "back_prop=False is deprecated. Consider using tf.stop_gradient instead.\n",
      "Instead of:\n",
      "results = tf.map_fn(fn, elems, back_prop=False)\n",
      "Use:\n",
      "results = tf.nest.map_structure(tf.stop_gradient, tf.map_fn(fn, elems))\n",
      "WARNING:tensorflow:Skipping full serialization of Keras layer <object_detection.meta_architectures.ssd_meta_arch.SSDMetaArch object at 0x000001655D9FFC40>, because it is not built.\n",
      "W0102 11:42:16.247345 13748 save_impl.py:71] Skipping full serialization of Keras layer <object_detection.meta_architectures.ssd_meta_arch.SSDMetaArch object at 0x000001655D9FFC40>, because it is not built.\n",
      "WARNING:tensorflow:Skipping full serialization of Keras layer <keras.layers.convolutional.SeparableConv2D object at 0x000001655DA497F0>, because it is not built.\n",
      "W0102 11:42:16.447743 13748 save_impl.py:71] Skipping full serialization of Keras layer <keras.layers.convolutional.SeparableConv2D object at 0x000001655DA497F0>, because it is not built.\n",
      "WARNING:tensorflow:Skipping full serialization of Keras layer <object_detection.core.freezable_batch_norm.FreezableBatchNorm object at 0x000001655F5C6EE0>, because it is not built.\n",
      "W0102 11:42:16.447743 13748 save_impl.py:71] Skipping full serialization of Keras layer <object_detection.core.freezable_batch_norm.FreezableBatchNorm object at 0x000001655F5C6EE0>, because it is not built.\n",
      "WARNING:tensorflow:Skipping full serialization of Keras layer <keras.layers.core.lambda_layer.Lambda object at 0x000001655F5C6160>, because it is not built.\n",
      "W0102 11:42:16.447743 13748 save_impl.py:71] Skipping full serialization of Keras layer <keras.layers.core.lambda_layer.Lambda object at 0x000001655F5C6160>, because it is not built.\n",
      "WARNING:tensorflow:Skipping full serialization of Keras layer <keras.layers.convolutional.SeparableConv2D object at 0x000001655F5C6580>, because it is not built.\n",
      "W0102 11:42:16.447743 13748 save_impl.py:71] Skipping full serialization of Keras layer <keras.layers.convolutional.SeparableConv2D object at 0x000001655F5C6580>, because it is not built.\n",
      "WARNING:tensorflow:Skipping full serialization of Keras layer <object_detection.core.freezable_batch_norm.FreezableBatchNorm object at 0x000001655F5C6D60>, because it is not built.\n",
      "W0102 11:42:16.447743 13748 save_impl.py:71] Skipping full serialization of Keras layer <object_detection.core.freezable_batch_norm.FreezableBatchNorm object at 0x000001655F5C6D60>, because it is not built.\n",
      "WARNING:tensorflow:Skipping full serialization of Keras layer <keras.layers.core.lambda_layer.Lambda object at 0x000001655F5C6520>, because it is not built.\n",
      "W0102 11:42:16.447743 13748 save_impl.py:71] Skipping full serialization of Keras layer <keras.layers.core.lambda_layer.Lambda object at 0x000001655F5C6520>, because it is not built.\n",
      "WARNING:tensorflow:Skipping full serialization of Keras layer <keras.layers.convolutional.SeparableConv2D object at 0x000001655F5C9310>, because it is not built.\n",
      "W0102 11:42:16.447743 13748 save_impl.py:71] Skipping full serialization of Keras layer <keras.layers.convolutional.SeparableConv2D object at 0x000001655F5C9310>, because it is not built.\n",
      "WARNING:tensorflow:Skipping full serialization of Keras layer <object_detection.core.freezable_batch_norm.FreezableBatchNorm object at 0x000001655F5C9550>, because it is not built.\n",
      "W0102 11:42:16.447743 13748 save_impl.py:71] Skipping full serialization of Keras layer <object_detection.core.freezable_batch_norm.FreezableBatchNorm object at 0x000001655F5C9550>, because it is not built.\n",
      "WARNING:tensorflow:Skipping full serialization of Keras layer <keras.layers.core.lambda_layer.Lambda object at 0x000001655F5C9AC0>, because it is not built.\n",
      "W0102 11:42:16.447743 13748 save_impl.py:71] Skipping full serialization of Keras layer <keras.layers.core.lambda_layer.Lambda object at 0x000001655F5C9AC0>, because it is not built.\n",
      "WARNING:tensorflow:Skipping full serialization of Keras layer <keras.layers.convolutional.SeparableConv2D object at 0x000001655F5C9E50>, because it is not built.\n",
      "W0102 11:42:16.447743 13748 save_impl.py:71] Skipping full serialization of Keras layer <keras.layers.convolutional.SeparableConv2D object at 0x000001655F5C9E50>, because it is not built.\n",
      "WARNING:tensorflow:Skipping full serialization of Keras layer <object_detection.core.freezable_batch_norm.FreezableBatchNorm object at 0x000001655F5C95B0>, because it is not built.\n",
      "W0102 11:42:16.447743 13748 save_impl.py:71] Skipping full serialization of Keras layer <object_detection.core.freezable_batch_norm.FreezableBatchNorm object at 0x000001655F5C95B0>, because it is not built.\n",
      "WARNING:tensorflow:Skipping full serialization of Keras layer <keras.layers.core.lambda_layer.Lambda object at 0x000001655F5C9F70>, because it is not built.\n",
      "W0102 11:42:16.447743 13748 save_impl.py:71] Skipping full serialization of Keras layer <keras.layers.core.lambda_layer.Lambda object at 0x000001655F5C9F70>, because it is not built.\n",
      "WARNING:tensorflow:Skipping full serialization of Keras layer <object_detection.core.freezable_batch_norm.FreezableBatchNorm object at 0x000001655DC45100>, because it is not built.\n",
      "W0102 11:42:16.447743 13748 save_impl.py:71] Skipping full serialization of Keras layer <object_detection.core.freezable_batch_norm.FreezableBatchNorm object at 0x000001655DC45100>, because it is not built.\n",
      "WARNING:tensorflow:Skipping full serialization of Keras layer <keras.layers.core.lambda_layer.Lambda object at 0x000001655DDD7E20>, because it is not built.\n",
      "W0102 11:42:16.447743 13748 save_impl.py:71] Skipping full serialization of Keras layer <keras.layers.core.lambda_layer.Lambda object at 0x000001655DDD7E20>, because it is not built.\n",
      "WARNING:tensorflow:Skipping full serialization of Keras layer <object_detection.core.freezable_batch_norm.FreezableBatchNorm object at 0x000001655DBAAAF0>, because it is not built.\n",
      "W0102 11:42:16.447743 13748 save_impl.py:71] Skipping full serialization of Keras layer <object_detection.core.freezable_batch_norm.FreezableBatchNorm object at 0x000001655DBAAAF0>, because it is not built.\n",
      "WARNING:tensorflow:Skipping full serialization of Keras layer <keras.layers.core.lambda_layer.Lambda object at 0x000001655DBAAA60>, because it is not built.\n",
      "W0102 11:42:16.447743 13748 save_impl.py:71] Skipping full serialization of Keras layer <keras.layers.core.lambda_layer.Lambda object at 0x000001655DBAAA60>, because it is not built.\n",
      "WARNING:tensorflow:Skipping full serialization of Keras layer <object_detection.core.freezable_batch_norm.FreezableBatchNorm object at 0x000001655DD68CA0>, because it is not built.\n",
      "W0102 11:42:16.447743 13748 save_impl.py:71] Skipping full serialization of Keras layer <object_detection.core.freezable_batch_norm.FreezableBatchNorm object at 0x000001655DD68CA0>, because it is not built.\n",
      "WARNING:tensorflow:Skipping full serialization of Keras layer <keras.layers.core.lambda_layer.Lambda object at 0x000001655F08F5E0>, because it is not built.\n",
      "W0102 11:42:16.447743 13748 save_impl.py:71] Skipping full serialization of Keras layer <keras.layers.core.lambda_layer.Lambda object at 0x000001655F08F5E0>, because it is not built.\n",
      "WARNING:tensorflow:Skipping full serialization of Keras layer <object_detection.core.freezable_batch_norm.FreezableBatchNorm object at 0x000001655DB4D940>, because it is not built.\n",
      "W0102 11:42:16.447743 13748 save_impl.py:71] Skipping full serialization of Keras layer <object_detection.core.freezable_batch_norm.FreezableBatchNorm object at 0x000001655DB4D940>, because it is not built.\n",
      "WARNING:tensorflow:Skipping full serialization of Keras layer <keras.layers.core.lambda_layer.Lambda object at 0x000001655DB4D520>, because it is not built.\n",
      "W0102 11:42:16.447743 13748 save_impl.py:71] Skipping full serialization of Keras layer <keras.layers.core.lambda_layer.Lambda object at 0x000001655DB4D520>, because it is not built.\n",
      "WARNING:tensorflow:Skipping full serialization of Keras layer <object_detection.core.freezable_batch_norm.FreezableBatchNorm object at 0x000001655DC45130>, because it is not built.\n",
      "W0102 11:42:16.447743 13748 save_impl.py:71] Skipping full serialization of Keras layer <object_detection.core.freezable_batch_norm.FreezableBatchNorm object at 0x000001655DC45130>, because it is not built.\n",
      "WARNING:tensorflow:Skipping full serialization of Keras layer <keras.layers.core.lambda_layer.Lambda object at 0x000001655F279910>, because it is not built.\n",
      "W0102 11:42:16.447743 13748 save_impl.py:71] Skipping full serialization of Keras layer <keras.layers.core.lambda_layer.Lambda object at 0x000001655F279910>, because it is not built.\n",
      "WARNING:tensorflow:Skipping full serialization of Keras layer <object_detection.core.freezable_batch_norm.FreezableBatchNorm object at 0x000001655DD43130>, because it is not built.\n",
      "W0102 11:42:16.447743 13748 save_impl.py:71] Skipping full serialization of Keras layer <object_detection.core.freezable_batch_norm.FreezableBatchNorm object at 0x000001655DD43130>, because it is not built.\n",
      "WARNING:tensorflow:Skipping full serialization of Keras layer <keras.layers.core.lambda_layer.Lambda object at 0x000001655DD439D0>, because it is not built.\n",
      "W0102 11:42:16.447743 13748 save_impl.py:71] Skipping full serialization of Keras layer <keras.layers.core.lambda_layer.Lambda object at 0x000001655DD439D0>, because it is not built.\n",
      "WARNING:tensorflow:Skipping full serialization of Keras layer <object_detection.core.freezable_batch_norm.FreezableBatchNorm object at 0x000001655DD43850>, because it is not built.\n",
      "W0102 11:42:16.447743 13748 save_impl.py:71] Skipping full serialization of Keras layer <object_detection.core.freezable_batch_norm.FreezableBatchNorm object at 0x000001655DD43850>, because it is not built.\n",
      "WARNING:tensorflow:Skipping full serialization of Keras layer <keras.layers.core.lambda_layer.Lambda object at 0x000001655DD434F0>, because it is not built.\n",
      "W0102 11:42:16.447743 13748 save_impl.py:71] Skipping full serialization of Keras layer <keras.layers.core.lambda_layer.Lambda object at 0x000001655DD434F0>, because it is not built.\n",
      "WARNING:tensorflow:Skipping full serialization of Keras layer <object_detection.core.freezable_batch_norm.FreezableBatchNorm object at 0x000001655F5D5730>, because it is not built.\n",
      "W0102 11:42:16.447743 13748 save_impl.py:71] Skipping full serialization of Keras layer <object_detection.core.freezable_batch_norm.FreezableBatchNorm object at 0x000001655F5D5730>, because it is not built.\n",
      "WARNING:tensorflow:Skipping full serialization of Keras layer <keras.layers.core.lambda_layer.Lambda object at 0x000001655F5D5D90>, because it is not built.\n",
      "W0102 11:42:16.447743 13748 save_impl.py:71] Skipping full serialization of Keras layer <keras.layers.core.lambda_layer.Lambda object at 0x000001655F5D5D90>, because it is not built.\n",
      "WARNING:tensorflow:Skipping full serialization of Keras layer <object_detection.core.freezable_batch_norm.FreezableBatchNorm object at 0x000001655DC45160>, because it is not built.\n",
      "W0102 11:42:16.447743 13748 save_impl.py:71] Skipping full serialization of Keras layer <object_detection.core.freezable_batch_norm.FreezableBatchNorm object at 0x000001655DC45160>, because it is not built.\n",
      "WARNING:tensorflow:Skipping full serialization of Keras layer <keras.layers.core.lambda_layer.Lambda object at 0x000001655DB96520>, because it is not built.\n",
      "W0102 11:42:16.447743 13748 save_impl.py:71] Skipping full serialization of Keras layer <keras.layers.core.lambda_layer.Lambda object at 0x000001655DB96520>, because it is not built.\n",
      "WARNING:tensorflow:Skipping full serialization of Keras layer <object_detection.core.freezable_batch_norm.FreezableBatchNorm object at 0x000001655F56DE80>, because it is not built.\n",
      "W0102 11:42:16.447743 13748 save_impl.py:71] Skipping full serialization of Keras layer <object_detection.core.freezable_batch_norm.FreezableBatchNorm object at 0x000001655F56DE80>, because it is not built.\n",
      "WARNING:tensorflow:Skipping full serialization of Keras layer <keras.layers.core.lambda_layer.Lambda object at 0x000001655F56DB20>, because it is not built.\n",
      "W0102 11:42:16.447743 13748 save_impl.py:71] Skipping full serialization of Keras layer <keras.layers.core.lambda_layer.Lambda object at 0x000001655F56DB20>, because it is not built.\n",
      "WARNING:tensorflow:Skipping full serialization of Keras layer <object_detection.core.freezable_batch_norm.FreezableBatchNorm object at 0x000001655F58E820>, because it is not built.\n",
      "W0102 11:42:16.447743 13748 save_impl.py:71] Skipping full serialization of Keras layer <object_detection.core.freezable_batch_norm.FreezableBatchNorm object at 0x000001655F58E820>, because it is not built.\n",
      "WARNING:tensorflow:Skipping full serialization of Keras layer <keras.layers.core.lambda_layer.Lambda object at 0x000001655F58E070>, because it is not built.\n",
      "W0102 11:42:16.447743 13748 save_impl.py:71] Skipping full serialization of Keras layer <keras.layers.core.lambda_layer.Lambda object at 0x000001655F58E070>, because it is not built.\n",
      "WARNING:tensorflow:Skipping full serialization of Keras layer <object_detection.core.freezable_batch_norm.FreezableBatchNorm object at 0x000001655F58EE80>, because it is not built.\n",
      "W0102 11:42:16.447743 13748 save_impl.py:71] Skipping full serialization of Keras layer <object_detection.core.freezable_batch_norm.FreezableBatchNorm object at 0x000001655F58EE80>, because it is not built.\n",
      "WARNING:tensorflow:Skipping full serialization of Keras layer <keras.layers.core.lambda_layer.Lambda object at 0x000001655F58EC10>, because it is not built.\n",
      "W0102 11:42:16.447743 13748 save_impl.py:71] Skipping full serialization of Keras layer <keras.layers.core.lambda_layer.Lambda object at 0x000001655F58EC10>, because it is not built.\n",
      "WARNING:tensorflow:Skipping full serialization of Keras layer <object_detection.core.freezable_batch_norm.FreezableBatchNorm object at 0x000001655F5988E0>, because it is not built.\n",
      "W0102 11:42:16.447743 13748 save_impl.py:71] Skipping full serialization of Keras layer <object_detection.core.freezable_batch_norm.FreezableBatchNorm object at 0x000001655F5988E0>, because it is not built.\n",
      "WARNING:tensorflow:Skipping full serialization of Keras layer <keras.layers.core.lambda_layer.Lambda object at 0x000001655F5984C0>, because it is not built.\n",
      "W0102 11:42:16.447743 13748 save_impl.py:71] Skipping full serialization of Keras layer <keras.layers.core.lambda_layer.Lambda object at 0x000001655F5984C0>, because it is not built.\n",
      "WARNING:tensorflow:Skipping full serialization of Keras layer <object_detection.core.freezable_batch_norm.FreezableBatchNorm object at 0x000001655F017C10>, because it is not built.\n",
      "W0102 11:42:16.447743 13748 save_impl.py:71] Skipping full serialization of Keras layer <object_detection.core.freezable_batch_norm.FreezableBatchNorm object at 0x000001655F017C10>, because it is not built.\n",
      "WARNING:tensorflow:Skipping full serialization of Keras layer <keras.layers.core.lambda_layer.Lambda object at 0x000001655F017130>, because it is not built.\n",
      "W0102 11:42:16.447743 13748 save_impl.py:71] Skipping full serialization of Keras layer <keras.layers.core.lambda_layer.Lambda object at 0x000001655F017130>, because it is not built.\n",
      "WARNING:tensorflow:Skipping full serialization of Keras layer <object_detection.core.freezable_batch_norm.FreezableBatchNorm object at 0x000001655F017E20>, because it is not built.\n",
      "W0102 11:42:16.447743 13748 save_impl.py:71] Skipping full serialization of Keras layer <object_detection.core.freezable_batch_norm.FreezableBatchNorm object at 0x000001655F017E20>, because it is not built.\n",
      "WARNING:tensorflow:Skipping full serialization of Keras layer <keras.layers.core.lambda_layer.Lambda object at 0x000001655F017C70>, because it is not built.\n",
      "W0102 11:42:16.447743 13748 save_impl.py:71] Skipping full serialization of Keras layer <keras.layers.core.lambda_layer.Lambda object at 0x000001655F017C70>, because it is not built.\n",
      "WARNING:tensorflow:Skipping full serialization of Keras layer <object_detection.core.freezable_batch_norm.FreezableBatchNorm object at 0x000001655F323F10>, because it is not built.\n",
      "W0102 11:42:16.447743 13748 save_impl.py:71] Skipping full serialization of Keras layer <object_detection.core.freezable_batch_norm.FreezableBatchNorm object at 0x000001655F323F10>, because it is not built.\n",
      "WARNING:tensorflow:Skipping full serialization of Keras layer <keras.layers.core.lambda_layer.Lambda object at 0x000001655F323B20>, because it is not built.\n",
      "W0102 11:42:16.447743 13748 save_impl.py:71] Skipping full serialization of Keras layer <keras.layers.core.lambda_layer.Lambda object at 0x000001655F323B20>, because it is not built.\n",
      "2022-01-02 11:42:30.069599: W tensorflow/python/util/util.cc:368] Sets are not currently considered sequences, but this may change in the future, so consider avoiding using them.\n",
      "W0102 11:42:54.847644 13748 save.py:263] Found untraced functions such as WeightSharedConvolutionalBoxPredictor_layer_call_fn, WeightSharedConvolutionalBoxPredictor_layer_call_and_return_conditional_losses, WeightSharedConvolutionalBoxHead_layer_call_fn, WeightSharedConvolutionalBoxHead_layer_call_and_return_conditional_losses, WeightSharedConvolutionalBoxPredictor_layer_call_fn while saving (showing 5 of 260). These functions will not be directly callable after loading.\n",
      "INFO:tensorflow:Assets written to: Tensorflow\\workspace\\models\\my_ssd_mobnet\\export\\saved_model\\assets\n",
      "I0102 11:43:03.765976 13748 builder_impl.py:783] Assets written to: Tensorflow\\workspace\\models\\my_ssd_mobnet\\export\\saved_model\\assets\n",
      "INFO:tensorflow:Writing pipeline config file to Tensorflow\\workspace\\models\\my_ssd_mobnet\\export\\pipeline.config\n",
      "I0102 11:43:05.112948 13748 config_util.py:253] Writing pipeline config file to Tensorflow\\workspace\\models\\my_ssd_mobnet\\export\\pipeline.config\n"
     ]
    }
   ],
   "source": [
    "!{command}"
   ]
  },
  {
   "cell_type": "markdown",
   "metadata": {
    "id": "wTPmdqaXpfDK"
   },
   "source": [
    "# 11. Conversion to TFJS"
   ]
  },
  {
   "cell_type": "markdown",
   "metadata": {},
   "source": [
    "js is a library for machine learning in JavaScript. Develop ML models in JavaScript, and use ML directly in the browser\n",
    "or in Node.\n",
    "\n",
    "\n",
    "\n",
    "it s a file format that is used in browser\n",
    "this file format will be used for web application"
   ]
  },
  {
   "cell_type": "code",
   "execution_count": 37,
   "metadata": {
    "colab": {
     "base_uri": "https://localhost:8080/"
    },
    "id": "gZ6UzY_fpfDK",
    "outputId": "0c84722e-1c2b-4002-d857-80827ade828a",
    "scrolled": true
   },
   "outputs": [
    {
     "name": "stdout",
     "output_type": "stream",
     "text": [
      "Collecting tensorflowjs"
     ]
    },
    {
     "name": "stderr",
     "output_type": "stream",
     "text": [
      "WARNING: Ignoring invalid distribution -rotobuf (d:\\object detection api\\tfodcourse\\tfod\\lib\\site-packages)\n",
      "WARNING: Ignoring invalid distribution -rotobuf (d:\\object detection api\\tfodcourse\\tfod\\lib\\site-packages)\n",
      "WARNING: Ignoring invalid distribution -rotobuf (d:\\object detection api\\tfodcourse\\tfod\\lib\\site-packages)\n",
      "WARNING: Ignoring invalid distribution -rotobuf (d:\\object detection api\\tfodcourse\\tfod\\lib\\site-packages)\n",
      "WARNING: Ignoring invalid distribution -rotobuf (d:\\object detection api\\tfodcourse\\tfod\\lib\\site-packages)\n",
      "ERROR: pip's dependency resolver does not currently take into account all the packages that are installed. This behaviour is the source of the following dependency conflicts.\n",
      "tf-models-official 2.7.0 requires google-api-python-client>=1.6.7, which is not installed.\n",
      "tf-models-official 2.7.0 requires kaggle>=1.3.9, which is not installed.\n",
      "tf-models-official 2.7.0 requires oauth2client, which is not installed.\n",
      "tf-models-official 2.7.0 requires opencv-python-headless, which is not installed.\n",
      "tf-models-official 2.7.0 requires psutil>=5.4.3, which is not installed.\n",
      "tf-models-official 2.7.0 requires py-cpuinfo>=3.3.0, which is not installed.\n",
      "tf-models-official 2.7.0 requires pycocotools, which is not installed.\n",
      "tf-models-official 2.7.0 requires sacrebleu, which is not installed.\n",
      "tf-models-official 2.7.0 requires sentencepiece, which is not installed.\n",
      "tf-models-official 2.7.0 requires seqeval, which is not installed.\n",
      "tf-models-official 2.7.0 requires tensorflow-datasets, which is not installed.\n",
      "tf-models-official 2.7.0 requires tensorflow-model-optimization>=0.4.1, which is not installed.\n",
      "tf-models-official 2.7.0 requires tensorflow-text>=2.7.0, which is not installed.\n",
      "WARNING: Ignoring invalid distribution -rotobuf (d:\\object detection api\\tfodcourse\\tfod\\lib\\site-packages)\n",
      "WARNING: Ignoring invalid distribution -rotobuf (d:\\object detection api\\tfodcourse\\tfod\\lib\\site-packages)\n"
     ]
    },
    {
     "name": "stdout",
     "output_type": "stream",
     "text": [
      "\n",
      "  Downloading tensorflowjs-3.12.0-py3-none-any.whl (77 kB)\n",
      "Requirement already satisfied: tensorflow<3,>=2.1.0 in d:\\object detection api\\tfodcourse\\tfod\\lib\\site-packages (from tensorflowjs) (2.7.0)\n",
      "Collecting tensorflow-hub<0.13,>=0.7.0\n",
      "  Downloading tensorflow_hub-0.12.0-py2.py3-none-any.whl (108 kB)\n",
      "Requirement already satisfied: six<2,>=1.12.0 in d:\\object detection api\\tfodcourse\\tfod\\lib\\site-packages (from tensorflowjs) (1.16.0)\n",
      "Requirement already satisfied: astunparse>=1.6.0 in d:\\object detection api\\tfodcourse\\tfod\\lib\\site-packages (from tensorflow<3,>=2.1.0->tensorflowjs) (1.6.3)\n",
      "Requirement already satisfied: flatbuffers<3.0,>=1.12 in d:\\object detection api\\tfodcourse\\tfod\\lib\\site-packages (from tensorflow<3,>=2.1.0->tensorflowjs) (2.0)\n",
      "Requirement already satisfied: google-pasta>=0.1.1 in d:\\object detection api\\tfodcourse\\tfod\\lib\\site-packages (from tensorflow<3,>=2.1.0->tensorflowjs) (0.2.0)\n",
      "Requirement already satisfied: keras-preprocessing>=1.1.1 in d:\\object detection api\\tfodcourse\\tfod\\lib\\site-packages (from tensorflow<3,>=2.1.0->tensorflowjs) (1.1.2)\n",
      "Requirement already satisfied: h5py>=2.9.0 in d:\\object detection api\\tfodcourse\\tfod\\lib\\site-packages (from tensorflow<3,>=2.1.0->tensorflowjs) (3.6.0)\n",
      "Requirement already satisfied: tensorboard~=2.6 in d:\\object detection api\\tfodcourse\\tfod\\lib\\site-packages (from tensorflow<3,>=2.1.0->tensorflowjs) (2.7.0)\n",
      "Requirement already satisfied: opt-einsum>=2.3.2 in d:\\object detection api\\tfodcourse\\tfod\\lib\\site-packages (from tensorflow<3,>=2.1.0->tensorflowjs) (3.3.0)\n",
      "Requirement already satisfied: keras<2.8,>=2.7.0rc0 in d:\\object detection api\\tfodcourse\\tfod\\lib\\site-packages (from tensorflow<3,>=2.1.0->tensorflowjs) (2.7.0)\n",
      "Requirement already satisfied: protobuf>=3.9.2 in d:\\object detection api\\tfodcourse\\tfod\\lib\\site-packages (from tensorflow<3,>=2.1.0->tensorflowjs) (3.19.1)\n",
      "Requirement already satisfied: wheel<1.0,>=0.32.0 in d:\\object detection api\\tfodcourse\\tfod\\lib\\site-packages (from tensorflow<3,>=2.1.0->tensorflowjs) (0.37.1)\n",
      "Requirement already satisfied: tensorflow-estimator<2.8,~=2.7.0rc0 in d:\\object detection api\\tfodcourse\\tfod\\lib\\site-packages (from tensorflow<3,>=2.1.0->tensorflowjs) (2.7.0)\n",
      "Requirement already satisfied: gast<0.5.0,>=0.2.1 in d:\\object detection api\\tfodcourse\\tfod\\lib\\site-packages (from tensorflow<3,>=2.1.0->tensorflowjs) (0.4.0)\n",
      "Requirement already satisfied: typing-extensions>=3.6.6 in d:\\object detection api\\tfodcourse\\tfod\\lib\\site-packages (from tensorflow<3,>=2.1.0->tensorflowjs) (4.0.1)\n",
      "Requirement already satisfied: numpy>=1.14.5 in d:\\object detection api\\tfodcourse\\tfod\\lib\\site-packages (from tensorflow<3,>=2.1.0->tensorflowjs) (1.21.5)\n",
      "Requirement already satisfied: absl-py>=0.4.0 in d:\\object detection api\\tfodcourse\\tfod\\lib\\site-packages (from tensorflow<3,>=2.1.0->tensorflowjs) (1.0.0)\n",
      "Requirement already satisfied: libclang>=9.0.1 in d:\\object detection api\\tfodcourse\\tfod\\lib\\site-packages (from tensorflow<3,>=2.1.0->tensorflowjs) (12.0.0)\n",
      "Requirement already satisfied: wrapt>=1.11.0 in d:\\object detection api\\tfodcourse\\tfod\\lib\\site-packages (from tensorflow<3,>=2.1.0->tensorflowjs) (1.13.3)\n",
      "Requirement already satisfied: termcolor>=1.1.0 in d:\\object detection api\\tfodcourse\\tfod\\lib\\site-packages (from tensorflow<3,>=2.1.0->tensorflowjs) (1.1.0)\n",
      "Requirement already satisfied: tensorflow-io-gcs-filesystem>=0.21.0 in d:\\object detection api\\tfodcourse\\tfod\\lib\\site-packages (from tensorflow<3,>=2.1.0->tensorflowjs) (0.23.1)\n",
      "Requirement already satisfied: grpcio<2.0,>=1.24.3 in d:\\object detection api\\tfodcourse\\tfod\\lib\\site-packages (from tensorflow<3,>=2.1.0->tensorflowjs) (1.43.0)\n",
      "Requirement already satisfied: setuptools>=41.0.0 in d:\\object detection api\\tfodcourse\\tfod\\lib\\site-packages (from tensorboard~=2.6->tensorflow<3,>=2.1.0->tensorflowjs) (49.2.1)\n",
      "Requirement already satisfied: markdown>=2.6.8 in d:\\object detection api\\tfodcourse\\tfod\\lib\\site-packages (from tensorboard~=2.6->tensorflow<3,>=2.1.0->tensorflowjs) (3.3.6)\n",
      "Requirement already satisfied: tensorboard-plugin-wit>=1.6.0 in d:\\object detection api\\tfodcourse\\tfod\\lib\\site-packages (from tensorboard~=2.6->tensorflow<3,>=2.1.0->tensorflowjs) (1.8.0)\n",
      "Requirement already satisfied: werkzeug>=0.11.15 in d:\\object detection api\\tfodcourse\\tfod\\lib\\site-packages (from tensorboard~=2.6->tensorflow<3,>=2.1.0->tensorflowjs) (2.0.2)\n",
      "Requirement already satisfied: google-auth-oauthlib<0.5,>=0.4.1 in d:\\object detection api\\tfodcourse\\tfod\\lib\\site-packages (from tensorboard~=2.6->tensorflow<3,>=2.1.0->tensorflowjs) (0.4.6)\n",
      "Requirement already satisfied: requests<3,>=2.21.0 in d:\\object detection api\\tfodcourse\\tfod\\lib\\site-packages (from tensorboard~=2.6->tensorflow<3,>=2.1.0->tensorflowjs) (2.26.0)\n",
      "Requirement already satisfied: google-auth<3,>=1.6.3 in d:\\object detection api\\tfodcourse\\tfod\\lib\\site-packages (from tensorboard~=2.6->tensorflow<3,>=2.1.0->tensorflowjs) (2.3.3)\n",
      "Requirement already satisfied: tensorboard-data-server<0.7.0,>=0.6.0 in d:\\object detection api\\tfodcourse\\tfod\\lib\\site-packages (from tensorboard~=2.6->tensorflow<3,>=2.1.0->tensorflowjs) (0.6.1)\n",
      "Requirement already satisfied: cachetools<5.0,>=2.0.0 in d:\\object detection api\\tfodcourse\\tfod\\lib\\site-packages (from google-auth<3,>=1.6.3->tensorboard~=2.6->tensorflow<3,>=2.1.0->tensorflowjs) (4.2.4)\n",
      "Requirement already satisfied: pyasn1-modules>=0.2.1 in d:\\object detection api\\tfodcourse\\tfod\\lib\\site-packages (from google-auth<3,>=1.6.3->tensorboard~=2.6->tensorflow<3,>=2.1.0->tensorflowjs) (0.2.8)\n",
      "Requirement already satisfied: rsa<5,>=3.1.4 in d:\\object detection api\\tfodcourse\\tfod\\lib\\site-packages (from google-auth<3,>=1.6.3->tensorboard~=2.6->tensorflow<3,>=2.1.0->tensorflowjs) (4.8)\n",
      "Requirement already satisfied: requests-oauthlib>=0.7.0 in d:\\object detection api\\tfodcourse\\tfod\\lib\\site-packages (from google-auth-oauthlib<0.5,>=0.4.1->tensorboard~=2.6->tensorflow<3,>=2.1.0->tensorflowjs) (1.3.0)\n",
      "Requirement already satisfied: importlib-metadata>=4.4 in d:\\object detection api\\tfodcourse\\tfod\\lib\\site-packages (from markdown>=2.6.8->tensorboard~=2.6->tensorflow<3,>=2.1.0->tensorflowjs) (4.10.0)\n",
      "Requirement already satisfied: certifi>=2017.4.17 in d:\\object detection api\\tfodcourse\\tfod\\lib\\site-packages (from requests<3,>=2.21.0->tensorboard~=2.6->tensorflow<3,>=2.1.0->tensorflowjs) (2021.10.8)\n",
      "Requirement already satisfied: urllib3<1.27,>=1.21.1 in d:\\object detection api\\tfodcourse\\tfod\\lib\\site-packages (from requests<3,>=2.21.0->tensorboard~=2.6->tensorflow<3,>=2.1.0->tensorflowjs) (1.26.7)\n",
      "Requirement already satisfied: idna<4,>=2.5 in d:\\object detection api\\tfodcourse\\tfod\\lib\\site-packages (from requests<3,>=2.21.0->tensorboard~=2.6->tensorflow<3,>=2.1.0->tensorflowjs) (3.3)\n",
      "Requirement already satisfied: charset-normalizer~=2.0.0 in d:\\object detection api\\tfodcourse\\tfod\\lib\\site-packages (from requests<3,>=2.21.0->tensorboard~=2.6->tensorflow<3,>=2.1.0->tensorflowjs) (2.0.9)\n",
      "Requirement already satisfied: zipp>=0.5 in d:\\object detection api\\tfodcourse\\tfod\\lib\\site-packages (from importlib-metadata>=4.4->markdown>=2.6.8->tensorboard~=2.6->tensorflow<3,>=2.1.0->tensorflowjs) (3.6.0)\n",
      "Requirement already satisfied: pyasn1<0.5.0,>=0.4.6 in d:\\object detection api\\tfodcourse\\tfod\\lib\\site-packages (from pyasn1-modules>=0.2.1->google-auth<3,>=1.6.3->tensorboard~=2.6->tensorflow<3,>=2.1.0->tensorflowjs) (0.4.8)\n",
      "Requirement already satisfied: oauthlib>=3.0.0 in d:\\object detection api\\tfodcourse\\tfod\\lib\\site-packages (from requests-oauthlib>=0.7.0->google-auth-oauthlib<0.5,>=0.4.1->tensorboard~=2.6->tensorflow<3,>=2.1.0->tensorflowjs) (3.1.1)\n",
      "Installing collected packages: tensorflow-hub, tensorflowjs\n",
      "Successfully installed tensorflow-hub-0.12.0 tensorflowjs-3.12.0\n"
     ]
    }
   ],
   "source": [
    "!pip install tensorflowjs"
   ]
  },
  {
   "cell_type": "code",
   "execution_count": 38,
   "metadata": {
    "id": "0oxbVynHpfDK"
   },
   "outputs": [],
   "source": [
    "command = \"tensorflowjs_converter --input_format=tf_saved_model --output_node_names='detection_boxes,detection_classes,detection_features,detection_multiclass_scores,detection_scores,num_detections,raw_detection_boxes,raw_detection_scores' --output_format=tfjs_graph_model --signature_name=serving_default {} {}\".format(os.path.join(paths['OUTPUT_PATH'], 'saved_model'), paths['TFJS_PATH'])"
   ]
  },
  {
   "cell_type": "code",
   "execution_count": 39,
   "metadata": {
    "colab": {
     "base_uri": "https://localhost:8080/"
    },
    "id": "DB2AGNmJpfDK",
    "outputId": "fbc9f747-f511-47e8-df8f-5ea65cef0374"
   },
   "outputs": [
    {
     "name": "stdout",
     "output_type": "stream",
     "text": [
      "tensorflowjs_converter --input_format=tf_saved_model --output_node_names='detection_boxes,detection_classes,detection_features,detection_multiclass_scores,detection_scores,num_detections,raw_detection_boxes,raw_detection_scores' --output_format=tfjs_graph_model --signature_name=serving_default Tensorflow\\workspace\\models\\my_ssd_mobnet\\export\\saved_model Tensorflow\\workspace\\models\\my_ssd_mobnet\\tfjsexport\n"
     ]
    }
   ],
   "source": [
    "print(command)"
   ]
  },
  {
   "cell_type": "code",
   "execution_count": 40,
   "metadata": {
    "colab": {
     "base_uri": "https://localhost:8080/"
    },
    "id": "K7rfT4-hpfDK",
    "outputId": "532707fd-6feb-4bc6-84a3-325b5d16303c"
   },
   "outputs": [
    {
     "name": "stdout",
     "output_type": "stream",
     "text": [
      "Writing weight file Tensorflow\\workspace\\models\\my_ssd_mobnet\\tfjsexport\\model.json...\n"
     ]
    },
    {
     "name": "stderr",
     "output_type": "stream",
     "text": [
      "2022-01-02 12:13:19.722000: W tensorflow/stream_executor/platform/default/dso_loader.cc:64] Could not load dynamic library 'nvcuda.dll'; dlerror: nvcuda.dll not found\n",
      "2022-01-02 12:13:19.722062: W tensorflow/stream_executor/cuda/cuda_driver.cc:269] failed call to cuInit: UNKNOWN ERROR (303)\n",
      "2022-01-02 12:13:19.729001: I tensorflow/stream_executor/cuda/cuda_diagnostics.cc:169] retrieving CUDA diagnostic information for host: LAPTOP-P1DOFEJU\n",
      "2022-01-02 12:13:19.729178: I tensorflow/stream_executor/cuda/cuda_diagnostics.cc:176] hostname: LAPTOP-P1DOFEJU\n",
      "2022-01-02 12:13:19.729556: I tensorflow/core/platform/cpu_feature_guard.cc:151] This TensorFlow binary is optimized with oneAPI Deep Neural Network Library (oneDNN) to use the following CPU instructions in performance-critical operations:  AVX AVX2\n",
      "To enable them in other operations, rebuild TensorFlow with the appropriate compiler flags.\n",
      "2022-01-02 12:13:38.870092: I tensorflow/core/grappler/devices.cc:66] Number of eligible GPUs (core count >= 8, compute capability >= 0.0): 0\n",
      "2022-01-02 12:13:38.870354: I tensorflow/core/grappler/clusters/single_machine.cc:358] Starting new session\n",
      "2022-01-02 12:13:39.394912: I tensorflow/core/grappler/optimizers/meta_optimizer.cc:1149] Optimization results for grappler item: graph_to_optimize\n",
      "  function_optimizer: Graph size after: 3843 nodes (3433), 5137 edges (4720), time = 332.984ms.\n",
      "  function_optimizer: function_optimizer did nothing. time = 6.259ms.\n",
      "\n",
      "2022-01-02 12:13:46.949330: I tensorflow/core/grappler/optimizers/meta_optimizer.cc:1149] Optimization results for grappler item: graph_to_optimize\n",
      "  debug_stripper: Graph size after: 3553 nodes (0), 4908 edges (0), time = 17.5ms.\n",
      "  model_pruner: Graph size after: 3110 nodes (-443), 4465 edges (-443), time = 91.207ms.\n",
      "  constant_folding: Graph size after: 1529 nodes (-1581), 2635 edges (-1830), time = 286.212ms.\n",
      "  arithmetic_optimizer: Graph size after: 1545 nodes (16), 2645 edges (10), time = 73.545ms.\n",
      "  dependency_optimizer: Graph size after: 1453 nodes (-92), 1648 edges (-997), time = 54.359ms.\n",
      "  model_pruner: Graph size after: 1453 nodes (0), 1648 edges (0), time = 24.526ms.\n",
      "  constant_folding: Graph size after: 1453 nodes (0), 1648 edges (0), time = 89.719ms.\n",
      "  arithmetic_optimizer: Graph size after: 1453 nodes (0), 1648 edges (0), time = 69.233ms.\n",
      "  dependency_optimizer: Graph size after: 1453 nodes (0), 1648 edges (0), time = 43.56ms.\n",
      "  debug_stripper: debug_stripper did nothing. time = 4.106ms.\n",
      "  model_pruner: Graph size after: 1453 nodes (0), 1648 edges (0), time = 25.658ms.\n",
      "  constant_folding: Graph size after: 1453 nodes (0), 1648 edges (0), time = 72.654ms.\n",
      "  arithmetic_optimizer: Graph size after: 1453 nodes (0), 1648 edges (0), time = 68.755ms.\n",
      "  dependency_optimizer: Graph size after: 1453 nodes (0), 1648 edges (0), time = 38.132ms.\n",
      "  model_pruner: Graph size after: 1453 nodes (0), 1648 edges (0), time = 23.618ms.\n",
      "  constant_folding: Graph size after: 1453 nodes (0), 1648 edges (0), time = 86.433ms.\n",
      "  arithmetic_optimizer: Graph size after: 1453 nodes (0), 1648 edges (0), time = 63.643ms.\n",
      "  dependency_optimizer: Graph size after: 1453 nodes (0), 1648 edges (0), time = 43.25ms.\n",
      "\n",
      "2022-01-02 12:14:06.969463: I tensorflow/core/grappler/optimizers/meta_optimizer.cc:1149] Optimization results for grappler item: graph_to_optimize\n",
      "  remapper: Graph size after: 1417 nodes (-112), 1308 edges (-112), time = 21.253ms.\n",
      "  constant_folding: Graph size after: 1113 nodes (-304), 1308 edges (0), time = 97.433ms.\n",
      "  arithmetic_optimizer: Graph size after: 1113 nodes (0), 1308 edges (0), time = 48.051ms.\n",
      "  dependency_optimizer: Graph size after: 1113 nodes (0), 1308 edges (0), time = 25.522ms.\n",
      "  remapper: Graph size after: 1113 nodes (0), 1308 edges (0), time = 18.061ms.\n",
      "  constant_folding: Graph size after: 1113 nodes (0), 1308 edges (0), time = 53.619ms.\n",
      "  arithmetic_optimizer: Graph size after: 1113 nodes (0), 1308 edges (0), time = 47.742ms.\n",
      "  dependency_optimizer: Graph size after: 1113 nodes (0), 1308 edges (0), time = 30.443ms.\n",
      "\n"
     ]
    }
   ],
   "source": [
    "!{command}"
   ]
  },
  {
   "cell_type": "code",
   "execution_count": null,
   "metadata": {
    "id": "o8_hm-itpfDK"
   },
   "outputs": [],
   "source": [
    "# Test Code: https://github.com/nicknochnack/RealTimeSignLanguageDetectionwithTFJS"
   ]
  },
  {
   "cell_type": "markdown",
   "metadata": {
    "id": "VtUw73FHpfDK"
   },
   "source": [
    "# 12. Conversion to TFLite"
   ]
  },
  {
   "cell_type": "code",
   "execution_count": null,
   "metadata": {},
   "outputs": [],
   "source": [
    "it s a file format that is used in mobile applications\n",
    "this file format will be used for raspberry pie project"
   ]
  },
  {
   "cell_type": "code",
   "execution_count": 41,
   "metadata": {
    "id": "XviMtewLpfDK"
   },
   "outputs": [],
   "source": [
    "TFLITE_SCRIPT = os.path.join(paths['APIMODEL_PATH'], 'research', 'object_detection', 'export_tflite_graph_tf2.py ')"
   ]
  },
  {
   "cell_type": "code",
   "execution_count": 42,
   "metadata": {
    "id": "us86cjC4pfDL"
   },
   "outputs": [],
   "source": [
    "command = \"python {} --pipeline_config_path={} --trained_checkpoint_dir={} --output_directory={}\".format(TFLITE_SCRIPT ,files['PIPELINE_CONFIG'], paths['CHECKPOINT_PATH'], paths['TFLITE_PATH'])"
   ]
  },
  {
   "cell_type": "code",
   "execution_count": 43,
   "metadata": {
    "colab": {
     "base_uri": "https://localhost:8080/"
    },
    "id": "n1r5YO3rpfDL",
    "outputId": "5fcdf7a4-eee2-4365-f1ca-1751968379ea"
   },
   "outputs": [
    {
     "name": "stdout",
     "output_type": "stream",
     "text": [
      "python Tensorflow\\models\\research\\object_detection\\export_tflite_graph_tf2.py  --pipeline_config_path=Tensorflow\\workspace\\models\\my_ssd_mobnet\\pipeline.config --trained_checkpoint_dir=Tensorflow\\workspace\\models\\my_ssd_mobnet --output_directory=Tensorflow\\workspace\\models\\my_ssd_mobnet\\tfliteexport\n"
     ]
    }
   ],
   "source": [
    "print(command)"
   ]
  },
  {
   "cell_type": "code",
   "execution_count": 44,
   "metadata": {
    "colab": {
     "base_uri": "https://localhost:8080/"
    },
    "id": "I-xWpHN8pfDL",
    "outputId": "7f6bacd8-d077-43b5-c131-5b081fba24a4"
   },
   "outputs": [
    {
     "name": "stderr",
     "output_type": "stream",
     "text": [
      "2022-01-02 12:15:55.481610: W tensorflow/stream_executor/platform/default/dso_loader.cc:64] Could not load dynamic library 'nvcuda.dll'; dlerror: nvcuda.dll not found\n",
      "2022-01-02 12:15:55.481653: W tensorflow/stream_executor/cuda/cuda_driver.cc:269] failed call to cuInit: UNKNOWN ERROR (303)\n",
      "2022-01-02 12:15:55.486618: I tensorflow/stream_executor/cuda/cuda_diagnostics.cc:169] retrieving CUDA diagnostic information for host: LAPTOP-P1DOFEJU\n",
      "2022-01-02 12:15:55.486838: I tensorflow/stream_executor/cuda/cuda_diagnostics.cc:176] hostname: LAPTOP-P1DOFEJU\n",
      "2022-01-02 12:15:55.498956: I tensorflow/core/platform/cpu_feature_guard.cc:151] This TensorFlow binary is optimized with oneAPI Deep Neural Network Library (oneDNN) to use the following CPU instructions in performance-critical operations:  AVX AVX2\n",
      "To enable them in other operations, rebuild TensorFlow with the appropriate compiler flags.\n",
      "WARNING:tensorflow:Skipping full serialization of Keras layer <object_detection.meta_architectures.ssd_meta_arch.SSDMetaArch object at 0x000001DBD19C7070>, because it is not built.\n",
      "W0102 12:16:13.936624  3348 save_impl.py:71] Skipping full serialization of Keras layer <object_detection.meta_architectures.ssd_meta_arch.SSDMetaArch object at 0x000001DBD19C7070>, because it is not built.\n",
      "WARNING:tensorflow:Skipping full serialization of Keras layer <keras.layers.convolutional.SeparableConv2D object at 0x000001DBD19C7CD0>, because it is not built.\n",
      "W0102 12:16:14.213804  3348 save_impl.py:71] Skipping full serialization of Keras layer <keras.layers.convolutional.SeparableConv2D object at 0x000001DBD19C7CD0>, because it is not built.\n",
      "WARNING:tensorflow:Skipping full serialization of Keras layer <object_detection.core.freezable_batch_norm.FreezableBatchNorm object at 0x000001DBD1CF2610>, because it is not built.\n",
      "W0102 12:16:14.213804  3348 save_impl.py:71] Skipping full serialization of Keras layer <object_detection.core.freezable_batch_norm.FreezableBatchNorm object at 0x000001DBD1CF2610>, because it is not built.\n",
      "WARNING:tensorflow:Skipping full serialization of Keras layer <keras.layers.core.lambda_layer.Lambda object at 0x000001DBD1C9DE20>, because it is not built.\n",
      "W0102 12:16:14.213804  3348 save_impl.py:71] Skipping full serialization of Keras layer <keras.layers.core.lambda_layer.Lambda object at 0x000001DBD1C9DE20>, because it is not built.\n",
      "WARNING:tensorflow:Skipping full serialization of Keras layer <keras.layers.convolutional.SeparableConv2D object at 0x000001DBD1B56610>, because it is not built.\n",
      "W0102 12:16:14.213804  3348 save_impl.py:71] Skipping full serialization of Keras layer <keras.layers.convolutional.SeparableConv2D object at 0x000001DBD1B56610>, because it is not built.\n",
      "WARNING:tensorflow:Skipping full serialization of Keras layer <object_detection.core.freezable_batch_norm.FreezableBatchNorm object at 0x000001DBD1C6E220>, because it is not built.\n",
      "W0102 12:16:14.213804  3348 save_impl.py:71] Skipping full serialization of Keras layer <object_detection.core.freezable_batch_norm.FreezableBatchNorm object at 0x000001DBD1C6E220>, because it is not built.\n",
      "WARNING:tensorflow:Skipping full serialization of Keras layer <keras.layers.core.lambda_layer.Lambda object at 0x000001DBD1BE3D90>, because it is not built.\n",
      "W0102 12:16:14.213804  3348 save_impl.py:71] Skipping full serialization of Keras layer <keras.layers.core.lambda_layer.Lambda object at 0x000001DBD1BE3D90>, because it is not built.\n",
      "WARNING:tensorflow:Skipping full serialization of Keras layer <keras.layers.convolutional.SeparableConv2D object at 0x000001DBD1BF5D00>, because it is not built.\n",
      "W0102 12:16:14.213804  3348 save_impl.py:71] Skipping full serialization of Keras layer <keras.layers.convolutional.SeparableConv2D object at 0x000001DBD1BF5D00>, because it is not built.\n",
      "WARNING:tensorflow:Skipping full serialization of Keras layer <object_detection.core.freezable_batch_norm.FreezableBatchNorm object at 0x000001DBD1C62E20>, because it is not built.\n",
      "W0102 12:16:14.218816  3348 save_impl.py:71] Skipping full serialization of Keras layer <object_detection.core.freezable_batch_norm.FreezableBatchNorm object at 0x000001DBD1C62E20>, because it is not built.\n",
      "WARNING:tensorflow:Skipping full serialization of Keras layer <keras.layers.core.lambda_layer.Lambda object at 0x000001DBD1C48A30>, because it is not built.\n",
      "W0102 12:16:14.218816  3348 save_impl.py:71] Skipping full serialization of Keras layer <keras.layers.core.lambda_layer.Lambda object at 0x000001DBD1C48A30>, because it is not built.\n",
      "WARNING:tensorflow:Skipping full serialization of Keras layer <keras.layers.convolutional.SeparableConv2D object at 0x000001DBD2E589D0>, because it is not built.\n",
      "W0102 12:16:14.218816  3348 save_impl.py:71] Skipping full serialization of Keras layer <keras.layers.convolutional.SeparableConv2D object at 0x000001DBD2E589D0>, because it is not built.\n",
      "WARNING:tensorflow:Skipping full serialization of Keras layer <object_detection.core.freezable_batch_norm.FreezableBatchNorm object at 0x000001DBD1DE37F0>, because it is not built.\n",
      "W0102 12:16:14.218816  3348 save_impl.py:71] Skipping full serialization of Keras layer <object_detection.core.freezable_batch_norm.FreezableBatchNorm object at 0x000001DBD1DE37F0>, because it is not built.\n",
      "WARNING:tensorflow:Skipping full serialization of Keras layer <keras.layers.core.lambda_layer.Lambda object at 0x000001DBD1DBBDC0>, because it is not built.\n",
      "W0102 12:16:14.218816  3348 save_impl.py:71] Skipping full serialization of Keras layer <keras.layers.core.lambda_layer.Lambda object at 0x000001DBD1DBBDC0>, because it is not built.\n",
      "WARNING:tensorflow:Skipping full serialization of Keras layer <object_detection.core.freezable_batch_norm.FreezableBatchNorm object at 0x000001DBD1BCA5E0>, because it is not built.\n",
      "W0102 12:16:14.218816  3348 save_impl.py:71] Skipping full serialization of Keras layer <object_detection.core.freezable_batch_norm.FreezableBatchNorm object at 0x000001DBD1BCA5E0>, because it is not built.\n",
      "WARNING:tensorflow:Skipping full serialization of Keras layer <keras.layers.core.lambda_layer.Lambda object at 0x000001DBD1C807C0>, because it is not built.\n",
      "W0102 12:16:14.218816  3348 save_impl.py:71] Skipping full serialization of Keras layer <keras.layers.core.lambda_layer.Lambda object at 0x000001DBD1C807C0>, because it is not built.\n",
      "WARNING:tensorflow:Skipping full serialization of Keras layer <object_detection.core.freezable_batch_norm.FreezableBatchNorm object at 0x000001DBD1DDD9A0>, because it is not built.\n",
      "W0102 12:16:14.218816  3348 save_impl.py:71] Skipping full serialization of Keras layer <object_detection.core.freezable_batch_norm.FreezableBatchNorm object at 0x000001DBD1DDD9A0>, because it is not built.\n",
      "WARNING:tensorflow:Skipping full serialization of Keras layer <keras.layers.core.lambda_layer.Lambda object at 0x000001DBD1DDDAF0>, because it is not built.\n",
      "W0102 12:16:14.218816  3348 save_impl.py:71] Skipping full serialization of Keras layer <keras.layers.core.lambda_layer.Lambda object at 0x000001DBD1DDDAF0>, because it is not built.\n",
      "WARNING:tensorflow:Skipping full serialization of Keras layer <object_detection.core.freezable_batch_norm.FreezableBatchNorm object at 0x000001DBD1DDDC40>, because it is not built.\n",
      "W0102 12:16:14.218816  3348 save_impl.py:71] Skipping full serialization of Keras layer <object_detection.core.freezable_batch_norm.FreezableBatchNorm object at 0x000001DBD1DDDC40>, because it is not built.\n",
      "WARNING:tensorflow:Skipping full serialization of Keras layer <keras.layers.core.lambda_layer.Lambda object at 0x000001DBD1D29760>, because it is not built.\n",
      "W0102 12:16:14.218816  3348 save_impl.py:71] Skipping full serialization of Keras layer <keras.layers.core.lambda_layer.Lambda object at 0x000001DBD1D29760>, because it is not built.\n",
      "WARNING:tensorflow:Skipping full serialization of Keras layer <object_detection.core.freezable_batch_norm.FreezableBatchNorm object at 0x000001DBD30F19D0>, because it is not built.\n",
      "W0102 12:16:14.218816  3348 save_impl.py:71] Skipping full serialization of Keras layer <object_detection.core.freezable_batch_norm.FreezableBatchNorm object at 0x000001DBD30F19D0>, because it is not built.\n",
      "WARNING:tensorflow:Skipping full serialization of Keras layer <keras.layers.core.lambda_layer.Lambda object at 0x000001DBD30F15E0>, because it is not built.\n",
      "W0102 12:16:14.218816  3348 save_impl.py:71] Skipping full serialization of Keras layer <keras.layers.core.lambda_layer.Lambda object at 0x000001DBD30F15E0>, because it is not built.\n",
      "WARNING:tensorflow:Skipping full serialization of Keras layer <object_detection.core.freezable_batch_norm.FreezableBatchNorm object at 0x000001DBD1BCA610>, because it is not built.\n",
      "W0102 12:16:14.218816  3348 save_impl.py:71] Skipping full serialization of Keras layer <object_detection.core.freezable_batch_norm.FreezableBatchNorm object at 0x000001DBD1BCA610>, because it is not built.\n",
      "WARNING:tensorflow:Skipping full serialization of Keras layer <keras.layers.core.lambda_layer.Lambda object at 0x000001DBD1B2C820>, because it is not built.\n",
      "W0102 12:16:14.218816  3348 save_impl.py:71] Skipping full serialization of Keras layer <keras.layers.core.lambda_layer.Lambda object at 0x000001DBD1B2C820>, because it is not built.\n",
      "WARNING:tensorflow:Skipping full serialization of Keras layer <object_detection.core.freezable_batch_norm.FreezableBatchNorm object at 0x000001DBD33EACA0>, because it is not built.\n",
      "W0102 12:16:14.218816  3348 save_impl.py:71] Skipping full serialization of Keras layer <object_detection.core.freezable_batch_norm.FreezableBatchNorm object at 0x000001DBD33EACA0>, because it is not built.\n",
      "WARNING:tensorflow:Skipping full serialization of Keras layer <keras.layers.core.lambda_layer.Lambda object at 0x000001DBD33EACD0>, because it is not built.\n",
      "W0102 12:16:14.218816  3348 save_impl.py:71] Skipping full serialization of Keras layer <keras.layers.core.lambda_layer.Lambda object at 0x000001DBD33EACD0>, because it is not built.\n",
      "WARNING:tensorflow:Skipping full serialization of Keras layer <object_detection.core.freezable_batch_norm.FreezableBatchNorm object at 0x000001DBD33EA880>, because it is not built.\n",
      "W0102 12:16:14.218816  3348 save_impl.py:71] Skipping full serialization of Keras layer <object_detection.core.freezable_batch_norm.FreezableBatchNorm object at 0x000001DBD33EA880>, because it is not built.\n",
      "WARNING:tensorflow:Skipping full serialization of Keras layer <keras.layers.core.lambda_layer.Lambda object at 0x000001DBD33EAA90>, because it is not built.\n",
      "W0102 12:16:14.218816  3348 save_impl.py:71] Skipping full serialization of Keras layer <keras.layers.core.lambda_layer.Lambda object at 0x000001DBD33EAA90>, because it is not built.\n",
      "WARNING:tensorflow:Skipping full serialization of Keras layer <object_detection.core.freezable_batch_norm.FreezableBatchNorm object at 0x000001DBD33EA160>, because it is not built.\n",
      "W0102 12:16:14.218816  3348 save_impl.py:71] Skipping full serialization of Keras layer <object_detection.core.freezable_batch_norm.FreezableBatchNorm object at 0x000001DBD33EA160>, because it is not built.\n",
      "WARNING:tensorflow:Skipping full serialization of Keras layer <keras.layers.core.lambda_layer.Lambda object at 0x000001DBD33EA400>, because it is not built.\n",
      "W0102 12:16:14.218816  3348 save_impl.py:71] Skipping full serialization of Keras layer <keras.layers.core.lambda_layer.Lambda object at 0x000001DBD33EA400>, because it is not built.\n",
      "WARNING:tensorflow:Skipping full serialization of Keras layer <object_detection.core.freezable_batch_norm.FreezableBatchNorm object at 0x000001DBD1BCA640>, because it is not built.\n",
      "W0102 12:16:14.218816  3348 save_impl.py:71] Skipping full serialization of Keras layer <object_detection.core.freezable_batch_norm.FreezableBatchNorm object at 0x000001DBD1BCA640>, because it is not built.\n",
      "WARNING:tensorflow:Skipping full serialization of Keras layer <keras.layers.core.lambda_layer.Lambda object at 0x000001DBD1C3D760>, because it is not built.\n",
      "W0102 12:16:14.218816  3348 save_impl.py:71] Skipping full serialization of Keras layer <keras.layers.core.lambda_layer.Lambda object at 0x000001DBD1C3D760>, because it is not built.\n",
      "WARNING:tensorflow:Skipping full serialization of Keras layer <object_detection.core.freezable_batch_norm.FreezableBatchNorm object at 0x000001DBD33F19D0>, because it is not built.\n",
      "W0102 12:16:14.218816  3348 save_impl.py:71] Skipping full serialization of Keras layer <object_detection.core.freezable_batch_norm.FreezableBatchNorm object at 0x000001DBD33F19D0>, because it is not built.\n",
      "WARNING:tensorflow:Skipping full serialization of Keras layer <keras.layers.core.lambda_layer.Lambda object at 0x000001DBD33F1FA0>, because it is not built.\n",
      "W0102 12:16:14.218816  3348 save_impl.py:71] Skipping full serialization of Keras layer <keras.layers.core.lambda_layer.Lambda object at 0x000001DBD33F1FA0>, because it is not built.\n",
      "WARNING:tensorflow:Skipping full serialization of Keras layer <object_detection.core.freezable_batch_norm.FreezableBatchNorm object at 0x000001DBD33F1A90>, because it is not built.\n",
      "W0102 12:16:14.218816  3348 save_impl.py:71] Skipping full serialization of Keras layer <object_detection.core.freezable_batch_norm.FreezableBatchNorm object at 0x000001DBD33F1A90>, because it is not built.\n",
      "WARNING:tensorflow:Skipping full serialization of Keras layer <keras.layers.core.lambda_layer.Lambda object at 0x000001DBD33F16A0>, because it is not built.\n",
      "W0102 12:16:14.218816  3348 save_impl.py:71] Skipping full serialization of Keras layer <keras.layers.core.lambda_layer.Lambda object at 0x000001DBD33F16A0>, because it is not built.\n",
      "WARNING:tensorflow:Skipping full serialization of Keras layer <object_detection.core.freezable_batch_norm.FreezableBatchNorm object at 0x000001DBD33F1F70>, because it is not built.\n",
      "W0102 12:16:14.218816  3348 save_impl.py:71] Skipping full serialization of Keras layer <object_detection.core.freezable_batch_norm.FreezableBatchNorm object at 0x000001DBD33F1F70>, because it is not built.\n",
      "WARNING:tensorflow:Skipping full serialization of Keras layer <keras.layers.core.lambda_layer.Lambda object at 0x000001DBD33F14F0>, because it is not built.\n",
      "W0102 12:16:14.218816  3348 save_impl.py:71] Skipping full serialization of Keras layer <keras.layers.core.lambda_layer.Lambda object at 0x000001DBD33F14F0>, because it is not built.\n",
      "WARNING:tensorflow:Skipping full serialization of Keras layer <object_detection.core.freezable_batch_norm.FreezableBatchNorm object at 0x000001DBD1B71880>, because it is not built.\n",
      "W0102 12:16:14.218816  3348 save_impl.py:71] Skipping full serialization of Keras layer <object_detection.core.freezable_batch_norm.FreezableBatchNorm object at 0x000001DBD1B71880>, because it is not built.\n",
      "WARNING:tensorflow:Skipping full serialization of Keras layer <keras.layers.core.lambda_layer.Lambda object at 0x000001DBD2ECEC70>, because it is not built.\n",
      "W0102 12:16:14.218816  3348 save_impl.py:71] Skipping full serialization of Keras layer <keras.layers.core.lambda_layer.Lambda object at 0x000001DBD2ECEC70>, because it is not built.\n",
      "WARNING:tensorflow:Skipping full serialization of Keras layer <object_detection.core.freezable_batch_norm.FreezableBatchNorm object at 0x000001DBD3408400>, because it is not built.\n",
      "W0102 12:16:14.218816  3348 save_impl.py:71] Skipping full serialization of Keras layer <object_detection.core.freezable_batch_norm.FreezableBatchNorm object at 0x000001DBD3408400>, because it is not built.\n",
      "WARNING:tensorflow:Skipping full serialization of Keras layer <keras.layers.core.lambda_layer.Lambda object at 0x000001DBD3408F10>, because it is not built.\n",
      "W0102 12:16:14.218816  3348 save_impl.py:71] Skipping full serialization of Keras layer <keras.layers.core.lambda_layer.Lambda object at 0x000001DBD3408F10>, because it is not built.\n",
      "WARNING:tensorflow:Skipping full serialization of Keras layer <object_detection.core.freezable_batch_norm.FreezableBatchNorm object at 0x000001DBD3408130>, because it is not built.\n",
      "W0102 12:16:14.218816  3348 save_impl.py:71] Skipping full serialization of Keras layer <object_detection.core.freezable_batch_norm.FreezableBatchNorm object at 0x000001DBD3408130>, because it is not built.\n",
      "WARNING:tensorflow:Skipping full serialization of Keras layer <keras.layers.core.lambda_layer.Lambda object at 0x000001DBD3408FD0>, because it is not built.\n",
      "W0102 12:16:14.218816  3348 save_impl.py:71] Skipping full serialization of Keras layer <keras.layers.core.lambda_layer.Lambda object at 0x000001DBD3408FD0>, because it is not built.\n",
      "WARNING:tensorflow:Skipping full serialization of Keras layer <object_detection.core.freezable_batch_norm.FreezableBatchNorm object at 0x000001DBD3408A30>, because it is not built.\n",
      "W0102 12:16:14.218816  3348 save_impl.py:71] Skipping full serialization of Keras layer <object_detection.core.freezable_batch_norm.FreezableBatchNorm object at 0x000001DBD3408A30>, because it is not built.\n",
      "WARNING:tensorflow:Skipping full serialization of Keras layer <keras.layers.core.lambda_layer.Lambda object at 0x000001DBD3408D00>, because it is not built.\n",
      "W0102 12:16:14.218816  3348 save_impl.py:71] Skipping full serialization of Keras layer <keras.layers.core.lambda_layer.Lambda object at 0x000001DBD3408D00>, because it is not built.\n",
      "2022-01-02 12:16:32.166274: W tensorflow/python/util/util.cc:368] Sets are not currently considered sequences, but this may change in the future, so consider avoiding using them.\n",
      "W0102 12:16:54.428277  3348 save.py:263] Found untraced functions such as WeightSharedConvolutionalBoxPredictor_layer_call_fn, WeightSharedConvolutionalBoxPredictor_layer_call_and_return_conditional_losses, WeightSharedConvolutionalBoxHead_layer_call_fn, WeightSharedConvolutionalBoxHead_layer_call_and_return_conditional_losses, WeightSharedConvolutionalBoxPredictor_layer_call_fn while saving (showing 5 of 260). These functions will not be directly callable after loading.\n",
      "INFO:tensorflow:Assets written to: Tensorflow\\workspace\\models\\my_ssd_mobnet\\tfliteexport\\saved_model\\assets\n",
      "I0102 12:17:02.938125  3348 builder_impl.py:783] Assets written to: Tensorflow\\workspace\\models\\my_ssd_mobnet\\tfliteexport\\saved_model\\assets\n"
     ]
    }
   ],
   "source": [
    "!{command}"
   ]
  },
  {
   "cell_type": "code",
   "execution_count": 45,
   "metadata": {
    "id": "iJfYMbN6pfDL"
   },
   "outputs": [],
   "source": [
    "FROZEN_TFLITE_PATH = os.path.join(paths['TFLITE_PATH'], 'saved_model')\n",
    "TFLITE_MODEL = os.path.join(paths['TFLITE_PATH'], 'saved_model', 'detect.tflite')"
   ]
  },
  {
   "cell_type": "code",
   "execution_count": 46,
   "metadata": {},
   "outputs": [],
   "source": [
    "command = \"tflite_convert \\\n",
    "--saved_model_dir={} \\\n",
    "--output_file={} \\\n",
    "--input_shapes=1,300,300,3 \\\n",
    "--input_arrays=normalized_input_image_tensor \\\n",
    "--output_arrays='TFLite_Detection_PostProcess','TFLite_Detection_PostProcess:1','TFLite_Detection_PostProcess:2','TFLite_Detection_PostProcess:3' \\\n",
    "--inference_type=FLOAT \\\n",
    "--allow_custom_ops\".format(FROZEN_TFLITE_PATH, TFLITE_MODEL, )"
   ]
  },
  {
   "cell_type": "code",
   "execution_count": 47,
   "metadata": {
    "colab": {
     "base_uri": "https://localhost:8080/"
    },
    "id": "E8GwUeoFpfDL",
    "outputId": "fac43ea4-cc85-471b-a362-e994b06fd583"
   },
   "outputs": [
    {
     "name": "stdout",
     "output_type": "stream",
     "text": [
      "tflite_convert --saved_model_dir=Tensorflow\\workspace\\models\\my_ssd_mobnet\\tfliteexport\\saved_model --output_file=Tensorflow\\workspace\\models\\my_ssd_mobnet\\tfliteexport\\saved_model\\detect.tflite --input_shapes=1,300,300,3 --input_arrays=normalized_input_image_tensor --output_arrays='TFLite_Detection_PostProcess','TFLite_Detection_PostProcess:1','TFLite_Detection_PostProcess:2','TFLite_Detection_PostProcess:3' --inference_type=FLOAT --allow_custom_ops\n"
     ]
    }
   ],
   "source": [
    "print(command)"
   ]
  },
  {
   "cell_type": "code",
   "execution_count": 48,
   "metadata": {
    "colab": {
     "base_uri": "https://localhost:8080/"
    },
    "id": "Nbd7gqHMpfDL",
    "outputId": "7c8fe6d5-2415-4641-8548-39d425c202f7"
   },
   "outputs": [
    {
     "name": "stdout",
     "output_type": "stream",
     "text": [
      "Estimated count of arithmetic ops: 1.710 G  ops, equivalently 0.855 G  MACs\n"
     ]
    },
    {
     "name": "stderr",
     "output_type": "stream",
     "text": [
      "2022-01-02 12:17:11.504980: W tensorflow/stream_executor/platform/default/dso_loader.cc:64] Could not load dynamic library 'nvcuda.dll'; dlerror: nvcuda.dll not found\n",
      "2022-01-02 12:17:11.505025: W tensorflow/stream_executor/cuda/cuda_driver.cc:269] failed call to cuInit: UNKNOWN ERROR (303)\n",
      "2022-01-02 12:17:11.509717: I tensorflow/stream_executor/cuda/cuda_diagnostics.cc:169] retrieving CUDA diagnostic information for host: LAPTOP-P1DOFEJU\n",
      "2022-01-02 12:17:11.509884: I tensorflow/stream_executor/cuda/cuda_diagnostics.cc:176] hostname: LAPTOP-P1DOFEJU\n",
      "2022-01-02 12:17:12.536723: I tensorflow/core/platform/cpu_feature_guard.cc:151] This TensorFlow binary is optimized with oneAPI Deep Neural Network Library (oneDNN) to use the following CPU instructions in performance-critical operations:  AVX AVX2\n",
      "To enable them in other operations, rebuild TensorFlow with the appropriate compiler flags.\n",
      "2022-01-02 12:17:31.295534: W tensorflow/compiler/mlir/lite/python/tf_tfl_flatbuffer_helpers.cc:363] Ignored output_format.\n",
      "2022-01-02 12:17:31.295571: W tensorflow/compiler/mlir/lite/python/tf_tfl_flatbuffer_helpers.cc:366] Ignored drop_control_dependency.\n",
      "2022-01-02 12:17:31.295593: W tensorflow/compiler/mlir/lite/python/tf_tfl_flatbuffer_helpers.cc:372] Ignored change_concat_input_ranges.\n",
      "2022-01-02 12:17:31.297598: I tensorflow/cc/saved_model/reader.cc:43] Reading SavedModel from: Tensorflow\\workspace\\models\\my_ssd_mobnet\\tfliteexport\\saved_model\n",
      "2022-01-02 12:17:31.443454: I tensorflow/cc/saved_model/reader.cc:107] Reading meta graph with tags { serve }\n",
      "2022-01-02 12:17:31.443509: I tensorflow/cc/saved_model/reader.cc:148] Reading SavedModel debug info (if present) from: Tensorflow\\workspace\\models\\my_ssd_mobnet\\tfliteexport\\saved_model\n",
      "2022-01-02 12:17:32.034488: I tensorflow/cc/saved_model/loader.cc:210] Restoring SavedModel bundle.\n",
      "2022-01-02 12:17:33.860731: I tensorflow/cc/saved_model/loader.cc:194] Running initialization op on SavedModel bundle at path: Tensorflow\\workspace\\models\\my_ssd_mobnet\\tfliteexport\\saved_model\n",
      "2022-01-02 12:17:34.829912: I tensorflow/cc/saved_model/loader.cc:283] SavedModel load for tags { serve }; Status: success: OK. Took 3532291 microseconds.\n",
      "2022-01-02 12:17:36.578507: I tensorflow/compiler/mlir/tensorflow/utils/dump_mlir_util.cc:237] disabling MLIR crash reproducer, set env var `MLIR_CRASH_REPRODUCER_DIRECTORY` to enable.\n",
      "2022-01-02 12:17:38.246637: I tensorflow/compiler/mlir/lite/flatbuffer_export.cc:1962] Estimated count of arithmetic ops: 1.710 G  ops, equivalently 0.855 G  MACs\n",
      "\n",
      "W0102 12:17:38.687622 12408 lite.py:741] Buffer deduplication procedure will be skipped when flatbuffer library is not properly loaded\n"
     ]
    }
   ],
   "source": [
    "!{command}"
   ]
  },
  {
   "cell_type": "markdown",
   "metadata": {
    "id": "5NQqZRdA21Uc"
   },
   "source": [
    "# 13. Zip and Export Models "
   ]
  },
  {
   "cell_type": "code",
   "execution_count": null,
   "metadata": {
    "id": "tTVTGCQp2ZJJ"
   },
   "outputs": [],
   "source": [
    "!tar -czf models.tar.gz {paths['CHECKPOINT_PATH']}"
   ]
  },
  {
   "cell_type": "code",
   "execution_count": null,
   "metadata": {
    "colab": {
     "base_uri": "https://localhost:8080/"
    },
    "id": "whShhB0x3PYJ",
    "outputId": "b773201d-35c9-46a8-b893-4a76bd4d5d97"
   },
   "outputs": [],
   "source": [
    "from google.colab import drive\n",
    "drive.mount('/content/drive')"
   ]
  }
 ],
 "metadata": {
  "accelerator": "GPU",
  "colab": {
   "name": "3. Training and Detection.ipynb",
   "provenance": []
  },
  "kernelspec": {
   "display_name": "tfod",
   "language": "python",
   "name": "tfod"
  },
  "language_info": {
   "codemirror_mode": {
    "name": "ipython",
    "version": 3
   },
   "file_extension": ".py",
   "mimetype": "text/x-python",
   "name": "python",
   "nbconvert_exporter": "python",
   "pygments_lexer": "ipython3",
   "version": "3.8.8"
  }
 },
 "nbformat": 4,
 "nbformat_minor": 1
}
